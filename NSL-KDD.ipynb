{
 "cells": [
  {
   "cell_type": "code",
   "execution_count": 23,
   "metadata": {},
   "outputs": [],
   "source": [
    "import warnings\n",
    "warnings.filterwarnings('ignore')"
   ]
  },
  {
   "cell_type": "code",
   "execution_count": 24,
   "metadata": {},
   "outputs": [],
   "source": [
    "import numpy as np\n",
    "import pandas as pd\n",
    "import pickle # saving and loading trained model\n",
    "from os import path\n",
    "\n",
    "# importing required libraries for normalizing data\n",
    "from sklearn import preprocessing\n",
    "from sklearn.preprocessing import (StandardScaler, OrdinalEncoder,LabelEncoder, MinMaxScaler, OneHotEncoder)\n",
    "from sklearn.preprocessing import Normalizer, MaxAbsScaler , RobustScaler, PowerTransformer\n",
    "\n",
    "# importing library for plotting\n",
    "import matplotlib.pyplot as plt\n",
    "import seaborn as sns\n",
    "\n",
    "from sklearn import metrics\n",
    "from sklearn.metrics import accuracy_score # for calculating accuracy of model\n",
    "from sklearn.model_selection import train_test_split # for splitting the dataset for training and testing\n",
    "from sklearn.metrics import classification_report # for generating a classification report of model\n",
    "\n",
    "from sklearn.metrics import precision_score\n",
    "from sklearn.metrics import recall_score\n",
    "from sklearn.metrics import f1_score\n",
    "\n",
    "import tensorflow as tf\n",
    "from tensorflow.keras.utils import to_categorical\n",
    "\n",
    "from keras.layers import Dense, Conv1D, MaxPool1D, Flatten, Dropout # importing dense layer\n",
    "from keras.models import Sequential #importing Sequential layer\n",
    "from keras.layers import Input\n",
    "from keras.models import Model\n",
    "# representation of model layers\n",
    "from keras.utils.vis_utils import plot_model"
   ]
  },
  {
   "cell_type": "code",
   "execution_count": 25,
   "metadata": {},
   "outputs": [
    {
     "name": "stdout",
     "output_type": "stream",
     "text": [
      "1 Physical GPU, 2 Logical GPUs\n"
     ]
    }
   ],
   "source": [
    "import tensorflow as tf\n",
    "gpus = tf.config.list_physical_devices('GPU')\n",
    "if gpus:\n",
    "  # Create 2 virtual GPUs with 1GB memory each\n",
    "  try:\n",
    "    tf.config.set_logical_device_configuration(\n",
    "        gpus[0],\n",
    "        [tf.config.LogicalDeviceConfiguration(memory_limit=1024),\n",
    "         tf.config.LogicalDeviceConfiguration(memory_limit=1024)])\n",
    "    logical_gpus = tf.config.list_logical_devices('GPU')\n",
    "    print(len(gpus), \"Physical GPU,\", len(logical_gpus), \"Logical GPUs\")\n",
    "  except RuntimeError as e:\n",
    "    # Virtual devices must be set before GPUs have been initialized\n",
    "    print(e)"
   ]
  },
  {
   "cell_type": "code",
   "execution_count": 26,
   "metadata": {},
   "outputs": [],
   "source": [
    "feature=[\"duration\",\"protocol_type\",\"service\",\"flag\",\"src_bytes\",\"dst_bytes\",\"land\",\"wrong_fragment\",\"urgent\",\"hot\",\n",
    "          \"num_failed_logins\",\"logged_in\",\"num_compromised\",\"root_shell\",\"su_attempted\",\"num_root\",\"num_file_creations\",\"num_shells\",\n",
    "          \"num_access_files\",\"num_outbound_cmds\",\"is_host_login\",\"is_guest_login\",\"count\",\"srv_count\",\"serror_rate\",\"srv_serror_rate\",\n",
    "          \"rerror_rate\",\"srv_rerror_rate\",\"same_srv_rate\",\"diff_srv_rate\",\"srv_diff_host_rate\",\"dst_host_count\",\"dst_host_srv_count\", \n",
    "          \"dst_host_same_srv_rate\",\"dst_host_diff_srv_rate\",\"dst_host_same_src_port_rate\",\"dst_host_srv_diff_host_rate\",\"dst_host_serror_rate\",\n",
    "          \"dst_host_srv_serror_rate\",\"dst_host_rerror_rate\",\"dst_host_srv_rerror_rate\",\"label\",\"difficulty\"]"
   ]
  },
  {
   "cell_type": "code",
   "execution_count": 27,
   "metadata": {},
   "outputs": [],
   "source": [
    "train='nsl-kdd/KDDTrain+.txt'\n",
    "test='nsl-kdd/KDDTest+.txt'\n",
    "test21='nsl-kdd/KDDTest-21.txt'\n",
    "train_data=pd.read_csv(train,names=feature)"
   ]
  },
  {
   "cell_type": "code",
   "execution_count": 28,
   "metadata": {},
   "outputs": [
    {
     "data": {
      "text/html": [
       "<div>\n",
       "<style scoped>\n",
       "    .dataframe tbody tr th:only-of-type {\n",
       "        vertical-align: middle;\n",
       "    }\n",
       "\n",
       "    .dataframe tbody tr th {\n",
       "        vertical-align: top;\n",
       "    }\n",
       "\n",
       "    .dataframe thead th {\n",
       "        text-align: right;\n",
       "    }\n",
       "</style>\n",
       "<table border=\"1\" class=\"dataframe\">\n",
       "  <thead>\n",
       "    <tr style=\"text-align: right;\">\n",
       "      <th></th>\n",
       "      <th>duration</th>\n",
       "      <th>protocol_type</th>\n",
       "      <th>service</th>\n",
       "      <th>flag</th>\n",
       "      <th>src_bytes</th>\n",
       "      <th>dst_bytes</th>\n",
       "      <th>land</th>\n",
       "      <th>wrong_fragment</th>\n",
       "      <th>urgent</th>\n",
       "      <th>hot</th>\n",
       "      <th>...</th>\n",
       "      <th>dst_host_same_srv_rate</th>\n",
       "      <th>dst_host_diff_srv_rate</th>\n",
       "      <th>dst_host_same_src_port_rate</th>\n",
       "      <th>dst_host_srv_diff_host_rate</th>\n",
       "      <th>dst_host_serror_rate</th>\n",
       "      <th>dst_host_srv_serror_rate</th>\n",
       "      <th>dst_host_rerror_rate</th>\n",
       "      <th>dst_host_srv_rerror_rate</th>\n",
       "      <th>label</th>\n",
       "      <th>difficulty</th>\n",
       "    </tr>\n",
       "  </thead>\n",
       "  <tbody>\n",
       "    <tr>\n",
       "      <th>0</th>\n",
       "      <td>0</td>\n",
       "      <td>tcp</td>\n",
       "      <td>ftp_data</td>\n",
       "      <td>SF</td>\n",
       "      <td>491</td>\n",
       "      <td>0</td>\n",
       "      <td>0</td>\n",
       "      <td>0</td>\n",
       "      <td>0</td>\n",
       "      <td>0</td>\n",
       "      <td>...</td>\n",
       "      <td>0.17</td>\n",
       "      <td>0.03</td>\n",
       "      <td>0.17</td>\n",
       "      <td>0.00</td>\n",
       "      <td>0.00</td>\n",
       "      <td>0.00</td>\n",
       "      <td>0.05</td>\n",
       "      <td>0.00</td>\n",
       "      <td>normal</td>\n",
       "      <td>20</td>\n",
       "    </tr>\n",
       "    <tr>\n",
       "      <th>1</th>\n",
       "      <td>0</td>\n",
       "      <td>udp</td>\n",
       "      <td>other</td>\n",
       "      <td>SF</td>\n",
       "      <td>146</td>\n",
       "      <td>0</td>\n",
       "      <td>0</td>\n",
       "      <td>0</td>\n",
       "      <td>0</td>\n",
       "      <td>0</td>\n",
       "      <td>...</td>\n",
       "      <td>0.00</td>\n",
       "      <td>0.60</td>\n",
       "      <td>0.88</td>\n",
       "      <td>0.00</td>\n",
       "      <td>0.00</td>\n",
       "      <td>0.00</td>\n",
       "      <td>0.00</td>\n",
       "      <td>0.00</td>\n",
       "      <td>normal</td>\n",
       "      <td>15</td>\n",
       "    </tr>\n",
       "    <tr>\n",
       "      <th>2</th>\n",
       "      <td>0</td>\n",
       "      <td>tcp</td>\n",
       "      <td>private</td>\n",
       "      <td>S0</td>\n",
       "      <td>0</td>\n",
       "      <td>0</td>\n",
       "      <td>0</td>\n",
       "      <td>0</td>\n",
       "      <td>0</td>\n",
       "      <td>0</td>\n",
       "      <td>...</td>\n",
       "      <td>0.10</td>\n",
       "      <td>0.05</td>\n",
       "      <td>0.00</td>\n",
       "      <td>0.00</td>\n",
       "      <td>1.00</td>\n",
       "      <td>1.00</td>\n",
       "      <td>0.00</td>\n",
       "      <td>0.00</td>\n",
       "      <td>neptune</td>\n",
       "      <td>19</td>\n",
       "    </tr>\n",
       "    <tr>\n",
       "      <th>3</th>\n",
       "      <td>0</td>\n",
       "      <td>tcp</td>\n",
       "      <td>http</td>\n",
       "      <td>SF</td>\n",
       "      <td>232</td>\n",
       "      <td>8153</td>\n",
       "      <td>0</td>\n",
       "      <td>0</td>\n",
       "      <td>0</td>\n",
       "      <td>0</td>\n",
       "      <td>...</td>\n",
       "      <td>1.00</td>\n",
       "      <td>0.00</td>\n",
       "      <td>0.03</td>\n",
       "      <td>0.04</td>\n",
       "      <td>0.03</td>\n",
       "      <td>0.01</td>\n",
       "      <td>0.00</td>\n",
       "      <td>0.01</td>\n",
       "      <td>normal</td>\n",
       "      <td>21</td>\n",
       "    </tr>\n",
       "    <tr>\n",
       "      <th>4</th>\n",
       "      <td>0</td>\n",
       "      <td>tcp</td>\n",
       "      <td>http</td>\n",
       "      <td>SF</td>\n",
       "      <td>199</td>\n",
       "      <td>420</td>\n",
       "      <td>0</td>\n",
       "      <td>0</td>\n",
       "      <td>0</td>\n",
       "      <td>0</td>\n",
       "      <td>...</td>\n",
       "      <td>1.00</td>\n",
       "      <td>0.00</td>\n",
       "      <td>0.00</td>\n",
       "      <td>0.00</td>\n",
       "      <td>0.00</td>\n",
       "      <td>0.00</td>\n",
       "      <td>0.00</td>\n",
       "      <td>0.00</td>\n",
       "      <td>normal</td>\n",
       "      <td>21</td>\n",
       "    </tr>\n",
       "  </tbody>\n",
       "</table>\n",
       "<p>5 rows × 43 columns</p>\n",
       "</div>"
      ],
      "text/plain": [
       "   duration protocol_type   service flag  src_bytes  dst_bytes  land  \\\n",
       "0         0           tcp  ftp_data   SF        491          0     0   \n",
       "1         0           udp     other   SF        146          0     0   \n",
       "2         0           tcp   private   S0          0          0     0   \n",
       "3         0           tcp      http   SF        232       8153     0   \n",
       "4         0           tcp      http   SF        199        420     0   \n",
       "\n",
       "   wrong_fragment  urgent  hot  ...  dst_host_same_srv_rate  \\\n",
       "0               0       0    0  ...                    0.17   \n",
       "1               0       0    0  ...                    0.00   \n",
       "2               0       0    0  ...                    0.10   \n",
       "3               0       0    0  ...                    1.00   \n",
       "4               0       0    0  ...                    1.00   \n",
       "\n",
       "   dst_host_diff_srv_rate  dst_host_same_src_port_rate  \\\n",
       "0                    0.03                         0.17   \n",
       "1                    0.60                         0.88   \n",
       "2                    0.05                         0.00   \n",
       "3                    0.00                         0.03   \n",
       "4                    0.00                         0.00   \n",
       "\n",
       "   dst_host_srv_diff_host_rate  dst_host_serror_rate  \\\n",
       "0                         0.00                  0.00   \n",
       "1                         0.00                  0.00   \n",
       "2                         0.00                  1.00   \n",
       "3                         0.04                  0.03   \n",
       "4                         0.00                  0.00   \n",
       "\n",
       "   dst_host_srv_serror_rate  dst_host_rerror_rate  dst_host_srv_rerror_rate  \\\n",
       "0                      0.00                  0.05                      0.00   \n",
       "1                      0.00                  0.00                      0.00   \n",
       "2                      1.00                  0.00                      0.00   \n",
       "3                      0.01                  0.00                      0.01   \n",
       "4                      0.00                  0.00                      0.00   \n",
       "\n",
       "     label  difficulty  \n",
       "0   normal          20  \n",
       "1   normal          15  \n",
       "2  neptune          19  \n",
       "3   normal          21  \n",
       "4   normal          21  \n",
       "\n",
       "[5 rows x 43 columns]"
      ]
     },
     "execution_count": 28,
     "metadata": {},
     "output_type": "execute_result"
    }
   ],
   "source": [
    "train_data.head()"
   ]
  },
  {
   "cell_type": "code",
   "execution_count": 29,
   "metadata": {},
   "outputs": [
    {
     "data": {
      "text/plain": [
       "(125973, 42)"
      ]
     },
     "execution_count": 29,
     "metadata": {},
     "output_type": "execute_result"
    }
   ],
   "source": [
    "# remove attribute 'difficulty_level'\n",
    "train_data.drop(['difficulty'],axis=1,inplace=True)\n",
    "train_data.shape"
   ]
  },
  {
   "cell_type": "code",
   "execution_count": 30,
   "metadata": {},
   "outputs": [
    {
     "data": {
      "text/plain": [
       "normal             67343\n",
       "neptune            41214\n",
       "satan               3633\n",
       "ipsweep             3599\n",
       "portsweep           2931\n",
       "smurf               2646\n",
       "nmap                1493\n",
       "back                 956\n",
       "teardrop             892\n",
       "warezclient          890\n",
       "pod                  201\n",
       "guess_passwd          53\n",
       "buffer_overflow       30\n",
       "warezmaster           20\n",
       "land                  18\n",
       "imap                  11\n",
       "rootkit               10\n",
       "loadmodule             9\n",
       "ftp_write              8\n",
       "multihop               7\n",
       "phf                    4\n",
       "perl                   3\n",
       "spy                    2\n",
       "Name: label, dtype: int64"
      ]
     },
     "execution_count": 30,
     "metadata": {},
     "output_type": "execute_result"
    }
   ],
   "source": [
    "# number of attack labels \n",
    "train_data['label'].value_counts()"
   ]
  },
  {
   "cell_type": "code",
   "execution_count": 31,
   "metadata": {},
   "outputs": [],
   "source": [
    "def change_label(df):\n",
    "  df.label.replace(['apache2','back','land','neptune','mailbomb','pod','processtable','smurf','teardrop','udpstorm','worm'],'Dos',inplace=True)\n",
    "  df.label.replace(['ftp_write','guess_passwd','httptunnel','imap','multihop','named','phf','sendmail','snmpgetattack','snmpguess','spy','warezclient','warezmaster','xlock','xsnoop'],'R2L',inplace=True)      \n",
    "  df.label.replace(['ipsweep','mscan','nmap','portsweep','saint','satan'],'Probe',inplace=True)\n",
    "  df.label.replace(['buffer_overflow','loadmodule','perl','ps','rootkit','sqlattack','xterm'],'U2R',inplace=True)"
   ]
  },
  {
   "cell_type": "code",
   "execution_count": 32,
   "metadata": {},
   "outputs": [],
   "source": [
    "change_label(train_data)"
   ]
  },
  {
   "cell_type": "code",
   "execution_count": 33,
   "metadata": {},
   "outputs": [],
   "source": [
    "train_data = train_data[0:10000]"
   ]
  },
  {
   "cell_type": "code",
   "execution_count": 34,
   "metadata": {},
   "outputs": [
    {
     "data": {
      "text/plain": [
       "normal    5292\n",
       "Dos       3716\n",
       "Probe      907\n",
       "R2L         81\n",
       "U2R          4\n",
       "Name: label, dtype: int64"
      ]
     },
     "execution_count": 34,
     "metadata": {},
     "output_type": "execute_result"
    }
   ],
   "source": [
    "# distribution of attack classes\n",
    "train_data.label.value_counts()"
   ]
  },
  {
   "cell_type": "code",
   "execution_count": 35,
   "metadata": {},
   "outputs": [],
   "source": [
    "# creating a dataframe with multi-class labels (Dos,Probe,R2L,U2R,normal)\n",
    "multi_data = train_data.copy()\n",
    "multi_label = pd.DataFrame(multi_data.label)"
   ]
  },
  {
   "cell_type": "code",
   "execution_count": 36,
   "metadata": {},
   "outputs": [],
   "source": [
    "# using standard scaler for normalizing\n",
    "std_scaler = StandardScaler()\n",
    "def standardization(df,col):\n",
    "  for i in col:\n",
    "    arr = df[i]\n",
    "    arr = np.array(arr)\n",
    "    df[i] = std_scaler.fit_transform(arr.reshape(len(arr),1))\n",
    "  return df\n",
    "\n",
    "numeric_col = multi_data.select_dtypes(include='number').columns\n",
    "data = standardization(multi_data,numeric_col)"
   ]
  },
  {
   "cell_type": "code",
   "execution_count": 37,
   "metadata": {},
   "outputs": [
    {
     "data": {
      "text/html": [
       "<div>\n",
       "<style scoped>\n",
       "    .dataframe tbody tr th:only-of-type {\n",
       "        vertical-align: middle;\n",
       "    }\n",
       "\n",
       "    .dataframe tbody tr th {\n",
       "        vertical-align: top;\n",
       "    }\n",
       "\n",
       "    .dataframe thead th {\n",
       "        text-align: right;\n",
       "    }\n",
       "</style>\n",
       "<table border=\"1\" class=\"dataframe\">\n",
       "  <thead>\n",
       "    <tr style=\"text-align: right;\">\n",
       "      <th></th>\n",
       "      <th>duration</th>\n",
       "      <th>protocol_type</th>\n",
       "      <th>service</th>\n",
       "      <th>flag</th>\n",
       "      <th>src_bytes</th>\n",
       "      <th>dst_bytes</th>\n",
       "      <th>land</th>\n",
       "      <th>wrong_fragment</th>\n",
       "      <th>urgent</th>\n",
       "      <th>hot</th>\n",
       "      <th>...</th>\n",
       "      <th>dst_host_same_srv_rate</th>\n",
       "      <th>dst_host_diff_srv_rate</th>\n",
       "      <th>dst_host_same_src_port_rate</th>\n",
       "      <th>dst_host_srv_diff_host_rate</th>\n",
       "      <th>dst_host_serror_rate</th>\n",
       "      <th>dst_host_srv_serror_rate</th>\n",
       "      <th>dst_host_rerror_rate</th>\n",
       "      <th>dst_host_srv_rerror_rate</th>\n",
       "      <th>label</th>\n",
       "      <th>intrusion</th>\n",
       "    </tr>\n",
       "  </thead>\n",
       "  <tbody>\n",
       "    <tr>\n",
       "      <th>0</th>\n",
       "      <td>-0.114</td>\n",
       "      <td>tcp</td>\n",
       "      <td>ftp_data</td>\n",
       "      <td>SF</td>\n",
       "      <td>-0.012415</td>\n",
       "      <td>-0.038881</td>\n",
       "      <td>0.0</td>\n",
       "      <td>-0.096529</td>\n",
       "      <td>-0.010001</td>\n",
       "      <td>-0.090616</td>\n",
       "      <td>...</td>\n",
       "      <td>-0.762204</td>\n",
       "      <td>-0.286252</td>\n",
       "      <td>0.068685</td>\n",
       "      <td>-0.285355</td>\n",
       "      <td>-0.649655</td>\n",
       "      <td>-0.635631</td>\n",
       "      <td>-0.220111</td>\n",
       "      <td>-0.373724</td>\n",
       "      <td>normal</td>\n",
       "      <td>4</td>\n",
       "    </tr>\n",
       "    <tr>\n",
       "      <th>1</th>\n",
       "      <td>-0.114</td>\n",
       "      <td>udp</td>\n",
       "      <td>other</td>\n",
       "      <td>SF</td>\n",
       "      <td>-0.012505</td>\n",
       "      <td>-0.038881</td>\n",
       "      <td>0.0</td>\n",
       "      <td>-0.096529</td>\n",
       "      <td>-0.010001</td>\n",
       "      <td>-0.090616</td>\n",
       "      <td>...</td>\n",
       "      <td>-1.140767</td>\n",
       "      <td>2.806543</td>\n",
       "      <td>2.364982</td>\n",
       "      <td>-0.285355</td>\n",
       "      <td>-0.649655</td>\n",
       "      <td>-0.635631</td>\n",
       "      <td>-0.384329</td>\n",
       "      <td>-0.373724</td>\n",
       "      <td>normal</td>\n",
       "      <td>4</td>\n",
       "    </tr>\n",
       "    <tr>\n",
       "      <th>2</th>\n",
       "      <td>-0.114</td>\n",
       "      <td>tcp</td>\n",
       "      <td>private</td>\n",
       "      <td>S0</td>\n",
       "      <td>-0.012544</td>\n",
       "      <td>-0.038881</td>\n",
       "      <td>0.0</td>\n",
       "      <td>-0.096529</td>\n",
       "      <td>-0.010001</td>\n",
       "      <td>-0.090616</td>\n",
       "      <td>...</td>\n",
       "      <td>-0.918083</td>\n",
       "      <td>-0.177733</td>\n",
       "      <td>-0.481132</td>\n",
       "      <td>-0.285355</td>\n",
       "      <td>1.582292</td>\n",
       "      <td>1.592840</td>\n",
       "      <td>-0.384329</td>\n",
       "      <td>-0.373724</td>\n",
       "      <td>Dos</td>\n",
       "      <td>0</td>\n",
       "    </tr>\n",
       "    <tr>\n",
       "      <th>3</th>\n",
       "      <td>-0.114</td>\n",
       "      <td>tcp</td>\n",
       "      <td>http</td>\n",
       "      <td>SF</td>\n",
       "      <td>-0.012483</td>\n",
       "      <td>0.037581</td>\n",
       "      <td>0.0</td>\n",
       "      <td>-0.096529</td>\n",
       "      <td>-0.010001</td>\n",
       "      <td>-0.090616</td>\n",
       "      <td>...</td>\n",
       "      <td>1.086076</td>\n",
       "      <td>-0.449030</td>\n",
       "      <td>-0.384106</td>\n",
       "      <td>0.079479</td>\n",
       "      <td>-0.582697</td>\n",
       "      <td>-0.613347</td>\n",
       "      <td>-0.384329</td>\n",
       "      <td>-0.342206</td>\n",
       "      <td>normal</td>\n",
       "      <td>4</td>\n",
       "    </tr>\n",
       "    <tr>\n",
       "      <th>4</th>\n",
       "      <td>-0.114</td>\n",
       "      <td>tcp</td>\n",
       "      <td>http</td>\n",
       "      <td>SF</td>\n",
       "      <td>-0.012491</td>\n",
       "      <td>-0.034942</td>\n",
       "      <td>0.0</td>\n",
       "      <td>-0.096529</td>\n",
       "      <td>-0.010001</td>\n",
       "      <td>-0.090616</td>\n",
       "      <td>...</td>\n",
       "      <td>1.086076</td>\n",
       "      <td>-0.449030</td>\n",
       "      <td>-0.481132</td>\n",
       "      <td>-0.285355</td>\n",
       "      <td>-0.649655</td>\n",
       "      <td>-0.635631</td>\n",
       "      <td>-0.384329</td>\n",
       "      <td>-0.373724</td>\n",
       "      <td>normal</td>\n",
       "      <td>4</td>\n",
       "    </tr>\n",
       "    <tr>\n",
       "      <th>...</th>\n",
       "      <td>...</td>\n",
       "      <td>...</td>\n",
       "      <td>...</td>\n",
       "      <td>...</td>\n",
       "      <td>...</td>\n",
       "      <td>...</td>\n",
       "      <td>...</td>\n",
       "      <td>...</td>\n",
       "      <td>...</td>\n",
       "      <td>...</td>\n",
       "      <td>...</td>\n",
       "      <td>...</td>\n",
       "      <td>...</td>\n",
       "      <td>...</td>\n",
       "      <td>...</td>\n",
       "      <td>...</td>\n",
       "      <td>...</td>\n",
       "      <td>...</td>\n",
       "      <td>...</td>\n",
       "      <td>...</td>\n",
       "      <td>...</td>\n",
       "    </tr>\n",
       "    <tr>\n",
       "      <th>9995</th>\n",
       "      <td>-0.114</td>\n",
       "      <td>tcp</td>\n",
       "      <td>uucp_path</td>\n",
       "      <td>S0</td>\n",
       "      <td>-0.012544</td>\n",
       "      <td>-0.038881</td>\n",
       "      <td>0.0</td>\n",
       "      <td>-0.096529</td>\n",
       "      <td>-0.010001</td>\n",
       "      <td>-0.090616</td>\n",
       "      <td>...</td>\n",
       "      <td>-1.096230</td>\n",
       "      <td>-0.123473</td>\n",
       "      <td>-0.481132</td>\n",
       "      <td>-0.285355</td>\n",
       "      <td>1.582292</td>\n",
       "      <td>1.592840</td>\n",
       "      <td>-0.384329</td>\n",
       "      <td>-0.373724</td>\n",
       "      <td>Dos</td>\n",
       "      <td>0</td>\n",
       "    </tr>\n",
       "    <tr>\n",
       "      <th>9996</th>\n",
       "      <td>-0.114</td>\n",
       "      <td>tcp</td>\n",
       "      <td>http</td>\n",
       "      <td>SF</td>\n",
       "      <td>-0.012484</td>\n",
       "      <td>-0.035898</td>\n",
       "      <td>0.0</td>\n",
       "      <td>-0.096529</td>\n",
       "      <td>-0.010001</td>\n",
       "      <td>-0.090616</td>\n",
       "      <td>...</td>\n",
       "      <td>1.086076</td>\n",
       "      <td>-0.449030</td>\n",
       "      <td>-0.481132</td>\n",
       "      <td>-0.285355</td>\n",
       "      <td>-0.649655</td>\n",
       "      <td>-0.635631</td>\n",
       "      <td>-0.384329</td>\n",
       "      <td>-0.373724</td>\n",
       "      <td>normal</td>\n",
       "      <td>4</td>\n",
       "    </tr>\n",
       "    <tr>\n",
       "      <th>9997</th>\n",
       "      <td>-0.114</td>\n",
       "      <td>udp</td>\n",
       "      <td>domain_u</td>\n",
       "      <td>SF</td>\n",
       "      <td>-0.012532</td>\n",
       "      <td>-0.037699</td>\n",
       "      <td>0.0</td>\n",
       "      <td>-0.096529</td>\n",
       "      <td>-0.010001</td>\n",
       "      <td>-0.090616</td>\n",
       "      <td>...</td>\n",
       "      <td>1.063807</td>\n",
       "      <td>-0.394771</td>\n",
       "      <td>-0.481132</td>\n",
       "      <td>-0.285355</td>\n",
       "      <td>-0.649655</td>\n",
       "      <td>-0.635631</td>\n",
       "      <td>-0.384329</td>\n",
       "      <td>-0.373724</td>\n",
       "      <td>normal</td>\n",
       "      <td>4</td>\n",
       "    </tr>\n",
       "    <tr>\n",
       "      <th>9998</th>\n",
       "      <td>-0.114</td>\n",
       "      <td>tcp</td>\n",
       "      <td>private</td>\n",
       "      <td>REJ</td>\n",
       "      <td>-0.012544</td>\n",
       "      <td>-0.038881</td>\n",
       "      <td>0.0</td>\n",
       "      <td>-0.096529</td>\n",
       "      <td>-0.010001</td>\n",
       "      <td>-0.090616</td>\n",
       "      <td>...</td>\n",
       "      <td>-1.073962</td>\n",
       "      <td>-0.069213</td>\n",
       "      <td>-0.481132</td>\n",
       "      <td>-0.285355</td>\n",
       "      <td>-0.649655</td>\n",
       "      <td>-0.635631</td>\n",
       "      <td>2.900026</td>\n",
       "      <td>2.778016</td>\n",
       "      <td>Dos</td>\n",
       "      <td>0</td>\n",
       "    </tr>\n",
       "    <tr>\n",
       "      <th>9999</th>\n",
       "      <td>-0.114</td>\n",
       "      <td>icmp</td>\n",
       "      <td>eco_i</td>\n",
       "      <td>SF</td>\n",
       "      <td>-0.012541</td>\n",
       "      <td>-0.038881</td>\n",
       "      <td>0.0</td>\n",
       "      <td>-0.096529</td>\n",
       "      <td>-0.010001</td>\n",
       "      <td>-0.090616</td>\n",
       "      <td>...</td>\n",
       "      <td>1.086076</td>\n",
       "      <td>-0.449030</td>\n",
       "      <td>2.753089</td>\n",
       "      <td>4.457495</td>\n",
       "      <td>-0.649655</td>\n",
       "      <td>-0.635631</td>\n",
       "      <td>-0.384329</td>\n",
       "      <td>-0.373724</td>\n",
       "      <td>Probe</td>\n",
       "      <td>1</td>\n",
       "    </tr>\n",
       "  </tbody>\n",
       "</table>\n",
       "<p>10000 rows × 43 columns</p>\n",
       "</div>"
      ],
      "text/plain": [
       "      duration protocol_type    service flag  src_bytes  dst_bytes  land  \\\n",
       "0       -0.114           tcp   ftp_data   SF  -0.012415  -0.038881   0.0   \n",
       "1       -0.114           udp      other   SF  -0.012505  -0.038881   0.0   \n",
       "2       -0.114           tcp    private   S0  -0.012544  -0.038881   0.0   \n",
       "3       -0.114           tcp       http   SF  -0.012483   0.037581   0.0   \n",
       "4       -0.114           tcp       http   SF  -0.012491  -0.034942   0.0   \n",
       "...        ...           ...        ...  ...        ...        ...   ...   \n",
       "9995    -0.114           tcp  uucp_path   S0  -0.012544  -0.038881   0.0   \n",
       "9996    -0.114           tcp       http   SF  -0.012484  -0.035898   0.0   \n",
       "9997    -0.114           udp   domain_u   SF  -0.012532  -0.037699   0.0   \n",
       "9998    -0.114           tcp    private  REJ  -0.012544  -0.038881   0.0   \n",
       "9999    -0.114          icmp      eco_i   SF  -0.012541  -0.038881   0.0   \n",
       "\n",
       "      wrong_fragment    urgent       hot  ...  dst_host_same_srv_rate  \\\n",
       "0          -0.096529 -0.010001 -0.090616  ...               -0.762204   \n",
       "1          -0.096529 -0.010001 -0.090616  ...               -1.140767   \n",
       "2          -0.096529 -0.010001 -0.090616  ...               -0.918083   \n",
       "3          -0.096529 -0.010001 -0.090616  ...                1.086076   \n",
       "4          -0.096529 -0.010001 -0.090616  ...                1.086076   \n",
       "...              ...       ...       ...  ...                     ...   \n",
       "9995       -0.096529 -0.010001 -0.090616  ...               -1.096230   \n",
       "9996       -0.096529 -0.010001 -0.090616  ...                1.086076   \n",
       "9997       -0.096529 -0.010001 -0.090616  ...                1.063807   \n",
       "9998       -0.096529 -0.010001 -0.090616  ...               -1.073962   \n",
       "9999       -0.096529 -0.010001 -0.090616  ...                1.086076   \n",
       "\n",
       "      dst_host_diff_srv_rate  dst_host_same_src_port_rate  \\\n",
       "0                  -0.286252                     0.068685   \n",
       "1                   2.806543                     2.364982   \n",
       "2                  -0.177733                    -0.481132   \n",
       "3                  -0.449030                    -0.384106   \n",
       "4                  -0.449030                    -0.481132   \n",
       "...                      ...                          ...   \n",
       "9995               -0.123473                    -0.481132   \n",
       "9996               -0.449030                    -0.481132   \n",
       "9997               -0.394771                    -0.481132   \n",
       "9998               -0.069213                    -0.481132   \n",
       "9999               -0.449030                     2.753089   \n",
       "\n",
       "      dst_host_srv_diff_host_rate  dst_host_serror_rate  \\\n",
       "0                       -0.285355             -0.649655   \n",
       "1                       -0.285355             -0.649655   \n",
       "2                       -0.285355              1.582292   \n",
       "3                        0.079479             -0.582697   \n",
       "4                       -0.285355             -0.649655   \n",
       "...                           ...                   ...   \n",
       "9995                    -0.285355              1.582292   \n",
       "9996                    -0.285355             -0.649655   \n",
       "9997                    -0.285355             -0.649655   \n",
       "9998                    -0.285355             -0.649655   \n",
       "9999                     4.457495             -0.649655   \n",
       "\n",
       "      dst_host_srv_serror_rate  dst_host_rerror_rate  \\\n",
       "0                    -0.635631             -0.220111   \n",
       "1                    -0.635631             -0.384329   \n",
       "2                     1.592840             -0.384329   \n",
       "3                    -0.613347             -0.384329   \n",
       "4                    -0.635631             -0.384329   \n",
       "...                        ...                   ...   \n",
       "9995                  1.592840             -0.384329   \n",
       "9996                 -0.635631             -0.384329   \n",
       "9997                 -0.635631             -0.384329   \n",
       "9998                 -0.635631              2.900026   \n",
       "9999                 -0.635631             -0.384329   \n",
       "\n",
       "      dst_host_srv_rerror_rate   label  intrusion  \n",
       "0                    -0.373724  normal          4  \n",
       "1                    -0.373724  normal          4  \n",
       "2                    -0.373724     Dos          0  \n",
       "3                    -0.342206  normal          4  \n",
       "4                    -0.373724  normal          4  \n",
       "...                        ...     ...        ...  \n",
       "9995                 -0.373724     Dos          0  \n",
       "9996                 -0.373724  normal          4  \n",
       "9997                 -0.373724  normal          4  \n",
       "9998                  2.778016     Dos          0  \n",
       "9999                 -0.373724   Probe          1  \n",
       "\n",
       "[10000 rows x 43 columns]"
      ]
     },
     "execution_count": 37,
     "metadata": {},
     "output_type": "execute_result"
    }
   ],
   "source": [
    "# label encoding (0,1,2,3,4) multi-class labels (Dos,normal,Probe,R2L,U2R)\n",
    "le2 = preprocessing.LabelEncoder()\n",
    "enc_label = multi_label.apply(le2.fit_transform)\n",
    "multi_data['intrusion'] = enc_label\n",
    "#y_mul = multi_data['intrusion']\n",
    "multi_data"
   ]
  },
  {
   "cell_type": "code",
   "execution_count": 38,
   "metadata": {},
   "outputs": [
    {
     "data": {
      "text/html": [
       "<div>\n",
       "<style scoped>\n",
       "    .dataframe tbody tr th:only-of-type {\n",
       "        vertical-align: middle;\n",
       "    }\n",
       "\n",
       "    .dataframe tbody tr th {\n",
       "        vertical-align: top;\n",
       "    }\n",
       "\n",
       "    .dataframe thead th {\n",
       "        text-align: right;\n",
       "    }\n",
       "</style>\n",
       "<table border=\"1\" class=\"dataframe\">\n",
       "  <thead>\n",
       "    <tr style=\"text-align: right;\">\n",
       "      <th></th>\n",
       "      <th>duration</th>\n",
       "      <th>protocol_type</th>\n",
       "      <th>service</th>\n",
       "      <th>flag</th>\n",
       "      <th>src_bytes</th>\n",
       "      <th>dst_bytes</th>\n",
       "      <th>land</th>\n",
       "      <th>wrong_fragment</th>\n",
       "      <th>urgent</th>\n",
       "      <th>hot</th>\n",
       "      <th>...</th>\n",
       "      <th>dst_host_srv_count</th>\n",
       "      <th>dst_host_same_srv_rate</th>\n",
       "      <th>dst_host_diff_srv_rate</th>\n",
       "      <th>dst_host_same_src_port_rate</th>\n",
       "      <th>dst_host_srv_diff_host_rate</th>\n",
       "      <th>dst_host_serror_rate</th>\n",
       "      <th>dst_host_srv_serror_rate</th>\n",
       "      <th>dst_host_rerror_rate</th>\n",
       "      <th>dst_host_srv_rerror_rate</th>\n",
       "      <th>intrusion</th>\n",
       "    </tr>\n",
       "  </thead>\n",
       "  <tbody>\n",
       "    <tr>\n",
       "      <th>0</th>\n",
       "      <td>-0.114</td>\n",
       "      <td>tcp</td>\n",
       "      <td>ftp_data</td>\n",
       "      <td>SF</td>\n",
       "      <td>-0.012415</td>\n",
       "      <td>-0.038881</td>\n",
       "      <td>0.0</td>\n",
       "      <td>-0.096529</td>\n",
       "      <td>-0.010001</td>\n",
       "      <td>-0.090616</td>\n",
       "      <td>...</td>\n",
       "      <td>-0.797453</td>\n",
       "      <td>-0.762204</td>\n",
       "      <td>-0.286252</td>\n",
       "      <td>0.068685</td>\n",
       "      <td>-0.285355</td>\n",
       "      <td>-0.649655</td>\n",
       "      <td>-0.635631</td>\n",
       "      <td>-0.220111</td>\n",
       "      <td>-0.373724</td>\n",
       "      <td>4</td>\n",
       "    </tr>\n",
       "    <tr>\n",
       "      <th>1</th>\n",
       "      <td>-0.114</td>\n",
       "      <td>udp</td>\n",
       "      <td>other</td>\n",
       "      <td>SF</td>\n",
       "      <td>-0.012505</td>\n",
       "      <td>-0.038881</td>\n",
       "      <td>0.0</td>\n",
       "      <td>-0.096529</td>\n",
       "      <td>-0.010001</td>\n",
       "      <td>-0.090616</td>\n",
       "      <td>...</td>\n",
       "      <td>-1.014314</td>\n",
       "      <td>-1.140767</td>\n",
       "      <td>2.806543</td>\n",
       "      <td>2.364982</td>\n",
       "      <td>-0.285355</td>\n",
       "      <td>-0.649655</td>\n",
       "      <td>-0.635631</td>\n",
       "      <td>-0.384329</td>\n",
       "      <td>-0.373724</td>\n",
       "      <td>4</td>\n",
       "    </tr>\n",
       "    <tr>\n",
       "      <th>2</th>\n",
       "      <td>-0.114</td>\n",
       "      <td>tcp</td>\n",
       "      <td>private</td>\n",
       "      <td>S0</td>\n",
       "      <td>-0.012544</td>\n",
       "      <td>-0.038881</td>\n",
       "      <td>0.0</td>\n",
       "      <td>-0.096529</td>\n",
       "      <td>-0.010001</td>\n",
       "      <td>-0.090616</td>\n",
       "      <td>...</td>\n",
       "      <td>-0.788417</td>\n",
       "      <td>-0.918083</td>\n",
       "      <td>-0.177733</td>\n",
       "      <td>-0.481132</td>\n",
       "      <td>-0.285355</td>\n",
       "      <td>1.582292</td>\n",
       "      <td>1.592840</td>\n",
       "      <td>-0.384329</td>\n",
       "      <td>-0.373724</td>\n",
       "      <td>0</td>\n",
       "    </tr>\n",
       "    <tr>\n",
       "      <th>3</th>\n",
       "      <td>-0.114</td>\n",
       "      <td>tcp</td>\n",
       "      <td>http</td>\n",
       "      <td>SF</td>\n",
       "      <td>-0.012483</td>\n",
       "      <td>0.037581</td>\n",
       "      <td>0.0</td>\n",
       "      <td>-0.096529</td>\n",
       "      <td>-0.010001</td>\n",
       "      <td>-0.090616</td>\n",
       "      <td>...</td>\n",
       "      <td>1.280799</td>\n",
       "      <td>1.086076</td>\n",
       "      <td>-0.449030</td>\n",
       "      <td>-0.384106</td>\n",
       "      <td>0.079479</td>\n",
       "      <td>-0.582697</td>\n",
       "      <td>-0.613347</td>\n",
       "      <td>-0.384329</td>\n",
       "      <td>-0.342206</td>\n",
       "      <td>4</td>\n",
       "    </tr>\n",
       "    <tr>\n",
       "      <th>4</th>\n",
       "      <td>-0.114</td>\n",
       "      <td>tcp</td>\n",
       "      <td>http</td>\n",
       "      <td>SF</td>\n",
       "      <td>-0.012491</td>\n",
       "      <td>-0.034942</td>\n",
       "      <td>0.0</td>\n",
       "      <td>-0.096529</td>\n",
       "      <td>-0.010001</td>\n",
       "      <td>-0.090616</td>\n",
       "      <td>...</td>\n",
       "      <td>1.280799</td>\n",
       "      <td>1.086076</td>\n",
       "      <td>-0.449030</td>\n",
       "      <td>-0.481132</td>\n",
       "      <td>-0.285355</td>\n",
       "      <td>-0.649655</td>\n",
       "      <td>-0.635631</td>\n",
       "      <td>-0.384329</td>\n",
       "      <td>-0.373724</td>\n",
       "      <td>4</td>\n",
       "    </tr>\n",
       "    <tr>\n",
       "      <th>...</th>\n",
       "      <td>...</td>\n",
       "      <td>...</td>\n",
       "      <td>...</td>\n",
       "      <td>...</td>\n",
       "      <td>...</td>\n",
       "      <td>...</td>\n",
       "      <td>...</td>\n",
       "      <td>...</td>\n",
       "      <td>...</td>\n",
       "      <td>...</td>\n",
       "      <td>...</td>\n",
       "      <td>...</td>\n",
       "      <td>...</td>\n",
       "      <td>...</td>\n",
       "      <td>...</td>\n",
       "      <td>...</td>\n",
       "      <td>...</td>\n",
       "      <td>...</td>\n",
       "      <td>...</td>\n",
       "      <td>...</td>\n",
       "      <td>...</td>\n",
       "    </tr>\n",
       "    <tr>\n",
       "      <th>9995</th>\n",
       "      <td>-0.114</td>\n",
       "      <td>tcp</td>\n",
       "      <td>uucp_path</td>\n",
       "      <td>S0</td>\n",
       "      <td>-0.012544</td>\n",
       "      <td>-0.038881</td>\n",
       "      <td>0.0</td>\n",
       "      <td>-0.096529</td>\n",
       "      <td>-0.010001</td>\n",
       "      <td>-0.090616</td>\n",
       "      <td>...</td>\n",
       "      <td>-0.969135</td>\n",
       "      <td>-1.096230</td>\n",
       "      <td>-0.123473</td>\n",
       "      <td>-0.481132</td>\n",
       "      <td>-0.285355</td>\n",
       "      <td>1.582292</td>\n",
       "      <td>1.592840</td>\n",
       "      <td>-0.384329</td>\n",
       "      <td>-0.373724</td>\n",
       "      <td>0</td>\n",
       "    </tr>\n",
       "    <tr>\n",
       "      <th>9996</th>\n",
       "      <td>-0.114</td>\n",
       "      <td>tcp</td>\n",
       "      <td>http</td>\n",
       "      <td>SF</td>\n",
       "      <td>-0.012484</td>\n",
       "      <td>-0.035898</td>\n",
       "      <td>0.0</td>\n",
       "      <td>-0.096529</td>\n",
       "      <td>-0.010001</td>\n",
       "      <td>-0.090616</td>\n",
       "      <td>...</td>\n",
       "      <td>1.280799</td>\n",
       "      <td>1.086076</td>\n",
       "      <td>-0.449030</td>\n",
       "      <td>-0.481132</td>\n",
       "      <td>-0.285355</td>\n",
       "      <td>-0.649655</td>\n",
       "      <td>-0.635631</td>\n",
       "      <td>-0.384329</td>\n",
       "      <td>-0.373724</td>\n",
       "      <td>4</td>\n",
       "    </tr>\n",
       "    <tr>\n",
       "      <th>9997</th>\n",
       "      <td>-0.114</td>\n",
       "      <td>udp</td>\n",
       "      <td>domain_u</td>\n",
       "      <td>SF</td>\n",
       "      <td>-0.012532</td>\n",
       "      <td>-0.037699</td>\n",
       "      <td>0.0</td>\n",
       "      <td>-0.096529</td>\n",
       "      <td>-0.010001</td>\n",
       "      <td>-0.090616</td>\n",
       "      <td>...</td>\n",
       "      <td>1.253691</td>\n",
       "      <td>1.063807</td>\n",
       "      <td>-0.394771</td>\n",
       "      <td>-0.481132</td>\n",
       "      <td>-0.285355</td>\n",
       "      <td>-0.649655</td>\n",
       "      <td>-0.635631</td>\n",
       "      <td>-0.384329</td>\n",
       "      <td>-0.373724</td>\n",
       "      <td>4</td>\n",
       "    </tr>\n",
       "    <tr>\n",
       "      <th>9998</th>\n",
       "      <td>-0.114</td>\n",
       "      <td>tcp</td>\n",
       "      <td>private</td>\n",
       "      <td>REJ</td>\n",
       "      <td>-0.012544</td>\n",
       "      <td>-0.038881</td>\n",
       "      <td>0.0</td>\n",
       "      <td>-0.096529</td>\n",
       "      <td>-0.010001</td>\n",
       "      <td>-0.090616</td>\n",
       "      <td>...</td>\n",
       "      <td>-0.951063</td>\n",
       "      <td>-1.073962</td>\n",
       "      <td>-0.069213</td>\n",
       "      <td>-0.481132</td>\n",
       "      <td>-0.285355</td>\n",
       "      <td>-0.649655</td>\n",
       "      <td>-0.635631</td>\n",
       "      <td>2.900026</td>\n",
       "      <td>2.778016</td>\n",
       "      <td>0</td>\n",
       "    </tr>\n",
       "    <tr>\n",
       "      <th>9999</th>\n",
       "      <td>-0.114</td>\n",
       "      <td>icmp</td>\n",
       "      <td>eco_i</td>\n",
       "      <td>SF</td>\n",
       "      <td>-0.012541</td>\n",
       "      <td>-0.038881</td>\n",
       "      <td>0.0</td>\n",
       "      <td>-0.096529</td>\n",
       "      <td>-0.010001</td>\n",
       "      <td>-0.090616</td>\n",
       "      <td>...</td>\n",
       "      <td>-0.797453</td>\n",
       "      <td>1.086076</td>\n",
       "      <td>-0.449030</td>\n",
       "      <td>2.753089</td>\n",
       "      <td>4.457495</td>\n",
       "      <td>-0.649655</td>\n",
       "      <td>-0.635631</td>\n",
       "      <td>-0.384329</td>\n",
       "      <td>-0.373724</td>\n",
       "      <td>1</td>\n",
       "    </tr>\n",
       "  </tbody>\n",
       "</table>\n",
       "<p>10000 rows × 42 columns</p>\n",
       "</div>"
      ],
      "text/plain": [
       "      duration protocol_type    service flag  src_bytes  dst_bytes  land  \\\n",
       "0       -0.114           tcp   ftp_data   SF  -0.012415  -0.038881   0.0   \n",
       "1       -0.114           udp      other   SF  -0.012505  -0.038881   0.0   \n",
       "2       -0.114           tcp    private   S0  -0.012544  -0.038881   0.0   \n",
       "3       -0.114           tcp       http   SF  -0.012483   0.037581   0.0   \n",
       "4       -0.114           tcp       http   SF  -0.012491  -0.034942   0.0   \n",
       "...        ...           ...        ...  ...        ...        ...   ...   \n",
       "9995    -0.114           tcp  uucp_path   S0  -0.012544  -0.038881   0.0   \n",
       "9996    -0.114           tcp       http   SF  -0.012484  -0.035898   0.0   \n",
       "9997    -0.114           udp   domain_u   SF  -0.012532  -0.037699   0.0   \n",
       "9998    -0.114           tcp    private  REJ  -0.012544  -0.038881   0.0   \n",
       "9999    -0.114          icmp      eco_i   SF  -0.012541  -0.038881   0.0   \n",
       "\n",
       "      wrong_fragment    urgent       hot  ...  dst_host_srv_count  \\\n",
       "0          -0.096529 -0.010001 -0.090616  ...           -0.797453   \n",
       "1          -0.096529 -0.010001 -0.090616  ...           -1.014314   \n",
       "2          -0.096529 -0.010001 -0.090616  ...           -0.788417   \n",
       "3          -0.096529 -0.010001 -0.090616  ...            1.280799   \n",
       "4          -0.096529 -0.010001 -0.090616  ...            1.280799   \n",
       "...              ...       ...       ...  ...                 ...   \n",
       "9995       -0.096529 -0.010001 -0.090616  ...           -0.969135   \n",
       "9996       -0.096529 -0.010001 -0.090616  ...            1.280799   \n",
       "9997       -0.096529 -0.010001 -0.090616  ...            1.253691   \n",
       "9998       -0.096529 -0.010001 -0.090616  ...           -0.951063   \n",
       "9999       -0.096529 -0.010001 -0.090616  ...           -0.797453   \n",
       "\n",
       "      dst_host_same_srv_rate  dst_host_diff_srv_rate  \\\n",
       "0                  -0.762204               -0.286252   \n",
       "1                  -1.140767                2.806543   \n",
       "2                  -0.918083               -0.177733   \n",
       "3                   1.086076               -0.449030   \n",
       "4                   1.086076               -0.449030   \n",
       "...                      ...                     ...   \n",
       "9995               -1.096230               -0.123473   \n",
       "9996                1.086076               -0.449030   \n",
       "9997                1.063807               -0.394771   \n",
       "9998               -1.073962               -0.069213   \n",
       "9999                1.086076               -0.449030   \n",
       "\n",
       "      dst_host_same_src_port_rate  dst_host_srv_diff_host_rate  \\\n",
       "0                        0.068685                    -0.285355   \n",
       "1                        2.364982                    -0.285355   \n",
       "2                       -0.481132                    -0.285355   \n",
       "3                       -0.384106                     0.079479   \n",
       "4                       -0.481132                    -0.285355   \n",
       "...                           ...                          ...   \n",
       "9995                    -0.481132                    -0.285355   \n",
       "9996                    -0.481132                    -0.285355   \n",
       "9997                    -0.481132                    -0.285355   \n",
       "9998                    -0.481132                    -0.285355   \n",
       "9999                     2.753089                     4.457495   \n",
       "\n",
       "      dst_host_serror_rate  dst_host_srv_serror_rate  dst_host_rerror_rate  \\\n",
       "0                -0.649655                 -0.635631             -0.220111   \n",
       "1                -0.649655                 -0.635631             -0.384329   \n",
       "2                 1.582292                  1.592840             -0.384329   \n",
       "3                -0.582697                 -0.613347             -0.384329   \n",
       "4                -0.649655                 -0.635631             -0.384329   \n",
       "...                    ...                       ...                   ...   \n",
       "9995              1.582292                  1.592840             -0.384329   \n",
       "9996             -0.649655                 -0.635631             -0.384329   \n",
       "9997             -0.649655                 -0.635631             -0.384329   \n",
       "9998             -0.649655                 -0.635631              2.900026   \n",
       "9999             -0.649655                 -0.635631             -0.384329   \n",
       "\n",
       "      dst_host_srv_rerror_rate  intrusion  \n",
       "0                    -0.373724          4  \n",
       "1                    -0.373724          4  \n",
       "2                    -0.373724          0  \n",
       "3                    -0.342206          4  \n",
       "4                    -0.373724          4  \n",
       "...                        ...        ...  \n",
       "9995                 -0.373724          0  \n",
       "9996                 -0.373724          4  \n",
       "9997                 -0.373724          4  \n",
       "9998                  2.778016          0  \n",
       "9999                 -0.373724          1  \n",
       "\n",
       "[10000 rows x 42 columns]"
      ]
     },
     "execution_count": 38,
     "metadata": {},
     "output_type": "execute_result"
    }
   ],
   "source": [
    "multi_data.drop(labels= [ 'label'], axis=1, inplace=True)\n",
    "multi_data"
   ]
  },
  {
   "cell_type": "code",
   "execution_count": 39,
   "metadata": {},
   "outputs": [
    {
     "data": {
      "text/plain": [
       "array([ 9,  5,  1,  4, 10,  2,  6,  3,  8,  7,  0], dtype=int64)"
      ]
     },
     "execution_count": 39,
     "metadata": {},
     "output_type": "execute_result"
    }
   ],
   "source": [
    "# Import label encoder\n",
    "from sklearn import preprocessing\n",
    "\n",
    "# label_encoder object knows\n",
    "# how to understand word labels.\n",
    "label_encoder = preprocessing.LabelEncoder()\n",
    "\n",
    "# Encode labels in column 'species'.\n",
    "multi_data['protocol_type']= label_encoder.fit_transform(multi_data['protocol_type'])\n",
    "multi_data['service']= label_encoder.fit_transform(multi_data['service'])\n",
    "multi_data['flag']= label_encoder.fit_transform(multi_data['flag'])\n",
    "\n",
    "multi_data['protocol_type'].unique()\n",
    "multi_data['service'].unique()\n",
    "multi_data['flag'].unique()"
   ]
  },
  {
   "cell_type": "code",
   "execution_count": 40,
   "metadata": {},
   "outputs": [],
   "source": [
    "X = data.drop([\"intrusion\"],axis =1)\n",
    "y = data[\"intrusion\"]"
   ]
  },
  {
   "cell_type": "markdown",
   "metadata": {},
   "source": [
    "# Feature Selection"
   ]
  },
  {
   "cell_type": "code",
   "execution_count": 41,
   "metadata": {},
   "outputs": [
    {
     "data": {
      "text/plain": [
       "(10000, 14)"
      ]
     },
     "execution_count": 41,
     "metadata": {},
     "output_type": "execute_result"
    }
   ],
   "source": [
    "from sklearn.feature_selection import SelectKBest, SelectPercentile, mutual_info_classif\n",
    "\n",
    "selector = SelectPercentile(mutual_info_classif, percentile=35)\n",
    "X_reduced = selector.fit_transform(X, y)\n",
    "X_reduced.shape\n"
   ]
  },
  {
   "cell_type": "code",
   "execution_count": 42,
   "metadata": {},
   "outputs": [
    {
     "data": {
      "text/plain": [
       "['service',\n",
       " 'flag',\n",
       " 'src_bytes',\n",
       " 'dst_bytes',\n",
       " 'count',\n",
       " 'serror_rate',\n",
       " 'srv_serror_rate',\n",
       " 'same_srv_rate',\n",
       " 'diff_srv_rate',\n",
       " 'dst_host_srv_count',\n",
       " 'dst_host_same_srv_rate',\n",
       " 'dst_host_diff_srv_rate',\n",
       " 'dst_host_serror_rate',\n",
       " 'dst_host_srv_serror_rate']"
      ]
     },
     "execution_count": 42,
     "metadata": {},
     "output_type": "execute_result"
    }
   ],
   "source": [
    "cols = selector.get_support(indices=True)\n",
    "selected_columns = X.iloc[:,cols].columns.tolist()\n",
    "selected_columns"
   ]
  },
  {
   "cell_type": "code",
   "execution_count": 43,
   "metadata": {},
   "outputs": [],
   "source": [
    "df = multi_data[['service',\n",
    " 'flag',\n",
    " 'src_bytes',\n",
    " 'dst_bytes',\n",
    " 'count',\n",
    " 'serror_rate',\n",
    " 'srv_serror_rate',\n",
    " 'same_srv_rate',\n",
    " 'diff_srv_rate',\n",
    " 'dst_host_srv_count',\n",
    " 'dst_host_same_srv_rate',\n",
    " 'dst_host_diff_srv_rate',\n",
    " 'dst_host_serror_rate',\n",
    " 'dst_host_srv_serror_rate',\n",
    "                  'intrusion']]\n",
    "df.to_csv('vsl_processed.csv')"
   ]
  },
  {
   "cell_type": "code",
   "execution_count": 44,
   "metadata": {},
   "outputs": [
    {
     "data": {
      "text/plain": [
       "((8000, 14), (8000,), (2000, 14), (2000,))"
      ]
     },
     "execution_count": 44,
     "metadata": {},
     "output_type": "execute_result"
    }
   ],
   "source": [
    "from sklearn.model_selection import train_test_split\n",
    "\n",
    "X_train, X_test, y_train, y_test = train_test_split(X_reduced, y, test_size = 0.20, random_state = 42)\n",
    "X_train.shape, y_train.shape, X_test.shape, y_test.shape"
   ]
  },
  {
   "cell_type": "code",
   "execution_count": 45,
   "metadata": {},
   "outputs": [],
   "source": [
    "ML_Model = []\n",
    "accuracy = []\n",
    "precision = []\n",
    "recall = []\n",
    "f1score = []\n",
    "\n",
    "#function to call for storing the results\n",
    "def storeResults(model, a,b,c,d):\n",
    "    ML_Model.append(model)\n",
    "    accuracy.append(round(a, 3))\n",
    "    precision.append(round(b, 3))\n",
    "    recall.append(round(c, 3))\n",
    "    f1score.append(round(d, 3))"
   ]
  },
  {
   "cell_type": "markdown",
   "metadata": {},
   "source": [
    "# CNN"
   ]
  },
  {
   "cell_type": "code",
   "execution_count": 48,
   "metadata": {},
   "outputs": [],
   "source": [
    "from tensorflow.keras.models import Sequential\n",
    "from tensorflow.keras.layers import Dense\n",
    "from tensorflow.keras.models import Model, load_model\n",
    "from tensorflow.keras.utils import to_categorical\n",
    "from tensorflow.keras.layers import Dropout\n",
    "from tensorflow.keras.layers import Flatten\n",
    "from tensorflow.keras.layers import Conv1D\n",
    "from tensorflow.keras.layers import MaxPooling1D\n"
   ]
  },
  {
   "cell_type": "code",
   "execution_count": 49,
   "metadata": {},
   "outputs": [],
   "source": [
    "X_train = X_train.reshape(-1, X_train.shape[1],1)\n",
    "X_test = X_test.reshape(-1, X_test.shape[1],1)\n",
    "\n",
    "Y_train=to_categorical(y_train)\n",
    "Y_test=to_categorical(y_test)"
   ]
  },
  {
   "cell_type": "code",
   "execution_count": 50,
   "metadata": {},
   "outputs": [
    {
     "name": "stdout",
     "output_type": "stream",
     "text": [
      "Model: \"sequential\"\n",
      "_________________________________________________________________\n",
      "Layer (type)                 Output Shape              Param #   \n",
      "=================================================================\n",
      "conv1d (Conv1D)              (None, 13, 128)           384       \n",
      "_________________________________________________________________\n",
      "max_pooling1d (MaxPooling1D) (None, 6, 128)            0         \n",
      "_________________________________________________________________\n",
      "dropout (Dropout)            (None, 6, 128)            0         \n",
      "_________________________________________________________________\n",
      "flatten (Flatten)            (None, 768)               0         \n",
      "_________________________________________________________________\n",
      "dense (Dense)                (None, 5)                 3845      \n",
      "=================================================================\n",
      "Total params: 4,229\n",
      "Trainable params: 4,229\n",
      "Non-trainable params: 0\n",
      "_________________________________________________________________\n",
      "Epoch 1/10\n",
      "2/2 [==============================] - 3s 1s/step - loss: 2.0228 - accuracy: 0.1250 - val_loss: 1.6848 - val_accuracy: 0.1419\n",
      "Epoch 2/10\n",
      "2/2 [==============================] - 1s 1s/step - loss: 1.4366 - accuracy: 0.3750 - val_loss: 1.3367 - val_accuracy: 0.4419\n",
      "Epoch 3/10\n",
      "2/2 [==============================] - 1s 1s/step - loss: 1.1399 - accuracy: 0.7500 - val_loss: 1.1534 - val_accuracy: 0.4525\n",
      "Epoch 4/10\n",
      "2/2 [==============================] - 1s 1s/step - loss: 1.4787 - accuracy: 0.2500 - val_loss: 1.0599 - val_accuracy: 0.8181\n",
      "Epoch 5/10\n",
      "2/2 [==============================] - 1s 996ms/step - loss: 1.3638 - accuracy: 0.2500 - val_loss: 1.0077 - val_accuracy: 0.8206\n",
      "Epoch 6/10\n",
      "2/2 [==============================] - 1s 1s/step - loss: 1.9718 - accuracy: 0.3750 - val_loss: 0.9588 - val_accuracy: 0.8238\n",
      "Epoch 7/10\n",
      "2/2 [==============================] - 1s 1s/step - loss: 0.8868 - accuracy: 0.5000 - val_loss: 0.9217 - val_accuracy: 0.8644\n",
      "Epoch 8/10\n",
      "2/2 [==============================] - 1s 1s/step - loss: 1.1367 - accuracy: 0.2500 - val_loss: 0.9220 - val_accuracy: 0.7794\n",
      "Epoch 9/10\n",
      "2/2 [==============================] - 1s 1s/step - loss: 2.2346 - accuracy: 0.5000 - val_loss: 0.9233 - val_accuracy: 0.7319\n",
      "Epoch 10/10\n",
      "2/2 [==============================] - 1s 1s/step - loss: 1.0842 - accuracy: 0.5000 - val_loss: 0.8901 - val_accuracy: 0.7531\n"
     ]
    }
   ],
   "source": [
    "verbose, epoch, batch_size = 1, 100, 4\n",
    "activationFunction='relu'\n",
    "\n",
    "def CNN():\n",
    "    \n",
    "    cnnmodel = Sequential()\n",
    "    cnnmodel.add(Conv1D(filters=128, kernel_size=2, activation='relu',input_shape=(X_train.shape[1],X_train.shape[2])))\n",
    "    cnnmodel.add(MaxPooling1D(pool_size=2))\n",
    "    cnnmodel.add(Dropout(rate=0.2))\n",
    "    cnnmodel.add(Flatten())\n",
    "    cnnmodel.add(Dense(5, activation='softmax'))\n",
    "    cnnmodel.compile(optimizer='adam', loss='categorical_crossentropy',metrics=['accuracy'])\n",
    "    cnnmodel.summary()\n",
    "    return cnnmodel\n",
    "\n",
    "cnnmodel = CNN()\n",
    "\n",
    "modelhistory= cnnmodel.fit(X_train, Y_train, epochs=10,steps_per_epoch=2, verbose=verbose, validation_split=0.2, batch_size = batch_size)"
   ]
  },
  {
   "cell_type": "code",
   "execution_count": 51,
   "metadata": {},
   "outputs": [
    {
     "data": {
      "image/png": "[encoded data removed]",
      "text/plain": [
       "<Figure size 432x288 with 1 Axes>"
      ]
     },
     "metadata": {
      "needs_background": "light"
     },
     "output_type": "display_data"
    },
    {
     "data": {
      "image/png": "[encoded data removed]",
      "text/plain": [
       "<Figure size 432x288 with 1 Axes>"
      ]
     },
     "metadata": {
      "needs_background": "light"
     },
     "output_type": "display_data"
    },
    {
     "name": "stdout",
     "output_type": "stream",
     "text": [
      "63/63 [==============================] - 0s 2ms/step\n",
      "63/63 [==============================] - 0s 1ms/step\n"
     ]
    }
   ],
   "source": [
    "# Plot training & validation loss values\n",
    "plt.plot(modelhistory.history['loss'])\n",
    "plt.plot(modelhistory.history['val_loss'])\n",
    "plt.title('Model loss')\n",
    "plt.ylabel('Loss')\n",
    "plt.xlabel('Epoch')\n",
    "plt.legend(['Train', 'Validation'], loc='upper left')\n",
    "plt.savefig('loss.png', format='png', dpi=1200)\n",
    "plt.show()\n",
    "\n",
    "\n",
    "# Plot training & validation accuracy values\n",
    "plt.plot(modelhistory.history['accuracy'])\n",
    "plt.plot(modelhistory.history['val_accuracy'])\n",
    "plt.title('Model accuracy')\n",
    "plt.ylabel('Accuracy')\n",
    "plt.xlabel('Epoch')\n",
    "plt.legend(['Train', 'Validation'], loc='upper left')\n",
    "plt.savefig('accuracy.png', format='png', dpi=1200)\n",
    "plt.show()\n",
    "\n",
    "cnnpredictions = cnnmodel.predict(X_test, verbose=1)\n",
    "cnn_predict=np.argmax(cnnpredictions,axis=1)\n",
    "\n",
    "y_pred = cnnmodel.predict(X_test, verbose=1)\n",
    "y_pred = np.argmax(y_pred,axis=1)\n",
    "\n",
    "#y_prob = cnnmodel.predict_proba(X_test)[:, 1]\n",
    "\n",
    "cnn_acc = accuracy_score(y_pred, y_test)\n",
    "cnn_prec = precision_score(y_pred, y_test,average='weighted')\n",
    "cnn_rec = recall_score(y_pred, y_test,average='weighted')\n",
    "cnn_f1 = f1_score(y_pred, y_test,average='weighted')\n",
    "\n",
    "#storeResults('CNN',dl_acc,dl_prec,dl_rec,dl_f1)"
   ]
  },
  {
   "cell_type": "code",
   "execution_count": 77,
   "metadata": {},
   "outputs": [],
   "source": [
    "storeResults('CNN',cnn_acc,cnn_prec,cnn_rec,cnn_f1)"
   ]
  },
  {
   "cell_type": "code",
   "execution_count": 52,
   "metadata": {},
   "outputs": [
    {
     "name": "stdout",
     "output_type": "stream",
     "text": [
      "WARNING:tensorflow:Layer lstm will not use cuDNN kernels since it doesn't meet the criteria. It will use a generic GPU kernel as fallback when running on GPU.\n",
      "WARNING:tensorflow:Layer lstm_1 will not use cuDNN kernels since it doesn't meet the criteria. It will use a generic GPU kernel as fallback when running on GPU.\n",
      "WARNING:tensorflow:Layer lstm_2 will not use cuDNN kernels since it doesn't meet the criteria. It will use a generic GPU kernel as fallback when running on GPU.\n",
      "WARNING:tensorflow:Layer lstm_3 will not use cuDNN kernels since it doesn't meet the criteria. It will use a generic GPU kernel as fallback when running on GPU.\n"
     ]
    }
   ],
   "source": [
    "from keras.models import Sequential\n",
    "from keras.layers import Dense, LSTM\n",
    "from keras.layers import Dropout\n",
    "from keras import regularizers\n",
    "import tensorflow as tf\n",
    "\n",
    "# define a function to build the keras model\n",
    "def create_model(input_shape):\n",
    "    # create model\n",
    "    d = 0.25\n",
    "    model = Sequential()\n",
    "    \n",
    "    model.add(LSTM(32, input_shape=input_shape, activation='relu', return_sequences=True))\n",
    "    model.add(Dropout(d))\n",
    "\n",
    "    model.add(LSTM(64, input_shape=input_shape, activation='relu', return_sequences=True))\n",
    "    model.add(Dropout(d))\n",
    "        \n",
    "    model.add(LSTM(128, input_shape=input_shape, activation='relu', return_sequences=True))\n",
    "    model.add(Dropout(d))\n",
    "\n",
    "    model.add(LSTM(256, input_shape=input_shape, activation='relu', return_sequences=False))\n",
    "    model.add(Dropout(d))\n",
    "   \n",
    "    model.add(Dense(32,kernel_initializer=\"uniform\",activation='relu'))        \n",
    "    model.add(Dense(1,kernel_initializer=\"uniform\",activation='linear'))\n",
    "    \n",
    "    # compile model\n",
    "    adam = tf.keras.optimizers.Adam(learning_rate=0.001, decay=0.00001)\n",
    "    #model.compile(loss='mse', optimizer='adam', metrics=['accuracy'])\n",
    "    model.compile(loss='categorical_crossentropy', optimizer='adam', metrics=['accuracy'])\n",
    "    #model.compile(loss='binary_crossentropy', optimizer='adam', metrics=['accuracy'])\n",
    "    return model\n",
    "\n",
    "model = create_model(input_shape=(14,1))\n",
    "#print(model.summary())"
   ]
  },
  {
   "cell_type": "code",
   "execution_count": 53,
   "metadata": {},
   "outputs": [
    {
     "name": "stdout",
     "output_type": "stream",
     "text": [
      "Epoch 1/10\n",
      "500/500 [==============================] - ETA: 0s - loss: 2.5941e-07 - accuracy: 0.3836WARNING:tensorflow:Your input ran out of data; interrupting training. Make sure that your dataset or generator can generate at least `steps_per_epoch * epochs` batches (in this case, 500 batches). You may need to use the repeat() function when building your dataset.\n",
      "500/500 [==============================] - 180s 326ms/step - loss: 2.5942e-07 - accuracy: 0.3836 - val_loss: 2.6971e-07 - val_accuracy: 0.3640\n",
      "Epoch 2/10\n",
      "500/500 [==============================] - 142s 284ms/step - loss: 2.6899e-07 - accuracy: 0.3595\n",
      "Epoch 3/10\n",
      "500/500 [==============================] - 142s 283ms/step - loss: 2.6645e-07 - accuracy: 0.3662\n",
      "Epoch 4/10\n",
      "500/500 [==============================] - 141s 281ms/step - loss: 2.5949e-07 - accuracy: 0.3811\n",
      "Epoch 5/10\n",
      "500/500 [==============================] - 147s 294ms/step - loss: 2.6022e-07 - accuracy: 0.3775\n",
      "Epoch 6/10\n",
      "500/500 [==============================] - 143s 286ms/step - loss: 2.6671e-07 - accuracy: 0.3688\n",
      "Epoch 7/10\n",
      "500/500 [==============================] - 142s 285ms/step - loss: 2.6993e-07 - accuracy: 0.3713\n",
      "Epoch 8/10\n",
      "500/500 [==============================] - 142s 284ms/step - loss: 2.6134e-07 - accuracy: 0.3810\n",
      "Epoch 9/10\n",
      "500/500 [==============================] - 143s 286ms/step - loss: 2.6303e-07 - accuracy: 0.3740\n",
      "Epoch 10/10\n",
      "500/500 [==============================] - 146s 292ms/step - loss: 2.6494e-07 - accuracy: 0.3654\n"
     ]
    }
   ],
   "source": [
    "history=model.fit(X_train, y_train, validation_data=(X_test, y_test),epochs=10, batch_size=5, verbose=1, steps_per_epoch=500, validation_steps=500)"
   ]
  },
  {
   "cell_type": "code",
   "execution_count": 54,
   "metadata": {},
   "outputs": [
    {
     "data": {
      "image/png": "[encoded data removed]",
      "text/plain": [
       "<Figure size 432x288 with 1 Axes>"
      ]
     },
     "metadata": {
      "needs_background": "light"
     },
     "output_type": "display_data"
    },
    {
     "data": {
      "image/png": "[encoded data removed]",
      "text/plain": [
       "<Figure size 432x288 with 1 Axes>"
      ]
     },
     "metadata": {
      "needs_background": "light"
     },
     "output_type": "display_data"
    },
    {
     "name": "stdout",
     "output_type": "stream",
     "text": [
      "63/63 [==============================] - 7s 97ms/step\n"
     ]
    }
   ],
   "source": [
    "# Plot training & validation loss values\n",
    "plt.plot(history.history['loss'])\n",
    "plt.plot(history.history['val_loss'])\n",
    "plt.title('Model loss')\n",
    "plt.ylabel('Loss')\n",
    "plt.xlabel('Epoch')\n",
    "plt.legend(['Train', 'Validation'], loc='upper left')\n",
    "plt.savefig('loss.png', format='png', dpi=1200)\n",
    "plt.show()\n",
    "\n",
    "\n",
    "# Plot training & validation accuracy values\n",
    "plt.plot(history.history['accuracy'])\n",
    "plt.plot(history.history['val_accuracy'])\n",
    "plt.title('Model accuracy')\n",
    "plt.ylabel('Accuracy')\n",
    "plt.xlabel('Epoch')\n",
    "plt.legend(['Train', 'Validation'], loc='upper left')\n",
    "plt.savefig('accuracy.png', format='png', dpi=1200)\n",
    "plt.show()\n",
    "\n",
    "y_pred = model.predict(X_test, verbose=1)\n",
    "y_pred = np.argmax(y_pred,axis=1)\n",
    "\n",
    "\n",
    "#y_prob = cnnmodel.predict_proba(X_test)[:, 1]\n",
    "\n",
    "dl_acc = accuracy_score(y_pred, y_test)\n",
    "dl_prec = precision_score(y_pred, y_test,average='weighted')\n",
    "dl_rec = recall_score(y_pred, y_test,average='weighted')\n",
    "dl_f1 = f1_score(y_pred, y_test,average='weighted')\n",
    "\n",
    "#storeResults('RNN',dl_acc,dl_prec,dl_rec,dl_f1)"
   ]
  },
  {
   "cell_type": "code",
   "execution_count": 78,
   "metadata": {},
   "outputs": [],
   "source": [
    "storeResults('RNN',dl_acc,dl_prec,dl_rec,dl_f1)"
   ]
  },
  {
   "cell_type": "code",
   "execution_count": 55,
   "metadata": {},
   "outputs": [
    {
     "name": "stdout",
     "output_type": "stream",
     "text": [
      "Model: \"sequential\"\n",
      "_________________________________________________________________\n",
      "Layer (type)                 Output Shape              Param #   \n",
      "=================================================================\n",
      "conv1d (Conv1D)              (None, 14, 64)            384       \n",
      "_________________________________________________________________\n",
      "max_pooling1d (MaxPooling1D) (None, 13, 64)            0         \n",
      "_________________________________________________________________\n",
      "conv1d_1 (Conv1D)            (None, 13, 32)            6176      \n",
      "_________________________________________________________________\n",
      "max_pooling1d_1 (MaxPooling1 (None, 12, 32)            0         \n",
      "_________________________________________________________________\n",
      "lstm (LSTM)                  (None, 12, 128)           82432     \n",
      "_________________________________________________________________\n",
      "flatten (Flatten)            (None, 1536)              0         \n",
      "_________________________________________________________________\n",
      "dense (Dense)                (None, 128)               196736    \n",
      "_________________________________________________________________\n",
      "dropout (Dropout)            (None, 128)               0         \n",
      "_________________________________________________________________\n",
      "dense_1 (Dense)              (None, 32)                4128      \n",
      "_________________________________________________________________\n",
      "dropout_1 (Dropout)          (None, 32)                0         \n",
      "_________________________________________________________________\n",
      "dense_2 (Dense)              (None, 5)                 165       \n",
      "=================================================================\n",
      "Total params: 290,021\n",
      "Trainable params: 290,021\n",
      "Non-trainable params: 0\n",
      "_________________________________________________________________\n"
     ]
    }
   ],
   "source": [
    "import tensorflow as tf\n",
    "tf.keras.backend.clear_session()\n",
    "\n",
    "model_en = tf.keras.models.Sequential([tf.keras.layers.Conv1D(filters=64,kernel_size=5,strides=1,padding=\"causal\",activation=\"relu\",input_shape=(X_train.shape[1],X_train.shape[2])),\n",
    "    tf.keras.layers.MaxPooling1D(pool_size=2, strides=1, padding=\"valid\"),\n",
    "    tf.keras.layers.Conv1D(filters=32, kernel_size=3, strides=1, padding=\"causal\", activation=\"relu\"),\n",
    "    tf.keras.layers.MaxPooling1D(pool_size=2, strides=1, padding=\"valid\"),\n",
    "    tf.keras.layers.LSTM(128, return_sequences=True),\n",
    "    tf.keras.layers.Flatten(),\n",
    "    tf.keras.layers.Dense(128, activation=\"relu\"),\n",
    "    tf.keras.layers.Dropout(0.2),\n",
    "    tf.keras.layers.Dense(32, activation=\"relu\"),\n",
    "    tf.keras.layers.Dropout(0.1),\n",
    "    tf.keras.layers.Dense(5)\n",
    "])\n",
    "\n",
    "lr_schedule = tf.keras.optimizers.schedules.ExponentialDecay(5e-4,\n",
    "                                                             decay_steps=1000000,\n",
    "                                                             decay_rate=0.98,\n",
    "                                                             staircase=False)\n",
    "\n",
    "model_en.compile(loss=tf.keras.losses.MeanSquaredError(),\n",
    "              optimizer=tf.keras.optimizers.SGD(learning_rate=lr_schedule, momentum=0.8),\n",
    "              metrics=['acc'])\n",
    "model_en.summary()"
   ]
  },
  {
   "cell_type": "code",
   "execution_count": 56,
   "metadata": {},
   "outputs": [
    {
     "name": "stdout",
     "output_type": "stream",
     "text": [
      "Epoch 1/10\n",
      "1600/1600 [==============================] - 40s 24ms/step - loss: 0.1040 - acc: 0.6666 - val_loss: 0.0699 - val_acc: 0.8163\n",
      "Epoch 2/10\n",
      "1600/1600 [==============================] - 39s 24ms/step - loss: 0.0702 - acc: 0.8213 - val_loss: 0.0522 - val_acc: 0.8519\n",
      "Epoch 3/10\n",
      "1600/1600 [==============================] - 39s 24ms/step - loss: 0.0593 - acc: 0.8422 - val_loss: 0.0451 - val_acc: 0.8544\n",
      "Epoch 4/10\n",
      "1600/1600 [==============================] - 39s 24ms/step - loss: 0.0533 - acc: 0.8550 - val_loss: 0.0443 - val_acc: 0.8625\n",
      "Epoch 5/10\n",
      "1600/1600 [==============================] - 39s 24ms/step - loss: 0.0494 - acc: 0.8673 - val_loss: 0.0401 - val_acc: 0.8725\n",
      "Epoch 6/10\n",
      "1600/1600 [==============================] - 39s 25ms/step - loss: 0.0465 - acc: 0.8717 - val_loss: 0.0373 - val_acc: 0.8813\n",
      "Epoch 7/10\n",
      "1600/1600 [==============================] - 39s 24ms/step - loss: 0.0447 - acc: 0.8778 - val_loss: 0.0358 - val_acc: 0.8813\n",
      "Epoch 8/10\n",
      "1600/1600 [==============================] - 39s 24ms/step - loss: 0.0428 - acc: 0.8836 - val_loss: 0.0351 - val_acc: 0.8856\n",
      "Epoch 9/10\n",
      "1600/1600 [==============================] - 39s 24ms/step - loss: 0.0413 - acc: 0.8861 - val_loss: 0.0335 - val_acc: 0.8913\n",
      "Epoch 10/10\n",
      "1600/1600 [==============================] - 39s 24ms/step - loss: 0.0403 - acc: 0.8881 - val_loss: 0.0329 - val_acc: 0.8944\n"
     ]
    }
   ],
   "source": [
    "modelhistory = model_en.fit(X_train, Y_train, epochs=10, verbose=verbose, validation_split=0.2, batch_size = batch_size)"
   ]
  },
  {
   "cell_type": "code",
   "execution_count": 57,
   "metadata": {},
   "outputs": [
    {
     "data": {
      "image/png": "[encoded data removed]",
      "text/plain": [
       "<Figure size 432x288 with 1 Axes>"
      ]
     },
     "metadata": {
      "needs_background": "light"
     },
     "output_type": "display_data"
    },
    {
     "data": {
      "image/png": "[encoded data removed]",
      "text/plain": [
       "<Figure size 432x288 with 1 Axes>"
      ]
     },
     "metadata": {
      "needs_background": "light"
     },
     "output_type": "display_data"
    }
   ],
   "source": [
    "# Plot of accuracy vs epoch for train and test dataset\n",
    "plt.plot(modelhistory.history['acc'])\n",
    "plt.plot(modelhistory.history['val_acc'])\n",
    "plt.title(\"Plot of accuracy vs epoch for train and test dataset\")\n",
    "plt.ylabel('accuracy')\n",
    "plt.xlabel('epoch')\n",
    "plt.show()\n",
    "\n",
    "# Plot of loss vs epoch for train and test dataset\n",
    "plt.plot(modelhistory.history['loss'])\n",
    "plt.plot(modelhistory.history['val_loss'])\n",
    "plt.title(\"Plot of loss vs epoch for train and test dataset\")\n",
    "plt.ylabel('loss')\n",
    "plt.xlabel('epoch')\n",
    "plt.legend(['train', 'test'], loc='upper right')\n",
    "plt.show()"
   ]
  },
  {
   "cell_type": "code",
   "execution_count": 58,
   "metadata": {},
   "outputs": [
    {
     "name": "stdout",
     "output_type": "stream",
     "text": [
      "63/63 [==============================] - 1s 10ms/step\n",
      "63/63 [==============================] - 1s 8ms/step\n"
     ]
    }
   ],
   "source": [
    "cnnpredictions = model_en.predict(X_test, verbose=1)\n",
    "cnn_predict=np.argmax(cnnpredictions,axis=1)\n",
    "\n",
    "y_pred = model_en.predict(X_test, verbose=1)\n",
    "y_pred = np.argmax(y_pred,axis=1)\n",
    "\n",
    "#y_prob = cnnmodel.predict_proba(X_test)[:, 1]\n",
    "\n",
    "ense_acc = accuracy_score(y_pred, y_test)\n",
    "ense_prec = precision_score(y_pred, y_test,average='weighted')\n",
    "ense_rec = recall_score(y_pred, y_test,average='weighted')\n",
    "ense_f1 = f1_score(y_pred, y_test,average='weighted')\n",
    "\n",
    "#storeResults('CNNLSTM',ense_acc,ense_prec,ense_rec,ense_f1)"
   ]
  },
  {
   "cell_type": "code",
   "execution_count": 88,
   "metadata": {},
   "outputs": [],
   "source": [
    "storeResults('CNN LSTM',ense_acc,ense_prec,ense_rec,ense_f1)"
   ]
  },
  {
   "cell_type": "code",
   "execution_count": 59,
   "metadata": {},
   "outputs": [
    {
     "name": "stdout",
     "output_type": "stream",
     "text": [
      "Model: \"sequential\"\n",
      "_________________________________________________________________\n",
      "Layer (type)                 Output Shape              Param #   \n",
      "=================================================================\n",
      "conv1d (Conv1D)              (None, 14, 128)           768       \n",
      "_________________________________________________________________\n",
      "max_pooling1d (MaxPooling1D) (None, 13, 128)           0         \n",
      "_________________________________________________________________\n",
      "conv1d_1 (Conv1D)            (None, 13, 64)            24640     \n",
      "_________________________________________________________________\n",
      "max_pooling1d_1 (MaxPooling1 (None, 12, 64)            0         \n",
      "_________________________________________________________________\n",
      "conv1d_2 (Conv1D)            (None, 12, 32)            6176      \n",
      "_________________________________________________________________\n",
      "max_pooling1d_2 (MaxPooling1 (None, 11, 32)            0         \n",
      "_________________________________________________________________\n",
      "bidirectional (Bidirectional (None, 11, 256)           164864    \n",
      "_________________________________________________________________\n",
      "flatten (Flatten)            (None, 2816)              0         \n",
      "_________________________________________________________________\n",
      "dense (Dense)                (None, 128)               360576    \n",
      "_________________________________________________________________\n",
      "dropout (Dropout)            (None, 128)               0         \n",
      "_________________________________________________________________\n",
      "dense_1 (Dense)              (None, 32)                4128      \n",
      "_________________________________________________________________\n",
      "dropout_1 (Dropout)          (None, 32)                0         \n",
      "_________________________________________________________________\n",
      "dense_2 (Dense)              (None, 5)                 165       \n",
      "=================================================================\n",
      "Total params: 561,317\n",
      "Trainable params: 561,317\n",
      "Non-trainable params: 0\n",
      "_________________________________________________________________\n"
     ]
    }
   ],
   "source": [
    "import tensorflow as tf\n",
    "tf.keras.backend.clear_session()\n",
    "\n",
    "model1 = tf.keras.models.Sequential([tf.keras.layers.Conv1D(filters=128,kernel_size=5,strides=1,padding=\"causal\",activation=\"relu\",input_shape=(X_train.shape[1],X_train.shape[2])),\n",
    "    tf.keras.layers.MaxPooling1D(pool_size=2, strides=1, padding=\"valid\"),\n",
    "    tf.keras.layers.Conv1D(filters=64, kernel_size=3, strides=1, padding=\"causal\", activation=\"relu\"),\n",
    "    tf.keras.layers.MaxPooling1D(pool_size=2, strides=1, padding=\"valid\"),\n",
    "    tf.keras.layers.Conv1D(filters=32, kernel_size=3, strides=1, padding=\"causal\", activation=\"relu\"),\n",
    "    tf.keras.layers.MaxPooling1D(pool_size=2, strides=1, padding=\"valid\"),\n",
    "    tf.keras.layers.Bidirectional(tf.keras.layers.LSTM(128, return_sequences=True)),\n",
    "    tf.keras.layers.Flatten(),\n",
    "    tf.keras.layers.Dense(128, activation=\"relu\"),\n",
    "    tf.keras.layers.Dropout(0.2),\n",
    "    tf.keras.layers.Dense(32, activation=\"relu\"),\n",
    "    tf.keras.layers.Dropout(0.1),\n",
    "    tf.keras.layers.Dense(5)\n",
    "])\n",
    "\n",
    "lr_schedule = tf.keras.optimizers.schedules.ExponentialDecay(5e-4,\n",
    "                                                             decay_steps=1000000,\n",
    "                                                             decay_rate=0.98,\n",
    "                                                             staircase=False)\n",
    "\n",
    "model1.compile(loss=tf.keras.losses.MeanSquaredError(),\n",
    "              optimizer=tf.keras.optimizers.SGD(learning_rate=lr_schedule, momentum=0.8),\n",
    "              metrics=['acc'])\n",
    "model1.summary()"
   ]
  },
  {
   "cell_type": "code",
   "execution_count": 60,
   "metadata": {},
   "outputs": [
    {
     "name": "stdout",
     "output_type": "stream",
     "text": [
      "Epoch 1/10\n",
      "1600/1600 [==============================] - 61s 37ms/step - loss: 0.1040 - acc: 0.6464 - val_loss: 0.0737 - val_acc: 0.7569\n",
      "Epoch 2/10\n",
      "1600/1600 [==============================] - 61s 38ms/step - loss: 0.0760 - acc: 0.7962 - val_loss: 0.0555 - val_acc: 0.8481\n",
      "Epoch 3/10\n",
      "1600/1600 [==============================] - 61s 38ms/step - loss: 0.0634 - acc: 0.8355 - val_loss: 0.0491 - val_acc: 0.8481\n",
      "Epoch 4/10\n",
      "1600/1600 [==============================] - 60s 37ms/step - loss: 0.0579 - acc: 0.8411 - val_loss: 0.0449 - val_acc: 0.8525\n",
      "Epoch 5/10\n",
      "1600/1600 [==============================] - 59s 37ms/step - loss: 0.0541 - acc: 0.8564 - val_loss: 0.0425 - val_acc: 0.8650\n",
      "Epoch 6/10\n",
      "1600/1600 [==============================] - 59s 37ms/step - loss: 0.0508 - acc: 0.8617 - val_loss: 0.0403 - val_acc: 0.8694\n",
      "Epoch 7/10\n",
      "1600/1600 [==============================] - 58s 36ms/step - loss: 0.0486 - acc: 0.8645 - val_loss: 0.0388 - val_acc: 0.8719\n",
      "Epoch 8/10\n",
      "1600/1600 [==============================] - 59s 37ms/step - loss: 0.0473 - acc: 0.8659 - val_loss: 0.0369 - val_acc: 0.8712\n",
      "Epoch 9/10\n",
      "1600/1600 [==============================] - 59s 37ms/step - loss: 0.0454 - acc: 0.8705 - val_loss: 0.0366 - val_acc: 0.8788\n",
      "Epoch 10/10\n",
      "1600/1600 [==============================] - 59s 37ms/step - loss: 0.0434 - acc: 0.8750 - val_loss: 0.0345 - val_acc: 0.8763\n"
     ]
    }
   ],
   "source": [
    "modelhistory = model1.fit(X_train, Y_train, epochs=10, verbose=verbose, validation_split=0.2, batch_size = batch_size)"
   ]
  },
  {
   "cell_type": "code",
   "execution_count": 61,
   "metadata": {},
   "outputs": [
    {
     "data": {
      "image/png": "[encoded data removed]",
      "text/plain": [
       "<Figure size 432x288 with 1 Axes>"
      ]
     },
     "metadata": {
      "needs_background": "light"
     },
     "output_type": "display_data"
    },
    {
     "data": {
      "image/png": "[encoded data removed]",
      "text/plain": [
       "<Figure size 432x288 with 1 Axes>"
      ]
     },
     "metadata": {
      "needs_background": "light"
     },
     "output_type": "display_data"
    }
   ],
   "source": [
    "# Plot of accuracy vs epoch for train and test dataset\n",
    "plt.plot(modelhistory.history['acc'])\n",
    "plt.plot(modelhistory.history['val_acc'])\n",
    "plt.title(\"Plot of accuracy vs epoch for train and test dataset\")\n",
    "plt.ylabel('accuracy')\n",
    "plt.xlabel('epoch')\n",
    "plt.show()\n",
    "\n",
    "# Plot of loss vs epoch for train and test dataset\n",
    "plt.plot(modelhistory.history['loss'])\n",
    "plt.plot(modelhistory.history['val_loss'])\n",
    "plt.title(\"Plot of loss vs epoch for train and test dataset\")\n",
    "plt.ylabel('loss')\n",
    "plt.xlabel('epoch')\n",
    "plt.legend(['train', 'test'], loc='upper right')\n",
    "plt.show()"
   ]
  },
  {
   "cell_type": "code",
   "execution_count": 62,
   "metadata": {},
   "outputs": [
    {
     "name": "stdout",
     "output_type": "stream",
     "text": [
      "63/63 [==============================] - 1s 14ms/step\n"
     ]
    }
   ],
   "source": [
    "y_pred = model1.predict(X_test, verbose=1)\n",
    "y_pred = np.argmax(y_pred,axis=1)\n",
    "\n",
    "#y_prob = cnnmodel.predict_proba(X_test)[:, 1]\n",
    "\n",
    "ext_acc = accuracy_score(y_pred, y_test)\n",
    "ext_prec = precision_score(y_pred, y_test,average='weighted')\n",
    "ext_rec = recall_score(y_pred, y_test,average='weighted')\n",
    "ext_f1 = f1_score(y_pred, y_test,average='weighted')"
   ]
  },
  {
   "cell_type": "code",
   "execution_count": 79,
   "metadata": {},
   "outputs": [],
   "source": [
    "storeResults('RBM',ext_acc,ext_prec,ext_rec,ext_f1)"
   ]
  },
  {
   "cell_type": "code",
   "execution_count": 63,
   "metadata": {},
   "outputs": [],
   "source": [
    "from keras.layers import Activation, Dense, Dropout, BatchNormalization, Input\n",
    "from keras.models import Model\n",
    "from keras.callbacks import ReduceLROnPlateau, EarlyStopping"
   ]
  },
  {
   "cell_type": "code",
   "execution_count": 64,
   "metadata": {},
   "outputs": [],
   "source": [
    "X_train, X_test, y_train, y_test = train_test_split(X_reduced, y, test_size=0.33, random_state=1)"
   ]
  },
  {
   "cell_type": "code",
   "execution_count": 65,
   "metadata": {},
   "outputs": [],
   "source": [
    "n_inputs = X_train.shape[1]"
   ]
  },
  {
   "cell_type": "code",
   "execution_count": 66,
   "metadata": {},
   "outputs": [],
   "source": [
    "from sklearn.preprocessing import MinMaxScaler\n",
    "t = MinMaxScaler()\n",
    "t.fit(X_train)\n",
    "X_train = t.transform(X_train)\n",
    "X_test = t.transform(X_test)"
   ]
  },
  {
   "cell_type": "code",
   "execution_count": 67,
   "metadata": {},
   "outputs": [],
   "source": [
    "from tensorflow.keras.models import Model\n",
    "from tensorflow.keras.layers import Input\n",
    "from tensorflow.keras.layers import Dense\n",
    "from tensorflow.keras.layers import LeakyReLU\n",
    "from tensorflow.keras.layers import BatchNormalization\n",
    "\n",
    "# define encoder\n",
    "visible = Input(shape=(n_inputs,))\n",
    "\n",
    "# encoder level 1\n",
    "e = Dense(n_inputs * 2)(visible)\n",
    "e = BatchNormalization()(e)\n",
    "e = LeakyReLU()(e)\n",
    "\n",
    "# encoder level 2\n",
    "e = Dense(n_inputs)(e)\n",
    "e = BatchNormalization()(e)\n",
    "e = LeakyReLU()(e)\n",
    "\n",
    "# bottleneck\n",
    "n_bottleneck = n_inputs\n",
    "bottleneck = Dense(n_bottleneck)(e)"
   ]
  },
  {
   "cell_type": "code",
   "execution_count": 68,
   "metadata": {},
   "outputs": [],
   "source": [
    "# define decoder, level 1\n",
    "d = Dense(n_inputs)(bottleneck)\n",
    "d = BatchNormalization()(d)\n",
    "d = LeakyReLU()(d)\n",
    "\n",
    "# decoder level 2\n",
    "d = Dense(n_inputs*2)(d)\n",
    "d = BatchNormalization()(d)\n",
    "d = LeakyReLU()(d)\n",
    "\n",
    "# output layer\n",
    "output = Dense(n_inputs, activation='linear')(d)"
   ]
  },
  {
   "cell_type": "code",
   "execution_count": 69,
   "metadata": {},
   "outputs": [],
   "source": [
    "# define autoencoder model\n",
    "model = Model(inputs=visible, outputs=output)"
   ]
  },
  {
   "cell_type": "code",
   "execution_count": 70,
   "metadata": {},
   "outputs": [],
   "source": [
    "# compile autoencoder model\n",
    "model.compile(optimizer='adam', loss='mse')"
   ]
  },
  {
   "cell_type": "code",
   "execution_count": 71,
   "metadata": {},
   "outputs": [],
   "source": [
    "history = model.fit(X_train, X_train, epochs=10, batch_size=2, verbose=0, validation_data=(X_test,X_test))"
   ]
  },
  {
   "cell_type": "code",
   "execution_count": 72,
   "metadata": {},
   "outputs": [
    {
     "data": {
      "image/png": "[encoded data removed]",
      "text/plain": [
       "<Figure size 432x288 with 1 Axes>"
      ]
     },
     "metadata": {
      "needs_background": "light"
     },
     "output_type": "display_data"
    }
   ],
   "source": [
    "from tensorflow.keras.utils import plot_model\n",
    "from matplotlib import pyplot\n",
    "\n",
    "# plot loss\n",
    "pyplot.plot(history.history['loss'], label='train')\n",
    "pyplot.plot(history.history['val_loss'], label='test')\n",
    "pyplot.legend()\n",
    "pyplot.show()"
   ]
  },
  {
   "cell_type": "code",
   "execution_count": 73,
   "metadata": {},
   "outputs": [
    {
     "name": "stdout",
     "output_type": "stream",
     "text": [
      "('You must install pydot (`pip install pydot`) and install graphviz (see instructions at https://graphviz.gitlab.io/download/) ', 'for plot_model/model_to_dot to work.')\n",
      "WARNING:tensorflow:Compiled the loaded model, but the compiled metrics have yet to be built. `model.compile_metrics` will be empty until you train or evaluate the model.\n"
     ]
    }
   ],
   "source": [
    "# define an encoder model (without the decoder)\n",
    "encoder = Model(inputs=visible, outputs=bottleneck)\n",
    "plot_model(encoder, 'encoder_compress.png', show_shapes=True)\n",
    "\n",
    "# save the encoder to file\n",
    "encoder.save('encoder1.h5')"
   ]
  },
  {
   "cell_type": "code",
   "execution_count": 74,
   "metadata": {},
   "outputs": [],
   "source": [
    "# encode the train data\n",
    "X_train_encode = encoder.predict(X_train)\n",
    "# encode the test data\n",
    "X_test_encode = encoder.predict(X_test)\n",
    "## So effectively , its like dimensinality reduction or feature extraction\n",
    "\n",
    "# define the model\n",
    "from sklearn.neural_network import MLPClassifier\n",
    "model = MLPClassifier(random_state=1, max_iter=300)  \n",
    "## specifying max_iter = 200 , to avoid the CONVERGENCE WARNING\n",
    "## Why do we get CONVERGENCE WARNING ?\n",
    "## because the model has converged already , but our loop is still training ovwr many epochs.\n",
    "## Reduce the epochs\n",
    "\n",
    "# fit the model on the training set\n",
    "model.fit(X_train_encode, y_train)\n",
    "\n",
    "# make predictions on the test set\n",
    "yhat = model.predict(X_test_encode)\n",
    "\n",
    "# calculate classification accuracy\n",
    "acc = accuracy_score(y_test, yhat)"
   ]
  },
  {
   "cell_type": "code",
   "execution_count": 75,
   "metadata": {},
   "outputs": [],
   "source": [
    "dnn_acc = accuracy_score(y_test, yhat)\n",
    "dnn_prec = precision_score(y_test, yhat,average='weighted')\n",
    "dnn_rec = recall_score(y_test, yhat,average='weighted')\n",
    "dnn_f1 = f1_score(y_test, yhat,average='weighted')"
   ]
  },
  {
   "cell_type": "code",
   "execution_count": 80,
   "metadata": {},
   "outputs": [],
   "source": [
    "storeResults('DNN',dnn_acc,dnn_prec,dnn_rec,dnn_f1)"
   ]
  },
  {
   "cell_type": "markdown",
   "metadata": {},
   "source": [
    "# Comparison"
   ]
  },
  {
   "cell_type": "code",
   "execution_count": 89,
   "metadata": {},
   "outputs": [],
   "source": [
    "#creating dataframe\n",
    "result = pd.DataFrame({ 'ML Model' : ML_Model,\n",
    "                        'Accuracy' : accuracy,\n",
    "                        'Precision': precision,\n",
    "                        'Recall'   : recall,\n",
    "                        'F1-Score': f1score\n",
    "                      })"
   ]
  },
  {
   "cell_type": "code",
   "execution_count": 90,
   "metadata": {},
   "outputs": [
    {
     "data": {
      "text/html": [
       "<div>\n",
       "<style scoped>\n",
       "    .dataframe tbody tr th:only-of-type {\n",
       "        vertical-align: middle;\n",
       "    }\n",
       "\n",
       "    .dataframe tbody tr th {\n",
       "        vertical-align: top;\n",
       "    }\n",
       "\n",
       "    .dataframe thead th {\n",
       "        text-align: right;\n",
       "    }\n",
       "</style>\n",
       "<table border=\"1\" class=\"dataframe\">\n",
       "  <thead>\n",
       "    <tr style=\"text-align: right;\">\n",
       "      <th></th>\n",
       "      <th>ML Model</th>\n",
       "      <th>Accuracy</th>\n",
       "      <th>Precision</th>\n",
       "      <th>Recall</th>\n",
       "      <th>F1-Score</th>\n",
       "    </tr>\n",
       "  </thead>\n",
       "  <tbody>\n",
       "    <tr>\n",
       "      <th>0</th>\n",
       "      <td>CNN</td>\n",
       "      <td>0.758</td>\n",
       "      <td>0.868</td>\n",
       "      <td>0.758</td>\n",
       "      <td>0.794</td>\n",
       "    </tr>\n",
       "    <tr>\n",
       "      <th>1</th>\n",
       "      <td>RNN</td>\n",
       "      <td>0.364</td>\n",
       "      <td>1.000</td>\n",
       "      <td>0.364</td>\n",
       "      <td>0.534</td>\n",
       "    </tr>\n",
       "    <tr>\n",
       "      <th>2</th>\n",
       "      <td>RBM</td>\n",
       "      <td>0.878</td>\n",
       "      <td>0.966</td>\n",
       "      <td>0.878</td>\n",
       "      <td>0.917</td>\n",
       "    </tr>\n",
       "    <tr>\n",
       "      <th>3</th>\n",
       "      <td>DNN</td>\n",
       "      <td>0.951</td>\n",
       "      <td>0.950</td>\n",
       "      <td>0.951</td>\n",
       "      <td>0.950</td>\n",
       "    </tr>\n",
       "    <tr>\n",
       "      <th>4</th>\n",
       "      <td>CNN LSTM</td>\n",
       "      <td>0.896</td>\n",
       "      <td>0.956</td>\n",
       "      <td>0.896</td>\n",
       "      <td>0.917</td>\n",
       "    </tr>\n",
       "  </tbody>\n",
       "</table>\n",
       "</div>"
      ],
      "text/plain": [
       "   ML Model  Accuracy  Precision  Recall  F1-Score\n",
       "0       CNN     0.758      0.868   0.758     0.794\n",
       "1       RNN     0.364      1.000   0.364     0.534\n",
       "2       RBM     0.878      0.966   0.878     0.917\n",
       "3       DNN     0.951      0.950   0.951     0.950\n",
       "4  CNN LSTM     0.896      0.956   0.896     0.917"
      ]
     },
     "execution_count": 90,
     "metadata": {},
     "output_type": "execute_result"
    }
   ],
   "source": [
    "result"
   ]
  },
  {
   "cell_type": "markdown",
   "metadata": {},
   "source": [
    "# Graph"
   ]
  },
  {
   "cell_type": "code",
   "execution_count": 91,
   "metadata": {},
   "outputs": [],
   "source": [
    "classifier = ML_Model\n",
    "y_pos = np.arange(len(classifier))"
   ]
  },
  {
   "cell_type": "markdown",
   "metadata": {},
   "source": [
    "# Accuracy"
   ]
  },
  {
   "cell_type": "code",
   "execution_count": 92,
   "metadata": {},
   "outputs": [
    {
     "data": {
      "image/png": "[encoded data removed]",
      "text/plain": [
       "<Figure size 432x288 with 1 Axes>"
      ]
     },
     "metadata": {
      "needs_background": "light"
     },
     "output_type": "display_data"
    }
   ],
   "source": [
    "import matplotlib.pyplot as plt2\n",
    "plt2.barh(y_pos, accuracy, align='center', alpha=0.5,color='blue')\n",
    "plt2.yticks(y_pos, classifier)\n",
    "plt2.xlabel('Accuracy Score')\n",
    "plt2.title('Classification Performance')\n",
    "plt2.show()"
   ]
  },
  {
   "cell_type": "markdown",
   "metadata": {},
   "source": [
    "# Precision"
   ]
  },
  {
   "cell_type": "code",
   "execution_count": 93,
   "metadata": {},
   "outputs": [
    {
     "data": {
      "image/png": "[encoded data removed]",
      "text/plain": [
       "<Figure size 432x288 with 1 Axes>"
      ]
     },
     "metadata": {
      "needs_background": "light"
     },
     "output_type": "display_data"
    }
   ],
   "source": [
    "plt2.barh(y_pos, precision, align='center', alpha=0.5,color='red')\n",
    "plt2.yticks(y_pos, classifier)\n",
    "plt2.xlabel('Precision Score')\n",
    "plt2.title('Classification Performance')\n",
    "plt2.show()"
   ]
  },
  {
   "cell_type": "markdown",
   "metadata": {},
   "source": [
    "# Recall"
   ]
  },
  {
   "cell_type": "code",
   "execution_count": 94,
   "metadata": {},
   "outputs": [
    {
     "data": {
      "image/png": "[encoded data removed]",
      "text/plain": [
       "<Figure size 432x288 with 1 Axes>"
      ]
     },
     "metadata": {
      "needs_background": "light"
     },
     "output_type": "display_data"
    }
   ],
   "source": [
    "plt2.barh(y_pos, recall, align='center', alpha=0.5,color='cyan')\n",
    "plt2.yticks(y_pos, classifier)\n",
    "plt2.xlabel('Recall Score')\n",
    "plt2.title('Classification Performance')\n",
    "plt2.show()"
   ]
  },
  {
   "cell_type": "markdown",
   "metadata": {},
   "source": [
    "# F1 Score"
   ]
  },
  {
   "cell_type": "code",
   "execution_count": 95,
   "metadata": {},
   "outputs": [
    {
     "data": {
      "image/png": "[encoded data removed]",
      "text/plain": [
       "<Figure size 432x288 with 1 Axes>"
      ]
     },
     "metadata": {
      "needs_background": "light"
     },
     "output_type": "display_data"
    }
   ],
   "source": [
    "plt2.barh(y_pos, f1score, align='center', alpha=0.5,color='magenta')\n",
    "plt2.yticks(y_pos, classifier)\n",
    "plt2.xlabel('F1 Score')\n",
    "plt2.title('Classification Performance')\n",
    "plt2.show()"
   ]
  },
  {
   "cell_type": "code",
   "execution_count": null,
   "metadata": {},
   "outputs": [],
   "source": []
  }
 ],
 "metadata": {
  "kernelspec": {
   "display_name": "Python 3",
   "language": "python",
   "name": "python3"
  },
  "language_info": {
   "codemirror_mode": {
    "name": "ipython",
    "version": 3
   },
   "file_extension": ".py",
   "mimetype": "text/x-python",
   "name": "python",
   "nbconvert_exporter": "python",
   "pygments_lexer": "ipython3",
   "version": "3.7.4"
  }
 },
 "nbformat": 4,
 "nbformat_minor": 2
}
