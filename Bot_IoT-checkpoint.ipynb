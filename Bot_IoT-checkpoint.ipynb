{
 "cells": [
  {
   "cell_type": "code",
   "execution_count": 1,
   "metadata": {},
   "outputs": [],
   "source": [
    "import warnings\n",
    "warnings.filterwarnings('ignore')"
   ]
  },
  {
   "cell_type": "code",
   "execution_count": 2,
   "metadata": {},
   "outputs": [],
   "source": [
    "import numpy as np\n",
    "import pandas as pd\n",
    "import pickle # saving and loading trained model\n",
    "from os import path\n",
    "\n",
    "# importing required libraries for normalizing data\n",
    "from sklearn import preprocessing\n",
    "from sklearn.preprocessing import (StandardScaler, OrdinalEncoder,LabelEncoder, MinMaxScaler, OneHotEncoder)\n",
    "from sklearn.preprocessing import Normalizer, MaxAbsScaler , RobustScaler, PowerTransformer\n",
    "\n",
    "# importing library for plotting\n",
    "import matplotlib.pyplot as plt\n",
    "import seaborn as sns\n",
    "\n",
    "from sklearn import metrics\n",
    "from sklearn.metrics import accuracy_score # for calculating accuracy of model\n",
    "from sklearn.model_selection import train_test_split # for splitting the dataset for training and testing\n",
    "from sklearn.metrics import classification_report # for generating a classification report of model\n",
    "\n",
    "from sklearn.metrics import precision_score\n",
    "from sklearn.metrics import recall_score\n",
    "from sklearn.metrics import f1_score\n",
    "\n",
    "import tensorflow as tf\n",
    "from tensorflow.keras.utils import to_categorical\n",
    "\n",
    "from keras.layers import Dense, Conv1D, MaxPool1D, Flatten, Dropout # importing dense layer\n",
    "from keras.models import Sequential #importing Sequential layer\n",
    "from keras.layers import Input\n",
    "from keras.models import Model\n",
    "# representation of model layers\n",
    "from keras.utils.vis_utils import plot_model"
   ]
  },
  {
   "cell_type": "code",
   "execution_count": 3,
   "metadata": {},
   "outputs": [
    {
     "name": "stdout",
     "output_type": "stream",
     "text": [
      "1 Physical GPU, 2 Logical GPUs\n"
     ]
    }
   ],
   "source": [
    "import tensorflow as tf\n",
    "gpus = tf.config.list_physical_devices('GPU')\n",
    "if gpus:\n",
    "  # Create 2 virtual GPUs with 1GB memory each\n",
    "  try:\n",
    "    tf.config.set_logical_device_configuration(\n",
    "        gpus[0],\n",
    "        [tf.config.LogicalDeviceConfiguration(memory_limit=1024),\n",
    "         tf.config.LogicalDeviceConfiguration(memory_limit=1024)])\n",
    "    logical_gpus = tf.config.list_logical_devices('GPU')\n",
    "    print(len(gpus), \"Physical GPU,\", len(logical_gpus), \"Logical GPUs\")\n",
    "  except RuntimeError as e:\n",
    "    # Virtual devices must be set before GPUs have been initialized\n",
    "    print(e)"
   ]
  },
  {
   "cell_type": "code",
   "execution_count": 4,
   "metadata": {},
   "outputs": [],
   "source": [
    "train='bot_ioT_data_1.csv'\n",
    "\n",
    "train_data=pd.read_csv(train)"
   ]
  },
  {
   "cell_type": "code",
   "execution_count": 5,
   "metadata": {},
   "outputs": [
    {
     "data": {
      "text/html": [
       "<div>\n",
       "<style scoped>\n",
       "    .dataframe tbody tr th:only-of-type {\n",
       "        vertical-align: middle;\n",
       "    }\n",
       "\n",
       "    .dataframe tbody tr th {\n",
       "        vertical-align: top;\n",
       "    }\n",
       "\n",
       "    .dataframe thead th {\n",
       "        text-align: right;\n",
       "    }\n",
       "</style>\n",
       "<table border=\"1\" class=\"dataframe\">\n",
       "  <thead>\n",
       "    <tr style=\"text-align: right;\">\n",
       "      <th></th>\n",
       "      <th>pkSeqID</th>\n",
       "      <th>stime</th>\n",
       "      <th>flgs</th>\n",
       "      <th>proto</th>\n",
       "      <th>saddr</th>\n",
       "      <th>sport</th>\n",
       "      <th>daddr</th>\n",
       "      <th>dport</th>\n",
       "      <th>pkts</th>\n",
       "      <th>bytes</th>\n",
       "      <th>...</th>\n",
       "      <th>spkts</th>\n",
       "      <th>dpkts</th>\n",
       "      <th>sbytes</th>\n",
       "      <th>dbytes</th>\n",
       "      <th>rate</th>\n",
       "      <th>srate</th>\n",
       "      <th>drate</th>\n",
       "      <th>attack</th>\n",
       "      <th>category</th>\n",
       "      <th>subcategory</th>\n",
       "    </tr>\n",
       "  </thead>\n",
       "  <tbody>\n",
       "    <tr>\n",
       "      <th>0</th>\n",
       "      <td>1</td>\n",
       "      <td>1.526344e+09</td>\n",
       "      <td>e</td>\n",
       "      <td>arp</td>\n",
       "      <td>192.168.100.1</td>\n",
       "      <td>NaN</td>\n",
       "      <td>192.168.100.3</td>\n",
       "      <td>NaN</td>\n",
       "      <td>4</td>\n",
       "      <td>240</td>\n",
       "      <td>...</td>\n",
       "      <td>2</td>\n",
       "      <td>2</td>\n",
       "      <td>120</td>\n",
       "      <td>120</td>\n",
       "      <td>0.002508</td>\n",
       "      <td>0.000836</td>\n",
       "      <td>0.000836</td>\n",
       "      <td>0</td>\n",
       "      <td>Normal</td>\n",
       "      <td>Normal</td>\n",
       "    </tr>\n",
       "    <tr>\n",
       "      <th>1</th>\n",
       "      <td>2</td>\n",
       "      <td>1.526344e+09</td>\n",
       "      <td>e</td>\n",
       "      <td>tcp</td>\n",
       "      <td>192.168.100.7</td>\n",
       "      <td>139</td>\n",
       "      <td>192.168.100.4</td>\n",
       "      <td>36390</td>\n",
       "      <td>10</td>\n",
       "      <td>680</td>\n",
       "      <td>...</td>\n",
       "      <td>5</td>\n",
       "      <td>5</td>\n",
       "      <td>350</td>\n",
       "      <td>330</td>\n",
       "      <td>0.006190</td>\n",
       "      <td>0.002751</td>\n",
       "      <td>0.002751</td>\n",
       "      <td>0</td>\n",
       "      <td>Normal</td>\n",
       "      <td>Normal</td>\n",
       "    </tr>\n",
       "    <tr>\n",
       "      <th>2</th>\n",
       "      <td>3</td>\n",
       "      <td>1.526344e+09</td>\n",
       "      <td>e</td>\n",
       "      <td>udp</td>\n",
       "      <td>192.168.100.149</td>\n",
       "      <td>51838</td>\n",
       "      <td>27.124.125.250</td>\n",
       "      <td>123</td>\n",
       "      <td>2</td>\n",
       "      <td>180</td>\n",
       "      <td>...</td>\n",
       "      <td>1</td>\n",
       "      <td>1</td>\n",
       "      <td>90</td>\n",
       "      <td>90</td>\n",
       "      <td>20.590960</td>\n",
       "      <td>0.000000</td>\n",
       "      <td>0.000000</td>\n",
       "      <td>0</td>\n",
       "      <td>Normal</td>\n",
       "      <td>Normal</td>\n",
       "    </tr>\n",
       "    <tr>\n",
       "      <th>3</th>\n",
       "      <td>4</td>\n",
       "      <td>1.526344e+09</td>\n",
       "      <td>e</td>\n",
       "      <td>arp</td>\n",
       "      <td>192.168.100.4</td>\n",
       "      <td>NaN</td>\n",
       "      <td>192.168.100.7</td>\n",
       "      <td>NaN</td>\n",
       "      <td>10</td>\n",
       "      <td>510</td>\n",
       "      <td>...</td>\n",
       "      <td>5</td>\n",
       "      <td>5</td>\n",
       "      <td>210</td>\n",
       "      <td>300</td>\n",
       "      <td>0.006189</td>\n",
       "      <td>0.002751</td>\n",
       "      <td>0.002751</td>\n",
       "      <td>0</td>\n",
       "      <td>Normal</td>\n",
       "      <td>Normal</td>\n",
       "    </tr>\n",
       "    <tr>\n",
       "      <th>4</th>\n",
       "      <td>5</td>\n",
       "      <td>1.526344e+09</td>\n",
       "      <td>e</td>\n",
       "      <td>udp</td>\n",
       "      <td>192.168.100.27</td>\n",
       "      <td>58999</td>\n",
       "      <td>192.168.100.1</td>\n",
       "      <td>53</td>\n",
       "      <td>4</td>\n",
       "      <td>630</td>\n",
       "      <td>...</td>\n",
       "      <td>2</td>\n",
       "      <td>2</td>\n",
       "      <td>174</td>\n",
       "      <td>456</td>\n",
       "      <td>0.005264</td>\n",
       "      <td>0.001755</td>\n",
       "      <td>0.001755</td>\n",
       "      <td>0</td>\n",
       "      <td>Normal</td>\n",
       "      <td>Normal</td>\n",
       "    </tr>\n",
       "  </tbody>\n",
       "</table>\n",
       "<p>5 rows × 35 columns</p>\n",
       "</div>"
      ],
      "text/plain": [
       "   pkSeqID         stime flgs proto            saddr  sport           daddr  \\\n",
       "0        1  1.526344e+09    e   arp    192.168.100.1    NaN   192.168.100.3   \n",
       "1        2  1.526344e+09    e   tcp    192.168.100.7    139   192.168.100.4   \n",
       "2        3  1.526344e+09    e   udp  192.168.100.149  51838  27.124.125.250   \n",
       "3        4  1.526344e+09    e   arp    192.168.100.4    NaN   192.168.100.7   \n",
       "4        5  1.526344e+09    e   udp   192.168.100.27  58999   192.168.100.1   \n",
       "\n",
       "   dport  pkts  bytes  ... spkts  dpkts  sbytes  dbytes       rate     srate  \\\n",
       "0    NaN     4    240  ...     2      2     120     120   0.002508  0.000836   \n",
       "1  36390    10    680  ...     5      5     350     330   0.006190  0.002751   \n",
       "2    123     2    180  ...     1      1      90      90  20.590960  0.000000   \n",
       "3    NaN    10    510  ...     5      5     210     300   0.006189  0.002751   \n",
       "4     53     4    630  ...     2      2     174     456   0.005264  0.001755   \n",
       "\n",
       "      drate  attack  category  subcategory   \n",
       "0  0.000836       0    Normal        Normal  \n",
       "1  0.002751       0    Normal        Normal  \n",
       "2  0.000000       0    Normal        Normal  \n",
       "3  0.002751       0    Normal        Normal  \n",
       "4  0.001755       0    Normal        Normal  \n",
       "\n",
       "[5 rows x 35 columns]"
      ]
     },
     "execution_count": 5,
     "metadata": {},
     "output_type": "execute_result"
    }
   ],
   "source": [
    "train_data.head()"
   ]
  },
  {
   "cell_type": "code",
   "execution_count": 7,
   "metadata": {},
   "outputs": [
    {
     "name": "stdout",
     "output_type": "stream",
     "text": [
      "<class 'pandas.core.frame.DataFrame'>\n",
      "RangeIndex: 1000000 entries, 0 to 999999\n",
      "Data columns (total 35 columns):\n",
      "pkSeqID         1000000 non-null int64\n",
      "stime           1000000 non-null float64\n",
      "flgs            1000000 non-null object\n",
      "proto           1000000 non-null object\n",
      "saddr           1000000 non-null object\n",
      "sport           999513 non-null object\n",
      "daddr           1000000 non-null object\n",
      "dport           999513 non-null object\n",
      "pkts            1000000 non-null int64\n",
      "bytes           1000000 non-null int64\n",
      "state           1000000 non-null object\n",
      "ltime           1000000 non-null float64\n",
      "seq             1000000 non-null int64\n",
      "dur             1000000 non-null float64\n",
      "mean            1000000 non-null float64\n",
      "stddev          1000000 non-null float64\n",
      "smac            0 non-null float64\n",
      "dmac            0 non-null float64\n",
      "sum             1000000 non-null float64\n",
      "min             1000000 non-null float64\n",
      "max             1000000 non-null float64\n",
      "soui            0 non-null float64\n",
      "doui            0 non-null float64\n",
      "sco             0 non-null float64\n",
      "dco             0 non-null float64\n",
      "spkts           1000000 non-null int64\n",
      "dpkts           1000000 non-null int64\n",
      "sbytes          1000000 non-null int64\n",
      "dbytes          1000000 non-null int64\n",
      "rate            1000000 non-null float64\n",
      "srate           1000000 non-null float64\n",
      "drate           1000000 non-null float64\n",
      "attack          1000000 non-null int64\n",
      "category        1000000 non-null object\n",
      "subcategory     1000000 non-null object\n",
      "dtypes: float64(17), int64(9), object(9)\n",
      "memory usage: 267.0+ MB\n"
     ]
    }
   ],
   "source": [
    "train_data.info()"
   ]
  },
  {
   "cell_type": "code",
   "execution_count": 8,
   "metadata": {},
   "outputs": [],
   "source": [
    "del train_data['smac']\n",
    "del train_data['dmac']\n",
    "del train_data['soui']\n",
    "del train_data['doui']\n",
    "del train_data['sco']\n",
    "del train_data['dco']\n",
    "del train_data['stime']\n",
    "del train_data['saddr']\n",
    "del train_data['daddr']"
   ]
  },
  {
   "cell_type": "code",
   "execution_count": 9,
   "metadata": {},
   "outputs": [
    {
     "name": "stdout",
     "output_type": "stream",
     "text": [
      "<class 'pandas.core.frame.DataFrame'>\n",
      "RangeIndex: 1000000 entries, 0 to 999999\n",
      "Data columns (total 26 columns):\n",
      "pkSeqID         1000000 non-null int64\n",
      "flgs            1000000 non-null object\n",
      "proto           1000000 non-null object\n",
      "sport           999513 non-null object\n",
      "dport           999513 non-null object\n",
      "pkts            1000000 non-null int64\n",
      "bytes           1000000 non-null int64\n",
      "state           1000000 non-null object\n",
      "ltime           1000000 non-null float64\n",
      "seq             1000000 non-null int64\n",
      "dur             1000000 non-null float64\n",
      "mean            1000000 non-null float64\n",
      "stddev          1000000 non-null float64\n",
      "sum             1000000 non-null float64\n",
      "min             1000000 non-null float64\n",
      "max             1000000 non-null float64\n",
      "spkts           1000000 non-null int64\n",
      "dpkts           1000000 non-null int64\n",
      "sbytes          1000000 non-null int64\n",
      "dbytes          1000000 non-null int64\n",
      "rate            1000000 non-null float64\n",
      "srate           1000000 non-null float64\n",
      "drate           1000000 non-null float64\n",
      "attack          1000000 non-null int64\n",
      "category        1000000 non-null object\n",
      "subcategory     1000000 non-null object\n",
      "dtypes: float64(10), int64(9), object(7)\n",
      "memory usage: 198.4+ MB\n"
     ]
    }
   ],
   "source": [
    "train_data.info()"
   ]
  },
  {
   "cell_type": "code",
   "execution_count": 10,
   "metadata": {},
   "outputs": [],
   "source": [
    "train_data = train_data.dropna()"
   ]
  },
  {
   "cell_type": "code",
   "execution_count": 12,
   "metadata": {},
   "outputs": [
    {
     "name": "stdout",
     "output_type": "stream",
     "text": [
      "<class 'pandas.core.frame.DataFrame'>\n",
      "Int64Index: 999513 entries, 1 to 999999\n",
      "Data columns (total 26 columns):\n",
      "pkSeqID         999513 non-null int64\n",
      "flgs            999513 non-null object\n",
      "proto           999513 non-null object\n",
      "sport           999513 non-null object\n",
      "dport           999513 non-null object\n",
      "pkts            999513 non-null int64\n",
      "bytes           999513 non-null int64\n",
      "state           999513 non-null object\n",
      "ltime           999513 non-null float64\n",
      "seq             999513 non-null int64\n",
      "dur             999513 non-null float64\n",
      "mean            999513 non-null float64\n",
      "stddev          999513 non-null float64\n",
      "sum             999513 non-null float64\n",
      "min             999513 non-null float64\n",
      "max             999513 non-null float64\n",
      "spkts           999513 non-null int64\n",
      "dpkts           999513 non-null int64\n",
      "sbytes          999513 non-null int64\n",
      "dbytes          999513 non-null int64\n",
      "rate            999513 non-null float64\n",
      "srate           999513 non-null float64\n",
      "drate           999513 non-null float64\n",
      "attack          999513 non-null int64\n",
      "category        999513 non-null object\n",
      "subcategory     999513 non-null object\n",
      "dtypes: float64(10), int64(9), object(7)\n",
      "memory usage: 205.9+ MB\n"
     ]
    }
   ],
   "source": [
    "train_data.info()"
   ]
  },
  {
   "cell_type": "code",
   "execution_count": 13,
   "metadata": {},
   "outputs": [
    {
     "data": {
      "text/plain": [
       "1    997753\n",
       "0      1760\n",
       "Name: attack, dtype: int64"
      ]
     },
     "execution_count": 13,
     "metadata": {},
     "output_type": "execute_result"
    }
   ],
   "source": [
    "train_data['attack'].value_counts()"
   ]
  },
  {
   "cell_type": "code",
   "execution_count": 15,
   "metadata": {},
   "outputs": [
    {
     "data": {
      "text/plain": [
       "Index(['pkSeqID', 'flgs', 'proto', 'sport', 'dport', 'pkts', 'bytes', 'state',\n",
       "       'ltime', 'seq', 'dur', 'mean', 'stddev', 'sum', 'min', 'max', 'spkts',\n",
       "       'dpkts', 'sbytes', 'dbytes', 'rate', 'srate', 'drate', 'attack',\n",
       "       'subcategory '],\n",
       "      dtype='object')"
      ]
     },
     "execution_count": 15,
     "metadata": {},
     "output_type": "execute_result"
    }
   ],
   "source": [
    "train_data.columns"
   ]
  },
  {
   "cell_type": "code",
   "execution_count": 16,
   "metadata": {},
   "outputs": [],
   "source": [
    "del train_data['category']\n",
    "del train_data['subcategory ']"
   ]
  },
  {
   "cell_type": "code",
   "execution_count": 33,
   "metadata": {},
   "outputs": [],
   "source": [
    "#train_data = train_data[0:10000]"
   ]
  },
  {
   "cell_type": "code",
   "execution_count": 17,
   "metadata": {},
   "outputs": [
    {
     "data": {
      "text/plain": [
       "1    997753\n",
       "0      1760\n",
       "Name: attack, dtype: int64"
      ]
     },
     "execution_count": 17,
     "metadata": {},
     "output_type": "execute_result"
    }
   ],
   "source": [
    "# distribution of attack classes\n",
    "train_data.attack.value_counts()"
   ]
  },
  {
   "cell_type": "code",
   "execution_count": 19,
   "metadata": {},
   "outputs": [],
   "source": [
    "# creating a dataframe with multi-class labels (Dos,Probe,R2L,U2R,normal)\n",
    "multi_data = train_data.copy()\n",
    "multi_label = pd.DataFrame(multi_data.attack)"
   ]
  },
  {
   "cell_type": "code",
   "execution_count": 20,
   "metadata": {},
   "outputs": [],
   "source": [
    "# using standard scaler for normalizing\n",
    "std_scaler = StandardScaler()\n",
    "def standardization(df,col):\n",
    "  for i in col:\n",
    "    arr = df[i]\n",
    "    arr = np.array(arr)\n",
    "    df[i] = std_scaler.fit_transform(arr.reshape(len(arr),1))\n",
    "  return df\n",
    "\n",
    "numeric_col = multi_data.select_dtypes(include='number').columns\n",
    "data = standardization(multi_data,numeric_col)"
   ]
  },
  {
   "cell_type": "code",
   "execution_count": 21,
   "metadata": {},
   "outputs": [
    {
     "data": {
      "text/html": [
       "<div>\n",
       "<style scoped>\n",
       "    .dataframe tbody tr th:only-of-type {\n",
       "        vertical-align: middle;\n",
       "    }\n",
       "\n",
       "    .dataframe tbody tr th {\n",
       "        vertical-align: top;\n",
       "    }\n",
       "\n",
       "    .dataframe thead th {\n",
       "        text-align: right;\n",
       "    }\n",
       "</style>\n",
       "<table border=\"1\" class=\"dataframe\">\n",
       "  <thead>\n",
       "    <tr style=\"text-align: right;\">\n",
       "      <th></th>\n",
       "      <th>pkSeqID</th>\n",
       "      <th>flgs</th>\n",
       "      <th>proto</th>\n",
       "      <th>sport</th>\n",
       "      <th>dport</th>\n",
       "      <th>pkts</th>\n",
       "      <th>bytes</th>\n",
       "      <th>state</th>\n",
       "      <th>ltime</th>\n",
       "      <th>seq</th>\n",
       "      <th>...</th>\n",
       "      <th>max</th>\n",
       "      <th>spkts</th>\n",
       "      <th>dpkts</th>\n",
       "      <th>sbytes</th>\n",
       "      <th>dbytes</th>\n",
       "      <th>rate</th>\n",
       "      <th>srate</th>\n",
       "      <th>drate</th>\n",
       "      <th>attack</th>\n",
       "      <th>intrusion</th>\n",
       "    </tr>\n",
       "  </thead>\n",
       "  <tbody>\n",
       "    <tr>\n",
       "      <th>1</th>\n",
       "      <td>-1.732297</td>\n",
       "      <td>e</td>\n",
       "      <td>tcp</td>\n",
       "      <td>139</td>\n",
       "      <td>36390</td>\n",
       "      <td>0.004015</td>\n",
       "      <td>-0.009365</td>\n",
       "      <td>CON</td>\n",
       "      <td>-2.474600</td>\n",
       "      <td>-1.148851</td>\n",
       "      <td>...</td>\n",
       "      <td>-0.157645</td>\n",
       "      <td>-0.001174</td>\n",
       "      <td>0.011196</td>\n",
       "      <td>-0.010443</td>\n",
       "      <td>-0.006071</td>\n",
       "      <td>-0.194931</td>\n",
       "      <td>-0.078204</td>\n",
       "      <td>-0.099822</td>\n",
       "      <td>-23.809769</td>\n",
       "      <td>0</td>\n",
       "    </tr>\n",
       "    <tr>\n",
       "      <th>2</th>\n",
       "      <td>-1.732294</td>\n",
       "      <td>e</td>\n",
       "      <td>udp</td>\n",
       "      <td>51838</td>\n",
       "      <td>123</td>\n",
       "      <td>-0.012164</td>\n",
       "      <td>-0.010411</td>\n",
       "      <td>CON</td>\n",
       "      <td>-2.482075</td>\n",
       "      <td>-1.148839</td>\n",
       "      <td>...</td>\n",
       "      <td>0.041903</td>\n",
       "      <td>-0.013247</td>\n",
       "      <td>-0.007665</td>\n",
       "      <td>-0.011294</td>\n",
       "      <td>-0.007203</td>\n",
       "      <td>-0.194317</td>\n",
       "      <td>-0.078205</td>\n",
       "      <td>-0.099823</td>\n",
       "      <td>-23.809769</td>\n",
       "      <td>0</td>\n",
       "    </tr>\n",
       "    <tr>\n",
       "      <th>4</th>\n",
       "      <td>-1.732287</td>\n",
       "      <td>e</td>\n",
       "      <td>udp</td>\n",
       "      <td>58999</td>\n",
       "      <td>53</td>\n",
       "      <td>-0.008119</td>\n",
       "      <td>-0.009470</td>\n",
       "      <td>CON</td>\n",
       "      <td>-2.478748</td>\n",
       "      <td>-1.148804</td>\n",
       "      <td>...</td>\n",
       "      <td>0.576892</td>\n",
       "      <td>-0.010229</td>\n",
       "      <td>-0.002950</td>\n",
       "      <td>-0.011019</td>\n",
       "      <td>-0.005477</td>\n",
       "      <td>-0.194931</td>\n",
       "      <td>-0.078205</td>\n",
       "      <td>-0.099822</td>\n",
       "      <td>-23.809769</td>\n",
       "      <td>0</td>\n",
       "    </tr>\n",
       "    <tr>\n",
       "      <th>7</th>\n",
       "      <td>-1.732276</td>\n",
       "      <td>e</td>\n",
       "      <td>udp</td>\n",
       "      <td>58360</td>\n",
       "      <td>53</td>\n",
       "      <td>-0.012164</td>\n",
       "      <td>-0.010427</td>\n",
       "      <td>INT</td>\n",
       "      <td>-2.481550</td>\n",
       "      <td>-1.148757</td>\n",
       "      <td>...</td>\n",
       "      <td>-0.157818</td>\n",
       "      <td>-0.010229</td>\n",
       "      <td>-0.012381</td>\n",
       "      <td>-0.011025</td>\n",
       "      <td>-0.007627</td>\n",
       "      <td>-0.194919</td>\n",
       "      <td>-0.078071</td>\n",
       "      <td>-0.099823</td>\n",
       "      <td>-23.809769</td>\n",
       "      <td>0</td>\n",
       "    </tr>\n",
       "    <tr>\n",
       "      <th>8</th>\n",
       "      <td>-1.732273</td>\n",
       "      <td>e</td>\n",
       "      <td>udp</td>\n",
       "      <td>37214</td>\n",
       "      <td>53</td>\n",
       "      <td>-0.012164</td>\n",
       "      <td>-0.010427</td>\n",
       "      <td>INT</td>\n",
       "      <td>-2.481540</td>\n",
       "      <td>-1.148488</td>\n",
       "      <td>...</td>\n",
       "      <td>-0.157818</td>\n",
       "      <td>-0.010229</td>\n",
       "      <td>-0.012381</td>\n",
       "      <td>-0.011025</td>\n",
       "      <td>-0.007627</td>\n",
       "      <td>-0.194919</td>\n",
       "      <td>-0.078071</td>\n",
       "      <td>-0.099823</td>\n",
       "      <td>-23.809769</td>\n",
       "      <td>0</td>\n",
       "    </tr>\n",
       "    <tr>\n",
       "      <th>...</th>\n",
       "      <td>...</td>\n",
       "      <td>...</td>\n",
       "      <td>...</td>\n",
       "      <td>...</td>\n",
       "      <td>...</td>\n",
       "      <td>...</td>\n",
       "      <td>...</td>\n",
       "      <td>...</td>\n",
       "      <td>...</td>\n",
       "      <td>...</td>\n",
       "      <td>...</td>\n",
       "      <td>...</td>\n",
       "      <td>...</td>\n",
       "      <td>...</td>\n",
       "      <td>...</td>\n",
       "      <td>...</td>\n",
       "      <td>...</td>\n",
       "      <td>...</td>\n",
       "      <td>...</td>\n",
       "      <td>...</td>\n",
       "      <td>...</td>\n",
       "    </tr>\n",
       "    <tr>\n",
       "      <th>999995</th>\n",
       "      <td>1.731930</td>\n",
       "      <td>e</td>\n",
       "      <td>tcp</td>\n",
       "      <td>49731</td>\n",
       "      <td>12020</td>\n",
       "      <td>-0.012164</td>\n",
       "      <td>-0.010536</td>\n",
       "      <td>RST</td>\n",
       "      <td>0.636627</td>\n",
       "      <td>0.962509</td>\n",
       "      <td>...</td>\n",
       "      <td>0.014576</td>\n",
       "      <td>-0.013247</td>\n",
       "      <td>-0.007665</td>\n",
       "      <td>-0.011392</td>\n",
       "      <td>-0.007344</td>\n",
       "      <td>-0.194219</td>\n",
       "      <td>-0.078205</td>\n",
       "      <td>-0.099823</td>\n",
       "      <td>0.042000</td>\n",
       "      <td>1</td>\n",
       "    </tr>\n",
       "    <tr>\n",
       "      <th>999996</th>\n",
       "      <td>1.731933</td>\n",
       "      <td>e</td>\n",
       "      <td>tcp</td>\n",
       "      <td>49731</td>\n",
       "      <td>60532</td>\n",
       "      <td>-0.012164</td>\n",
       "      <td>-0.010536</td>\n",
       "      <td>RST</td>\n",
       "      <td>0.636627</td>\n",
       "      <td>0.962521</td>\n",
       "      <td>...</td>\n",
       "      <td>0.014576</td>\n",
       "      <td>-0.013247</td>\n",
       "      <td>-0.007665</td>\n",
       "      <td>-0.011392</td>\n",
       "      <td>-0.007344</td>\n",
       "      <td>-0.194219</td>\n",
       "      <td>-0.078205</td>\n",
       "      <td>-0.099823</td>\n",
       "      <td>0.042000</td>\n",
       "      <td>1</td>\n",
       "    </tr>\n",
       "    <tr>\n",
       "      <th>999997</th>\n",
       "      <td>1.731937</td>\n",
       "      <td>e</td>\n",
       "      <td>tcp</td>\n",
       "      <td>49731</td>\n",
       "      <td>52144</td>\n",
       "      <td>-0.012164</td>\n",
       "      <td>-0.010536</td>\n",
       "      <td>RST</td>\n",
       "      <td>0.636627</td>\n",
       "      <td>0.962533</td>\n",
       "      <td>...</td>\n",
       "      <td>0.014523</td>\n",
       "      <td>-0.013247</td>\n",
       "      <td>-0.007665</td>\n",
       "      <td>-0.011392</td>\n",
       "      <td>-0.007344</td>\n",
       "      <td>-0.194219</td>\n",
       "      <td>-0.078205</td>\n",
       "      <td>-0.099823</td>\n",
       "      <td>0.042000</td>\n",
       "      <td>1</td>\n",
       "    </tr>\n",
       "    <tr>\n",
       "      <th>999998</th>\n",
       "      <td>1.731940</td>\n",
       "      <td>e</td>\n",
       "      <td>tcp</td>\n",
       "      <td>49731</td>\n",
       "      <td>58105</td>\n",
       "      <td>-0.012164</td>\n",
       "      <td>-0.010536</td>\n",
       "      <td>RST</td>\n",
       "      <td>0.636627</td>\n",
       "      <td>0.962544</td>\n",
       "      <td>...</td>\n",
       "      <td>0.014576</td>\n",
       "      <td>-0.013247</td>\n",
       "      <td>-0.007665</td>\n",
       "      <td>-0.011392</td>\n",
       "      <td>-0.007344</td>\n",
       "      <td>-0.194219</td>\n",
       "      <td>-0.078205</td>\n",
       "      <td>-0.099823</td>\n",
       "      <td>0.042000</td>\n",
       "      <td>1</td>\n",
       "    </tr>\n",
       "    <tr>\n",
       "      <th>999999</th>\n",
       "      <td>1.731944</td>\n",
       "      <td>e</td>\n",
       "      <td>tcp</td>\n",
       "      <td>49731</td>\n",
       "      <td>16416</td>\n",
       "      <td>-0.012164</td>\n",
       "      <td>-0.010536</td>\n",
       "      <td>RST</td>\n",
       "      <td>0.636627</td>\n",
       "      <td>0.962556</td>\n",
       "      <td>...</td>\n",
       "      <td>0.014580</td>\n",
       "      <td>-0.013247</td>\n",
       "      <td>-0.007665</td>\n",
       "      <td>-0.011392</td>\n",
       "      <td>-0.007344</td>\n",
       "      <td>-0.194219</td>\n",
       "      <td>-0.078205</td>\n",
       "      <td>-0.099823</td>\n",
       "      <td>0.042000</td>\n",
       "      <td>1</td>\n",
       "    </tr>\n",
       "  </tbody>\n",
       "</table>\n",
       "<p>999513 rows × 25 columns</p>\n",
       "</div>"
      ],
      "text/plain": [
       "         pkSeqID flgs proto  sport  dport      pkts     bytes state     ltime  \\\n",
       "1      -1.732297    e   tcp    139  36390  0.004015 -0.009365   CON -2.474600   \n",
       "2      -1.732294    e   udp  51838    123 -0.012164 -0.010411   CON -2.482075   \n",
       "4      -1.732287    e   udp  58999     53 -0.008119 -0.009470   CON -2.478748   \n",
       "7      -1.732276    e   udp  58360     53 -0.012164 -0.010427   INT -2.481550   \n",
       "8      -1.732273    e   udp  37214     53 -0.012164 -0.010427   INT -2.481540   \n",
       "...          ...  ...   ...    ...    ...       ...       ...   ...       ...   \n",
       "999995  1.731930    e   tcp  49731  12020 -0.012164 -0.010536   RST  0.636627   \n",
       "999996  1.731933    e   tcp  49731  60532 -0.012164 -0.010536   RST  0.636627   \n",
       "999997  1.731937    e   tcp  49731  52144 -0.012164 -0.010536   RST  0.636627   \n",
       "999998  1.731940    e   tcp  49731  58105 -0.012164 -0.010536   RST  0.636627   \n",
       "999999  1.731944    e   tcp  49731  16416 -0.012164 -0.010536   RST  0.636627   \n",
       "\n",
       "             seq  ...       max     spkts     dpkts    sbytes    dbytes  \\\n",
       "1      -1.148851  ... -0.157645 -0.001174  0.011196 -0.010443 -0.006071   \n",
       "2      -1.148839  ...  0.041903 -0.013247 -0.007665 -0.011294 -0.007203   \n",
       "4      -1.148804  ...  0.576892 -0.010229 -0.002950 -0.011019 -0.005477   \n",
       "7      -1.148757  ... -0.157818 -0.010229 -0.012381 -0.011025 -0.007627   \n",
       "8      -1.148488  ... -0.157818 -0.010229 -0.012381 -0.011025 -0.007627   \n",
       "...          ...  ...       ...       ...       ...       ...       ...   \n",
       "999995  0.962509  ...  0.014576 -0.013247 -0.007665 -0.011392 -0.007344   \n",
       "999996  0.962521  ...  0.014576 -0.013247 -0.007665 -0.011392 -0.007344   \n",
       "999997  0.962533  ...  0.014523 -0.013247 -0.007665 -0.011392 -0.007344   \n",
       "999998  0.962544  ...  0.014576 -0.013247 -0.007665 -0.011392 -0.007344   \n",
       "999999  0.962556  ...  0.014580 -0.013247 -0.007665 -0.011392 -0.007344   \n",
       "\n",
       "            rate     srate     drate     attack  intrusion  \n",
       "1      -0.194931 -0.078204 -0.099822 -23.809769          0  \n",
       "2      -0.194317 -0.078205 -0.099823 -23.809769          0  \n",
       "4      -0.194931 -0.078205 -0.099822 -23.809769          0  \n",
       "7      -0.194919 -0.078071 -0.099823 -23.809769          0  \n",
       "8      -0.194919 -0.078071 -0.099823 -23.809769          0  \n",
       "...          ...       ...       ...        ...        ...  \n",
       "999995 -0.194219 -0.078205 -0.099823   0.042000          1  \n",
       "999996 -0.194219 -0.078205 -0.099823   0.042000          1  \n",
       "999997 -0.194219 -0.078205 -0.099823   0.042000          1  \n",
       "999998 -0.194219 -0.078205 -0.099823   0.042000          1  \n",
       "999999 -0.194219 -0.078205 -0.099823   0.042000          1  \n",
       "\n",
       "[999513 rows x 25 columns]"
      ]
     },
     "execution_count": 21,
     "metadata": {},
     "output_type": "execute_result"
    }
   ],
   "source": [
    "# label encoding (0,1,2,3,4) multi-class labels (Dos,normal,Probe,R2L,U2R)\n",
    "le2 = preprocessing.LabelEncoder()\n",
    "enc_label = multi_label.apply(le2.fit_transform)\n",
    "multi_data['intrusion'] = enc_label\n",
    "#y_mul = multi_data['intrusion']\n",
    "multi_data"
   ]
  },
  {
   "cell_type": "code",
   "execution_count": 22,
   "metadata": {
    "scrolled": true
   },
   "outputs": [
    {
     "data": {
      "text/html": [
       "<div>\n",
       "<style scoped>\n",
       "    .dataframe tbody tr th:only-of-type {\n",
       "        vertical-align: middle;\n",
       "    }\n",
       "\n",
       "    .dataframe tbody tr th {\n",
       "        vertical-align: top;\n",
       "    }\n",
       "\n",
       "    .dataframe thead th {\n",
       "        text-align: right;\n",
       "    }\n",
       "</style>\n",
       "<table border=\"1\" class=\"dataframe\">\n",
       "  <thead>\n",
       "    <tr style=\"text-align: right;\">\n",
       "      <th></th>\n",
       "      <th>pkSeqID</th>\n",
       "      <th>flgs</th>\n",
       "      <th>proto</th>\n",
       "      <th>sport</th>\n",
       "      <th>dport</th>\n",
       "      <th>pkts</th>\n",
       "      <th>bytes</th>\n",
       "      <th>state</th>\n",
       "      <th>ltime</th>\n",
       "      <th>seq</th>\n",
       "      <th>...</th>\n",
       "      <th>min</th>\n",
       "      <th>max</th>\n",
       "      <th>spkts</th>\n",
       "      <th>dpkts</th>\n",
       "      <th>sbytes</th>\n",
       "      <th>dbytes</th>\n",
       "      <th>rate</th>\n",
       "      <th>srate</th>\n",
       "      <th>drate</th>\n",
       "      <th>intrusion</th>\n",
       "    </tr>\n",
       "  </thead>\n",
       "  <tbody>\n",
       "    <tr>\n",
       "      <th>1</th>\n",
       "      <td>-1.732297</td>\n",
       "      <td>e</td>\n",
       "      <td>tcp</td>\n",
       "      <td>139</td>\n",
       "      <td>36390</td>\n",
       "      <td>0.004015</td>\n",
       "      <td>-0.009365</td>\n",
       "      <td>CON</td>\n",
       "      <td>-2.474600</td>\n",
       "      <td>-1.148851</td>\n",
       "      <td>...</td>\n",
       "      <td>-0.172376</td>\n",
       "      <td>-0.157645</td>\n",
       "      <td>-0.001174</td>\n",
       "      <td>0.011196</td>\n",
       "      <td>-0.010443</td>\n",
       "      <td>-0.006071</td>\n",
       "      <td>-0.194931</td>\n",
       "      <td>-0.078204</td>\n",
       "      <td>-0.099822</td>\n",
       "      <td>0</td>\n",
       "    </tr>\n",
       "    <tr>\n",
       "      <th>2</th>\n",
       "      <td>-1.732294</td>\n",
       "      <td>e</td>\n",
       "      <td>udp</td>\n",
       "      <td>51838</td>\n",
       "      <td>123</td>\n",
       "      <td>-0.012164</td>\n",
       "      <td>-0.010411</td>\n",
       "      <td>CON</td>\n",
       "      <td>-2.482075</td>\n",
       "      <td>-1.148839</td>\n",
       "      <td>...</td>\n",
       "      <td>0.089559</td>\n",
       "      <td>0.041903</td>\n",
       "      <td>-0.013247</td>\n",
       "      <td>-0.007665</td>\n",
       "      <td>-0.011294</td>\n",
       "      <td>-0.007203</td>\n",
       "      <td>-0.194317</td>\n",
       "      <td>-0.078205</td>\n",
       "      <td>-0.099823</td>\n",
       "      <td>0</td>\n",
       "    </tr>\n",
       "    <tr>\n",
       "      <th>4</th>\n",
       "      <td>-1.732287</td>\n",
       "      <td>e</td>\n",
       "      <td>udp</td>\n",
       "      <td>58999</td>\n",
       "      <td>53</td>\n",
       "      <td>-0.008119</td>\n",
       "      <td>-0.009470</td>\n",
       "      <td>CON</td>\n",
       "      <td>-2.478748</td>\n",
       "      <td>-1.148804</td>\n",
       "      <td>...</td>\n",
       "      <td>-0.073447</td>\n",
       "      <td>0.576892</td>\n",
       "      <td>-0.010229</td>\n",
       "      <td>-0.002950</td>\n",
       "      <td>-0.011019</td>\n",
       "      <td>-0.005477</td>\n",
       "      <td>-0.194931</td>\n",
       "      <td>-0.078205</td>\n",
       "      <td>-0.099822</td>\n",
       "      <td>0</td>\n",
       "    </tr>\n",
       "    <tr>\n",
       "      <th>7</th>\n",
       "      <td>-1.732276</td>\n",
       "      <td>e</td>\n",
       "      <td>udp</td>\n",
       "      <td>58360</td>\n",
       "      <td>53</td>\n",
       "      <td>-0.012164</td>\n",
       "      <td>-0.010427</td>\n",
       "      <td>INT</td>\n",
       "      <td>-2.481550</td>\n",
       "      <td>-1.148757</td>\n",
       "      <td>...</td>\n",
       "      <td>-0.172495</td>\n",
       "      <td>-0.157818</td>\n",
       "      <td>-0.010229</td>\n",
       "      <td>-0.012381</td>\n",
       "      <td>-0.011025</td>\n",
       "      <td>-0.007627</td>\n",
       "      <td>-0.194919</td>\n",
       "      <td>-0.078071</td>\n",
       "      <td>-0.099823</td>\n",
       "      <td>0</td>\n",
       "    </tr>\n",
       "    <tr>\n",
       "      <th>8</th>\n",
       "      <td>-1.732273</td>\n",
       "      <td>e</td>\n",
       "      <td>udp</td>\n",
       "      <td>37214</td>\n",
       "      <td>53</td>\n",
       "      <td>-0.012164</td>\n",
       "      <td>-0.010427</td>\n",
       "      <td>INT</td>\n",
       "      <td>-2.481540</td>\n",
       "      <td>-1.148488</td>\n",
       "      <td>...</td>\n",
       "      <td>-0.172495</td>\n",
       "      <td>-0.157818</td>\n",
       "      <td>-0.010229</td>\n",
       "      <td>-0.012381</td>\n",
       "      <td>-0.011025</td>\n",
       "      <td>-0.007627</td>\n",
       "      <td>-0.194919</td>\n",
       "      <td>-0.078071</td>\n",
       "      <td>-0.099823</td>\n",
       "      <td>0</td>\n",
       "    </tr>\n",
       "    <tr>\n",
       "      <th>...</th>\n",
       "      <td>...</td>\n",
       "      <td>...</td>\n",
       "      <td>...</td>\n",
       "      <td>...</td>\n",
       "      <td>...</td>\n",
       "      <td>...</td>\n",
       "      <td>...</td>\n",
       "      <td>...</td>\n",
       "      <td>...</td>\n",
       "      <td>...</td>\n",
       "      <td>...</td>\n",
       "      <td>...</td>\n",
       "      <td>...</td>\n",
       "      <td>...</td>\n",
       "      <td>...</td>\n",
       "      <td>...</td>\n",
       "      <td>...</td>\n",
       "      <td>...</td>\n",
       "      <td>...</td>\n",
       "      <td>...</td>\n",
       "      <td>...</td>\n",
       "    </tr>\n",
       "    <tr>\n",
       "      <th>999995</th>\n",
       "      <td>1.731930</td>\n",
       "      <td>e</td>\n",
       "      <td>tcp</td>\n",
       "      <td>49731</td>\n",
       "      <td>12020</td>\n",
       "      <td>-0.012164</td>\n",
       "      <td>-0.010536</td>\n",
       "      <td>RST</td>\n",
       "      <td>0.636627</td>\n",
       "      <td>0.962509</td>\n",
       "      <td>...</td>\n",
       "      <td>0.053703</td>\n",
       "      <td>0.014576</td>\n",
       "      <td>-0.013247</td>\n",
       "      <td>-0.007665</td>\n",
       "      <td>-0.011392</td>\n",
       "      <td>-0.007344</td>\n",
       "      <td>-0.194219</td>\n",
       "      <td>-0.078205</td>\n",
       "      <td>-0.099823</td>\n",
       "      <td>1</td>\n",
       "    </tr>\n",
       "    <tr>\n",
       "      <th>999996</th>\n",
       "      <td>1.731933</td>\n",
       "      <td>e</td>\n",
       "      <td>tcp</td>\n",
       "      <td>49731</td>\n",
       "      <td>60532</td>\n",
       "      <td>-0.012164</td>\n",
       "      <td>-0.010536</td>\n",
       "      <td>RST</td>\n",
       "      <td>0.636627</td>\n",
       "      <td>0.962521</td>\n",
       "      <td>...</td>\n",
       "      <td>0.053703</td>\n",
       "      <td>0.014576</td>\n",
       "      <td>-0.013247</td>\n",
       "      <td>-0.007665</td>\n",
       "      <td>-0.011392</td>\n",
       "      <td>-0.007344</td>\n",
       "      <td>-0.194219</td>\n",
       "      <td>-0.078205</td>\n",
       "      <td>-0.099823</td>\n",
       "      <td>1</td>\n",
       "    </tr>\n",
       "    <tr>\n",
       "      <th>999997</th>\n",
       "      <td>1.731937</td>\n",
       "      <td>e</td>\n",
       "      <td>tcp</td>\n",
       "      <td>49731</td>\n",
       "      <td>52144</td>\n",
       "      <td>-0.012164</td>\n",
       "      <td>-0.010536</td>\n",
       "      <td>RST</td>\n",
       "      <td>0.636627</td>\n",
       "      <td>0.962533</td>\n",
       "      <td>...</td>\n",
       "      <td>0.053633</td>\n",
       "      <td>0.014523</td>\n",
       "      <td>-0.013247</td>\n",
       "      <td>-0.007665</td>\n",
       "      <td>-0.011392</td>\n",
       "      <td>-0.007344</td>\n",
       "      <td>-0.194219</td>\n",
       "      <td>-0.078205</td>\n",
       "      <td>-0.099823</td>\n",
       "      <td>1</td>\n",
       "    </tr>\n",
       "    <tr>\n",
       "      <th>999998</th>\n",
       "      <td>1.731940</td>\n",
       "      <td>e</td>\n",
       "      <td>tcp</td>\n",
       "      <td>49731</td>\n",
       "      <td>58105</td>\n",
       "      <td>-0.012164</td>\n",
       "      <td>-0.010536</td>\n",
       "      <td>RST</td>\n",
       "      <td>0.636627</td>\n",
       "      <td>0.962544</td>\n",
       "      <td>...</td>\n",
       "      <td>0.053703</td>\n",
       "      <td>0.014576</td>\n",
       "      <td>-0.013247</td>\n",
       "      <td>-0.007665</td>\n",
       "      <td>-0.011392</td>\n",
       "      <td>-0.007344</td>\n",
       "      <td>-0.194219</td>\n",
       "      <td>-0.078205</td>\n",
       "      <td>-0.099823</td>\n",
       "      <td>1</td>\n",
       "    </tr>\n",
       "    <tr>\n",
       "      <th>999999</th>\n",
       "      <td>1.731944</td>\n",
       "      <td>e</td>\n",
       "      <td>tcp</td>\n",
       "      <td>49731</td>\n",
       "      <td>16416</td>\n",
       "      <td>-0.012164</td>\n",
       "      <td>-0.010536</td>\n",
       "      <td>RST</td>\n",
       "      <td>0.636627</td>\n",
       "      <td>0.962556</td>\n",
       "      <td>...</td>\n",
       "      <td>0.053708</td>\n",
       "      <td>0.014580</td>\n",
       "      <td>-0.013247</td>\n",
       "      <td>-0.007665</td>\n",
       "      <td>-0.011392</td>\n",
       "      <td>-0.007344</td>\n",
       "      <td>-0.194219</td>\n",
       "      <td>-0.078205</td>\n",
       "      <td>-0.099823</td>\n",
       "      <td>1</td>\n",
       "    </tr>\n",
       "  </tbody>\n",
       "</table>\n",
       "<p>999513 rows × 24 columns</p>\n",
       "</div>"
      ],
      "text/plain": [
       "         pkSeqID flgs proto  sport  dport      pkts     bytes state     ltime  \\\n",
       "1      -1.732297    e   tcp    139  36390  0.004015 -0.009365   CON -2.474600   \n",
       "2      -1.732294    e   udp  51838    123 -0.012164 -0.010411   CON -2.482075   \n",
       "4      -1.732287    e   udp  58999     53 -0.008119 -0.009470   CON -2.478748   \n",
       "7      -1.732276    e   udp  58360     53 -0.012164 -0.010427   INT -2.481550   \n",
       "8      -1.732273    e   udp  37214     53 -0.012164 -0.010427   INT -2.481540   \n",
       "...          ...  ...   ...    ...    ...       ...       ...   ...       ...   \n",
       "999995  1.731930    e   tcp  49731  12020 -0.012164 -0.010536   RST  0.636627   \n",
       "999996  1.731933    e   tcp  49731  60532 -0.012164 -0.010536   RST  0.636627   \n",
       "999997  1.731937    e   tcp  49731  52144 -0.012164 -0.010536   RST  0.636627   \n",
       "999998  1.731940    e   tcp  49731  58105 -0.012164 -0.010536   RST  0.636627   \n",
       "999999  1.731944    e   tcp  49731  16416 -0.012164 -0.010536   RST  0.636627   \n",
       "\n",
       "             seq  ...       min       max     spkts     dpkts    sbytes  \\\n",
       "1      -1.148851  ... -0.172376 -0.157645 -0.001174  0.011196 -0.010443   \n",
       "2      -1.148839  ...  0.089559  0.041903 -0.013247 -0.007665 -0.011294   \n",
       "4      -1.148804  ... -0.073447  0.576892 -0.010229 -0.002950 -0.011019   \n",
       "7      -1.148757  ... -0.172495 -0.157818 -0.010229 -0.012381 -0.011025   \n",
       "8      -1.148488  ... -0.172495 -0.157818 -0.010229 -0.012381 -0.011025   \n",
       "...          ...  ...       ...       ...       ...       ...       ...   \n",
       "999995  0.962509  ...  0.053703  0.014576 -0.013247 -0.007665 -0.011392   \n",
       "999996  0.962521  ...  0.053703  0.014576 -0.013247 -0.007665 -0.011392   \n",
       "999997  0.962533  ...  0.053633  0.014523 -0.013247 -0.007665 -0.011392   \n",
       "999998  0.962544  ...  0.053703  0.014576 -0.013247 -0.007665 -0.011392   \n",
       "999999  0.962556  ...  0.053708  0.014580 -0.013247 -0.007665 -0.011392   \n",
       "\n",
       "          dbytes      rate     srate     drate  intrusion  \n",
       "1      -0.006071 -0.194931 -0.078204 -0.099822          0  \n",
       "2      -0.007203 -0.194317 -0.078205 -0.099823          0  \n",
       "4      -0.005477 -0.194931 -0.078205 -0.099822          0  \n",
       "7      -0.007627 -0.194919 -0.078071 -0.099823          0  \n",
       "8      -0.007627 -0.194919 -0.078071 -0.099823          0  \n",
       "...          ...       ...       ...       ...        ...  \n",
       "999995 -0.007344 -0.194219 -0.078205 -0.099823          1  \n",
       "999996 -0.007344 -0.194219 -0.078205 -0.099823          1  \n",
       "999997 -0.007344 -0.194219 -0.078205 -0.099823          1  \n",
       "999998 -0.007344 -0.194219 -0.078205 -0.099823          1  \n",
       "999999 -0.007344 -0.194219 -0.078205 -0.099823          1  \n",
       "\n",
       "[999513 rows x 24 columns]"
      ]
     },
     "execution_count": 22,
     "metadata": {},
     "output_type": "execute_result"
    }
   ],
   "source": [
    "multi_data.drop(labels= [ 'attack'], axis=1, inplace=True)\n",
    "multi_data"
   ]
  },
  {
   "cell_type": "code",
   "execution_count": 31,
   "metadata": {},
   "outputs": [],
   "source": [
    "del multi_data['sport']\n",
    "del multi_data['dport']"
   ]
  },
  {
   "cell_type": "code",
   "execution_count": 32,
   "metadata": {},
   "outputs": [
    {
     "name": "stdout",
     "output_type": "stream",
     "text": [
      "<class 'pandas.core.frame.DataFrame'>\n",
      "Int64Index: 999513 entries, 1 to 999999\n",
      "Data columns (total 22 columns):\n",
      "pkSeqID      999513 non-null float64\n",
      "flgs         999513 non-null int32\n",
      "proto        999513 non-null int32\n",
      "pkts         999513 non-null float64\n",
      "bytes        999513 non-null float64\n",
      "state        999513 non-null int32\n",
      "ltime        999513 non-null float64\n",
      "seq          999513 non-null float64\n",
      "dur          999513 non-null float64\n",
      "mean         999513 non-null float64\n",
      "stddev       999513 non-null float64\n",
      "sum          999513 non-null float64\n",
      "min          999513 non-null float64\n",
      "max          999513 non-null float64\n",
      "spkts        999513 non-null float64\n",
      "dpkts        999513 non-null float64\n",
      "sbytes       999513 non-null float64\n",
      "dbytes       999513 non-null float64\n",
      "rate         999513 non-null float64\n",
      "srate        999513 non-null float64\n",
      "drate        999513 non-null float64\n",
      "intrusion    999513 non-null int64\n",
      "dtypes: float64(18), int32(3), int64(1)\n",
      "memory usage: 164.0 MB\n"
     ]
    }
   ],
   "source": [
    "multi_data.info()"
   ]
  },
  {
   "cell_type": "code",
   "execution_count": 33,
   "metadata": {},
   "outputs": [
    {
     "data": {
      "text/plain": [
       "array([0, 3, 7, 2, 8, 4, 6, 5, 1], dtype=int64)"
      ]
     },
     "execution_count": 33,
     "metadata": {},
     "output_type": "execute_result"
    }
   ],
   "source": [
    "# Import label encoder\n",
    "from sklearn import preprocessing\n",
    "\n",
    "# label_encoder object knows\n",
    "# how to understand word labels.\n",
    "label_encoder = preprocessing.LabelEncoder()\n",
    "\n",
    "# Encode labels in column 'species'.\n",
    "multi_data['flgs']= label_encoder.fit_transform(multi_data['flgs'])\n",
    "multi_data['proto']= label_encoder.fit_transform(multi_data['proto'])\n",
    "multi_data['state']= label_encoder.fit_transform(multi_data['state'])\n",
    "\n",
    "multi_data['flgs'].unique()\n",
    "multi_data['proto'].unique()\n",
    "multi_data['state'].unique()"
   ]
  },
  {
   "cell_type": "code",
   "execution_count": 34,
   "metadata": {},
   "outputs": [
    {
     "name": "stdout",
     "output_type": "stream",
     "text": [
      "<class 'pandas.core.frame.DataFrame'>\n",
      "Int64Index: 999513 entries, 1 to 999999\n",
      "Data columns (total 22 columns):\n",
      "pkSeqID      999513 non-null float64\n",
      "flgs         999513 non-null int64\n",
      "proto        999513 non-null int64\n",
      "pkts         999513 non-null float64\n",
      "bytes        999513 non-null float64\n",
      "state        999513 non-null int64\n",
      "ltime        999513 non-null float64\n",
      "seq          999513 non-null float64\n",
      "dur          999513 non-null float64\n",
      "mean         999513 non-null float64\n",
      "stddev       999513 non-null float64\n",
      "sum          999513 non-null float64\n",
      "min          999513 non-null float64\n",
      "max          999513 non-null float64\n",
      "spkts        999513 non-null float64\n",
      "dpkts        999513 non-null float64\n",
      "sbytes       999513 non-null float64\n",
      "dbytes       999513 non-null float64\n",
      "rate         999513 non-null float64\n",
      "srate        999513 non-null float64\n",
      "drate        999513 non-null float64\n",
      "intrusion    999513 non-null int64\n",
      "dtypes: float64(18), int64(4)\n",
      "memory usage: 175.4 MB\n"
     ]
    }
   ],
   "source": [
    "multi_data.info()"
   ]
  },
  {
   "cell_type": "code",
   "execution_count": 35,
   "metadata": {},
   "outputs": [],
   "source": [
    "X = multi_data.drop([\"intrusion\"],axis =1)\n",
    "y = multi_data[\"intrusion\"]"
   ]
  },
  {
   "cell_type": "markdown",
   "metadata": {},
   "source": [
    "# Feature Selection"
   ]
  },
  {
   "cell_type": "code",
   "execution_count": 36,
   "metadata": {},
   "outputs": [
    {
     "data": {
      "text/plain": [
       "(999513, 7)"
      ]
     },
     "execution_count": 36,
     "metadata": {},
     "output_type": "execute_result"
    }
   ],
   "source": [
    "from sklearn.feature_selection import SelectKBest, SelectPercentile, mutual_info_classif\n",
    "\n",
    "selector = SelectPercentile(mutual_info_classif, percentile=35)\n",
    "X_reduced = selector.fit_transform(X, y)\n",
    "X_reduced.shape\n"
   ]
  },
  {
   "cell_type": "code",
   "execution_count": 37,
   "metadata": {},
   "outputs": [
    {
     "data": {
      "text/plain": [
       "['proto', 'bytes', 'state', 'stddev', 'sbytes', 'srate', 'drate']"
      ]
     },
     "execution_count": 37,
     "metadata": {},
     "output_type": "execute_result"
    }
   ],
   "source": [
    "cols = selector.get_support(indices=True)\n",
    "selected_columns = X.iloc[:,cols].columns.tolist()\n",
    "selected_columns"
   ]
  },
  {
   "cell_type": "code",
   "execution_count": 39,
   "metadata": {},
   "outputs": [],
   "source": [
    "df = multi_data[['proto', 'bytes', 'state', 'stddev', 'sbytes', 'srate', 'drate','intrusion']]\n",
    "df.to_csv('botiot_processed.csv')"
   ]
  },
  {
   "cell_type": "code",
   "execution_count": 40,
   "metadata": {},
   "outputs": [
    {
     "data": {
      "text/plain": [
       "((799610, 7), (799610,), (199903, 7), (199903,))"
      ]
     },
     "execution_count": 40,
     "metadata": {},
     "output_type": "execute_result"
    }
   ],
   "source": [
    "from sklearn.model_selection import train_test_split\n",
    "\n",
    "X_train, X_test, y_train, y_test = train_test_split(X_reduced, y, test_size = 0.20, random_state = 42)\n",
    "X_train.shape, y_train.shape, X_test.shape, y_test.shape"
   ]
  },
  {
   "cell_type": "code",
   "execution_count": 41,
   "metadata": {},
   "outputs": [],
   "source": [
    "ML_Model = []\n",
    "accuracy = []\n",
    "precision = []\n",
    "recall = []\n",
    "f1score = []\n",
    "\n",
    "#function to call for storing the results\n",
    "def storeResults(model, a,b,c,d):\n",
    "    ML_Model.append(model)\n",
    "    accuracy.append(round(a, 3))\n",
    "    precision.append(round(b, 3))\n",
    "    recall.append(round(c, 3))\n",
    "    f1score.append(round(d, 3))"
   ]
  },
  {
   "cell_type": "markdown",
   "metadata": {},
   "source": [
    "# CNN"
   ]
  },
  {
   "cell_type": "code",
   "execution_count": 42,
   "metadata": {},
   "outputs": [],
   "source": [
    "from tensorflow.keras.models import Sequential\n",
    "from tensorflow.keras.layers import Dense\n",
    "from tensorflow.keras.models import Model, load_model\n",
    "from tensorflow.keras.utils import to_categorical\n",
    "from tensorflow.keras.layers import Dropout\n",
    "from tensorflow.keras.layers import Flatten\n",
    "from tensorflow.keras.layers import Conv1D\n",
    "from tensorflow.keras.layers import MaxPooling1D\n"
   ]
  },
  {
   "cell_type": "code",
   "execution_count": 43,
   "metadata": {},
   "outputs": [],
   "source": [
    "X_train = X_train.reshape(-1, X_train.shape[1],1)\n",
    "X_test = X_test.reshape(-1, X_test.shape[1],1)\n",
    "\n",
    "Y_train=to_categorical(y_train)\n",
    "Y_test=to_categorical(y_test)"
   ]
  },
  {
   "cell_type": "code",
   "execution_count": 44,
   "metadata": {},
   "outputs": [
    {
     "name": "stdout",
     "output_type": "stream",
     "text": [
      "Model: \"sequential\"\n",
      "_________________________________________________________________\n",
      "Layer (type)                 Output Shape              Param #   \n",
      "=================================================================\n",
      "conv1d (Conv1D)              (None, 6, 128)            384       \n",
      "_________________________________________________________________\n",
      "max_pooling1d (MaxPooling1D) (None, 3, 128)            0         \n",
      "_________________________________________________________________\n",
      "dropout (Dropout)            (None, 3, 128)            0         \n",
      "_________________________________________________________________\n",
      "flatten (Flatten)            (None, 384)               0         \n",
      "_________________________________________________________________\n",
      "dense (Dense)                (None, 2)                 770       \n",
      "=================================================================\n",
      "Total params: 1,154\n",
      "Trainable params: 1,154\n",
      "Non-trainable params: 0\n",
      "_________________________________________________________________\n",
      "Epoch 1/10\n",
      "2/2 [==============================] - 162s 159s/step - loss: 1.0554 - accuracy: 0.0000e+00 - val_loss: 0.7455 - val_accuracy: 0.0032\n",
      "Epoch 2/10\n",
      "2/2 [==============================] - 150s 150s/step - loss: 0.6959 - accuracy: 0.6250 - val_loss: 0.5414 - val_accuracy: 0.9980\n",
      "Epoch 3/10\n",
      "2/2 [==============================] - 149s 149s/step - loss: 0.4327 - accuracy: 1.0000 - val_loss: 0.3888 - val_accuracy: 0.9984\n",
      "Epoch 4/10\n",
      "2/2 [==============================] - 149s 149s/step - loss: 0.2803 - accuracy: 1.0000 - val_loss: 0.2807 - val_accuracy: 0.9984\n",
      "Epoch 5/10\n",
      "2/2 [==============================] - 149s 149s/step - loss: 0.3275 - accuracy: 1.0000 - val_loss: 0.2035 - val_accuracy: 0.9984\n",
      "Epoch 6/10\n",
      "2/2 [==============================] - 153s 153s/step - loss: 0.2098 - accuracy: 1.0000 - val_loss: 0.1495 - val_accuracy: 0.9984\n",
      "Epoch 7/10\n",
      "2/2 [==============================] - 154s 154s/step - loss: 0.1334 - accuracy: 1.0000 - val_loss: 0.1129 - val_accuracy: 0.9984\n",
      "Epoch 8/10\n",
      "2/2 [==============================] - 157s 157s/step - loss: 0.0777 - accuracy: 1.0000 - val_loss: 0.0881 - val_accuracy: 0.9984\n",
      "Epoch 9/10\n",
      "2/2 [==============================] - 156s 156s/step - loss: 0.0667 - accuracy: 1.0000 - val_loss: 0.0709 - val_accuracy: 0.9984\n",
      "Epoch 10/10\n",
      "2/2 [==============================] - 151s 151s/step - loss: 0.0853 - accuracy: 1.0000 - val_loss: 0.0587 - val_accuracy: 0.9984\n"
     ]
    }
   ],
   "source": [
    "verbose, epoch, batch_size = 1, 100, 4\n",
    "activationFunction='relu'\n",
    "\n",
    "def CNN():\n",
    "    \n",
    "    cnnmodel = Sequential()\n",
    "    cnnmodel.add(Conv1D(filters=128, kernel_size=2, activation='relu',input_shape=(X_train.shape[1],X_train.shape[2])))\n",
    "    cnnmodel.add(MaxPooling1D(pool_size=2))\n",
    "    cnnmodel.add(Dropout(rate=0.2))\n",
    "    cnnmodel.add(Flatten())\n",
    "    cnnmodel.add(Dense(2, activation='softmax'))\n",
    "    cnnmodel.compile(optimizer='adam', loss='categorical_crossentropy',metrics=['accuracy'])\n",
    "    cnnmodel.summary()\n",
    "    return cnnmodel\n",
    "\n",
    "cnnmodel = CNN()\n",
    "\n",
    "modelhistory= cnnmodel.fit(X_train, Y_train, epochs=10,steps_per_epoch=2, verbose=verbose, validation_split=0.2, batch_size = batch_size)"
   ]
  },
  {
   "cell_type": "code",
   "execution_count": 45,
   "metadata": {},
   "outputs": [
    {
     "data": {
      "image/png": "[encoded data removed]",
      "text/plain": [
       "<Figure size 432x288 with 1 Axes>"
      ]
     },
     "metadata": {
      "needs_background": "light"
     },
     "output_type": "display_data"
    },
    {
     "data": {
      "image/png": "[encoded data removed]",
      "text/plain": [
       "<Figure size 432x288 with 1 Axes>"
      ]
     },
     "metadata": {
      "needs_background": "light"
     },
     "output_type": "display_data"
    },
    {
     "name": "stdout",
     "output_type": "stream",
     "text": [
      "6247/6247 [==============================] - 10s 2ms/step\n",
      "6247/6247 [==============================] - 10s 2ms/step\n"
     ]
    }
   ],
   "source": [
    "# Plot training & validation loss values\n",
    "plt.plot(modelhistory.history['loss'])\n",
    "plt.plot(modelhistory.history['val_loss'])\n",
    "plt.title('Model loss')\n",
    "plt.ylabel('Loss')\n",
    "plt.xlabel('Epoch')\n",
    "plt.legend(['Train', 'Validation'], loc='upper left')\n",
    "plt.savefig('loss.png', format='png', dpi=1200)\n",
    "plt.show()\n",
    "\n",
    "\n",
    "# Plot training & validation accuracy values\n",
    "plt.plot(modelhistory.history['accuracy'])\n",
    "plt.plot(modelhistory.history['val_accuracy'])\n",
    "plt.title('Model accuracy')\n",
    "plt.ylabel('Accuracy')\n",
    "plt.xlabel('Epoch')\n",
    "plt.legend(['Train', 'Validation'], loc='upper left')\n",
    "plt.savefig('accuracy.png', format='png', dpi=1200)\n",
    "plt.show()\n",
    "\n",
    "cnnpredictions = cnnmodel.predict(X_test, verbose=1)\n",
    "cnn_predict=np.argmax(cnnpredictions,axis=1)\n",
    "\n",
    "y_pred = cnnmodel.predict(X_test, verbose=1)\n",
    "y_pred = np.argmax(y_pred,axis=1)\n",
    "\n",
    "#y_prob = cnnmodel.predict_proba(X_test)[:, 1]\n",
    "\n",
    "cnn_acc = accuracy_score(y_pred, y_test)\n",
    "cnn_prec = precision_score(y_pred, y_test,average='weighted')\n",
    "cnn_rec = recall_score(y_pred, y_test,average='weighted')\n",
    "cnn_f1 = f1_score(y_pred, y_test,average='weighted')\n",
    "\n",
    "#storeResults('CNN',dl_acc,dl_prec,dl_rec,dl_f1)"
   ]
  },
  {
   "cell_type": "code",
   "execution_count": 70,
   "metadata": {},
   "outputs": [],
   "source": [
    "storeResults('CNN',cnn_acc,cnn_prec,cnn_rec,cnn_f1)"
   ]
  },
  {
   "cell_type": "code",
   "execution_count": 46,
   "metadata": {},
   "outputs": [
    {
     "name": "stdout",
     "output_type": "stream",
     "text": [
      "WARNING:tensorflow:Layer lstm will not use cuDNN kernels since it doesn't meet the criteria. It will use a generic GPU kernel as fallback when running on GPU.\n",
      "WARNING:tensorflow:Layer lstm_1 will not use cuDNN kernels since it doesn't meet the criteria. It will use a generic GPU kernel as fallback when running on GPU.\n",
      "WARNING:tensorflow:Layer lstm_2 will not use cuDNN kernels since it doesn't meet the criteria. It will use a generic GPU kernel as fallback when running on GPU.\n",
      "WARNING:tensorflow:Layer lstm_3 will not use cuDNN kernels since it doesn't meet the criteria. It will use a generic GPU kernel as fallback when running on GPU.\n"
     ]
    }
   ],
   "source": [
    "from keras.models import Sequential\n",
    "from keras.layers import Dense, LSTM\n",
    "from keras.layers import Dropout\n",
    "from keras import regularizers\n",
    "import tensorflow as tf\n",
    "\n",
    "# define a function to build the keras model\n",
    "def create_model(input_shape):\n",
    "    # create model\n",
    "    d = 0.25\n",
    "    model = Sequential()\n",
    "    \n",
    "    model.add(LSTM(32, input_shape=input_shape, activation='relu', return_sequences=True))\n",
    "    model.add(Dropout(d))\n",
    "\n",
    "    model.add(LSTM(64, input_shape=input_shape, activation='relu', return_sequences=True))\n",
    "    model.add(Dropout(d))\n",
    "        \n",
    "    model.add(LSTM(128, input_shape=input_shape, activation='relu', return_sequences=True))\n",
    "    model.add(Dropout(d))\n",
    "\n",
    "    model.add(LSTM(256, input_shape=input_shape, activation='relu', return_sequences=False))\n",
    "    model.add(Dropout(d))\n",
    "   \n",
    "    model.add(Dense(32,kernel_initializer=\"uniform\",activation='relu'))        \n",
    "    model.add(Dense(1,kernel_initializer=\"uniform\",activation='linear'))\n",
    "    \n",
    "    # compile model\n",
    "    adam = tf.keras.optimizers.Adam(learning_rate=0.001, decay=0.00001)\n",
    "    #model.compile(loss='mse', optimizer='adam', metrics=['accuracy'])\n",
    "    model.compile(loss='categorical_crossentropy', optimizer='adam', metrics=['accuracy'])\n",
    "    #model.compile(loss='binary_crossentropy', optimizer='adam', metrics=['accuracy'])\n",
    "    return model\n",
    "\n",
    "model = create_model(input_shape=(14,1))\n",
    "#print(model.summary())"
   ]
  },
  {
   "cell_type": "code",
   "execution_count": 47,
   "metadata": {},
   "outputs": [
    {
     "name": "stdout",
     "output_type": "stream",
     "text": [
      "Epoch 1/10\n",
      "WARNING:tensorflow:Model was constructed with shape (None, 14, 1) for input KerasTensor(type_spec=TensorSpec(shape=(None, 14, 1), dtype=tf.float32, name='lstm_input'), name='lstm_input', description=\"created by layer 'lstm_input'\"), but it was called on an input with incompatible shape (5, 7, 1).\n",
      "WARNING:tensorflow:Model was constructed with shape (None, 14, 1) for input KerasTensor(type_spec=TensorSpec(shape=(None, 14, 1), dtype=tf.float32, name='lstm_input'), name='lstm_input', description=\"created by layer 'lstm_input'\"), but it was called on an input with incompatible shape (5, 7, 1).\n",
      "500/500 [==============================] - ETA: 0s - loss: 1.1873e-07 - accuracy: 0.0040WARNING:tensorflow:Model was constructed with shape (None, 14, 1) for input KerasTensor(type_spec=TensorSpec(shape=(None, 14, 1), dtype=tf.float32, name='lstm_input'), name='lstm_input', description=\"created by layer 'lstm_input'\"), but it was called on an input with incompatible shape (None, 7, 1).\n",
      "500/500 [==============================] - 128s 222ms/step - loss: 1.1873e-07 - accuracy: 0.0040 - val_loss: 1.1902e-07 - val_accuracy: 0.0016\n",
      "Epoch 2/10\n",
      "500/500 [==============================] - 110s 219ms/step - loss: 1.1913e-07 - accuracy: 6.7052e-04 - val_loss: 1.1902e-07 - val_accuracy: 0.0016\n",
      "Epoch 3/10\n",
      "500/500 [==============================] - 110s 220ms/step - loss: 1.1874e-07 - accuracy: 0.0040 - val_loss: 1.1902e-07 - val_accuracy: 0.0016\n",
      "Epoch 4/10\n",
      "500/500 [==============================] - 110s 220ms/step - loss: 1.1889e-07 - accuracy: 0.0027 - val_loss: 1.1902e-07 - val_accuracy: 0.0016\n",
      "Epoch 5/10\n",
      "500/500 [==============================] - 110s 221ms/step - loss: 1.1885e-07 - accuracy: 0.0030 - val_loss: 1.1902e-07 - val_accuracy: 0.0016\n",
      "Epoch 6/10\n",
      "500/500 [==============================] - 108s 215ms/step - loss: 1.1919e-07 - accuracy: 1.5810e-04 - val_loss: 1.1902e-07 - val_accuracy: 0.0016\n",
      "Epoch 7/10\n",
      "500/500 [==============================] - 110s 220ms/step - loss: 1.1914e-07 - accuracy: 6.1959e-04 - val_loss: 1.1902e-07 - val_accuracy: 0.0016\n",
      "Epoch 8/10\n",
      "500/500 [==============================] - 110s 219ms/step - loss: 1.1916e-07 - accuracy: 4.5529e-04 - val_loss: 1.1902e-07 - val_accuracy: 0.0016\n",
      "Epoch 9/10\n",
      "500/500 [==============================] - 109s 219ms/step - loss: 1.1918e-07 - accuracy: 2.7385e-04 - val_loss: 1.1902e-07 - val_accuracy: 0.0016\n",
      "Epoch 10/10\n",
      "500/500 [==============================] - 110s 219ms/step - loss: 1.1900e-07 - accuracy: 0.0017 - val_loss: 1.1902e-07 - val_accuracy: 0.0016\n"
     ]
    }
   ],
   "source": [
    "history=model.fit(X_train, y_train, validation_data=(X_test, y_test),epochs=10, batch_size=5, verbose=1, steps_per_epoch=500, validation_steps=500)"
   ]
  },
  {
   "cell_type": "code",
   "execution_count": 48,
   "metadata": {},
   "outputs": [
    {
     "data": {
      "image/png": "[encoded data removed]",
      "text/plain": [
       "<Figure size 432x288 with 1 Axes>"
      ]
     },
     "metadata": {
      "needs_background": "light"
     },
     "output_type": "display_data"
    },
    {
     "data": {
      "image/png": "[encoded data removed]",
      "text/plain": [
       "<Figure size 432x288 with 1 Axes>"
      ]
     },
     "metadata": {
      "needs_background": "light"
     },
     "output_type": "display_data"
    },
    {
     "name": "stdout",
     "output_type": "stream",
     "text": [
      "WARNING:tensorflow:Model was constructed with shape (None, 14, 1) for input KerasTensor(type_spec=TensorSpec(shape=(None, 14, 1), dtype=tf.float32, name='lstm_input'), name='lstm_input', description=\"created by layer 'lstm_input'\"), but it was called on an input with incompatible shape (None, 7, 1).\n",
      "6247/6247 [==============================] - 326s 52ms/step\n"
     ]
    }
   ],
   "source": [
    "# Plot training & validation loss values\n",
    "plt.plot(history.history['loss'])\n",
    "plt.plot(history.history['val_loss'])\n",
    "plt.title('Model loss')\n",
    "plt.ylabel('Loss')\n",
    "plt.xlabel('Epoch')\n",
    "plt.legend(['Train', 'Validation'], loc='upper left')\n",
    "plt.savefig('loss.png', format='png', dpi=1200)\n",
    "plt.show()\n",
    "\n",
    "\n",
    "# Plot training & validation accuracy values\n",
    "plt.plot(history.history['accuracy'])\n",
    "plt.plot(history.history['val_accuracy'])\n",
    "plt.title('Model accuracy')\n",
    "plt.ylabel('Accuracy')\n",
    "plt.xlabel('Epoch')\n",
    "plt.legend(['Train', 'Validation'], loc='upper left')\n",
    "plt.savefig('accuracy.png', format='png', dpi=1200)\n",
    "plt.show()\n",
    "\n",
    "y_pred = model.predict(X_test, verbose=1)\n",
    "y_pred = np.argmax(y_pred,axis=1)\n",
    "\n",
    "\n",
    "#y_prob = cnnmodel.predict_proba(X_test)[:, 1]\n",
    "\n",
    "dl_acc = accuracy_score(y_pred, y_test)\n",
    "dl_prec = precision_score(y_pred, y_test,average='weighted')\n",
    "dl_rec = recall_score(y_pred, y_test,average='weighted')\n",
    "dl_f1 = f1_score(y_pred, y_test,average='weighted')\n",
    "\n",
    "#storeResults('RNN',dl_acc,dl_prec,dl_rec,dl_f1)"
   ]
  },
  {
   "cell_type": "code",
   "execution_count": 71,
   "metadata": {},
   "outputs": [],
   "source": [
    "storeResults('RNN',dl_acc,dl_prec,dl_rec,dl_f1)"
   ]
  },
  {
   "cell_type": "code",
   "execution_count": 49,
   "metadata": {},
   "outputs": [
    {
     "name": "stdout",
     "output_type": "stream",
     "text": [
      "Model: \"sequential\"\n",
      "_________________________________________________________________\n",
      "Layer (type)                 Output Shape              Param #   \n",
      "=================================================================\n",
      "conv1d (Conv1D)              (None, 7, 64)             384       \n",
      "_________________________________________________________________\n",
      "max_pooling1d (MaxPooling1D) (None, 6, 64)             0         \n",
      "_________________________________________________________________\n",
      "conv1d_1 (Conv1D)            (None, 6, 32)             6176      \n",
      "_________________________________________________________________\n",
      "max_pooling1d_1 (MaxPooling1 (None, 5, 32)             0         \n",
      "_________________________________________________________________\n",
      "lstm (LSTM)                  (None, 5, 128)            82432     \n",
      "_________________________________________________________________\n",
      "flatten (Flatten)            (None, 640)               0         \n",
      "_________________________________________________________________\n",
      "dense (Dense)                (None, 128)               82048     \n",
      "_________________________________________________________________\n",
      "dropout (Dropout)            (None, 128)               0         \n",
      "_________________________________________________________________\n",
      "dense_1 (Dense)              (None, 32)                4128      \n",
      "_________________________________________________________________\n",
      "dropout_1 (Dropout)          (None, 32)                0         \n",
      "_________________________________________________________________\n",
      "dense_2 (Dense)              (None, 2)                 66        \n",
      "=================================================================\n",
      "Total params: 175,234\n",
      "Trainable params: 175,234\n",
      "Non-trainable params: 0\n",
      "_________________________________________________________________\n"
     ]
    }
   ],
   "source": [
    "import tensorflow as tf\n",
    "tf.keras.backend.clear_session()\n",
    "\n",
    "model_en = tf.keras.models.Sequential([tf.keras.layers.Conv1D(filters=64,kernel_size=5,strides=1,padding=\"causal\",activation=\"relu\",input_shape=(X_train.shape[1],X_train.shape[2])),\n",
    "    tf.keras.layers.MaxPooling1D(pool_size=2, strides=1, padding=\"valid\"),\n",
    "    tf.keras.layers.Conv1D(filters=32, kernel_size=3, strides=1, padding=\"causal\", activation=\"relu\"),\n",
    "    tf.keras.layers.MaxPooling1D(pool_size=2, strides=1, padding=\"valid\"),\n",
    "    tf.keras.layers.LSTM(128, return_sequences=True),\n",
    "    tf.keras.layers.Flatten(),\n",
    "    tf.keras.layers.Dense(128, activation=\"relu\"),\n",
    "    tf.keras.layers.Dropout(0.2),\n",
    "    tf.keras.layers.Dense(32, activation=\"relu\"),\n",
    "    tf.keras.layers.Dropout(0.1),\n",
    "    tf.keras.layers.Dense(2)\n",
    "])\n",
    "\n",
    "lr_schedule = tf.keras.optimizers.schedules.ExponentialDecay(5e-4,\n",
    "                                                             decay_steps=1000000,\n",
    "                                                             decay_rate=0.98,\n",
    "                                                             staircase=False)\n",
    "\n",
    "model_en.compile(loss=tf.keras.losses.MeanSquaredError(),\n",
    "              optimizer=tf.keras.optimizers.SGD(learning_rate=lr_schedule, momentum=0.8),\n",
    "              metrics=['acc'])\n",
    "model_en.summary()"
   ]
  },
  {
   "cell_type": "code",
   "execution_count": 50,
   "metadata": {},
   "outputs": [
    {
     "name": "stdout",
     "output_type": "stream",
     "text": [
      "Epoch 1/10\n",
      "159922/159922 [==============================] - 3875s 24ms/step - loss: 0.0023 - acc: 0.9981 - val_loss: 0.0015 - val_acc: 0.9985\n",
      "Epoch 2/10\n",
      "159922/159922 [==============================] - 3860s 24ms/step - loss: 0.0016 - acc: 0.9983 - val_loss: 0.0014 - val_acc: 0.9985\n",
      "Epoch 3/10\n",
      "159922/159922 [==============================] - 3861s 24ms/step - loss: 0.0016 - acc: 0.9983 - val_loss: 0.0014 - val_acc: 0.9985\n",
      "Epoch 4/10\n",
      "159922/159922 [==============================] - 3862s 24ms/step - loss: 0.0015 - acc: 0.9983 - val_loss: 0.0013 - val_acc: 0.9985\n",
      "Epoch 5/10\n",
      "159922/159922 [==============================] - 3862s 24ms/step - loss: 0.0014 - acc: 0.9983 - val_loss: 0.0011 - val_acc: 0.9985\n",
      "Epoch 6/10\n",
      "159922/159922 [==============================] - 3868s 24ms/step - loss: 0.0012 - acc: 0.9986 - val_loss: 0.0010 - val_acc: 0.9985\n",
      "Epoch 7/10\n",
      "159922/159922 [==============================] - 3863s 24ms/step - loss: 0.0011 - acc: 0.9989 - val_loss: 9.8282e-04 - val_acc: 0.9992\n",
      "Epoch 8/10\n",
      "159922/159922 [==============================] - 3860s 24ms/step - loss: 0.0011 - acc: 0.9989 - val_loss: 9.3009e-04 - val_acc: 0.9992\n",
      "Epoch 9/10\n",
      "159922/159922 [==============================] - 3849s 24ms/step - loss: 0.0010 - acc: 0.9990 - val_loss: 8.8757e-04 - val_acc: 0.9992\n",
      "Epoch 10/10\n",
      "159922/159922 [==============================] - 3745s 23ms/step - loss: 9.9920e-04 - acc: 0.9990 - val_loss: 8.3604e-04 - val_acc: 0.9992\n"
     ]
    }
   ],
   "source": [
    "modelhistory = model_en.fit(X_train, Y_train, epochs=10, verbose=verbose, validation_split=0.2, batch_size = batch_size)"
   ]
  },
  {
   "cell_type": "code",
   "execution_count": 51,
   "metadata": {},
   "outputs": [
    {
     "data": {
      "image/png": "[encoded data removed]",
      "text/plain": [
       "<Figure size 432x288 with 1 Axes>"
      ]
     },
     "metadata": {
      "needs_background": "light"
     },
     "output_type": "display_data"
    },
    {
     "data": {
      "image/png": "[encoded data removed]",
      "text/plain": [
       "<Figure size 432x288 with 1 Axes>"
      ]
     },
     "metadata": {
      "needs_background": "light"
     },
     "output_type": "display_data"
    }
   ],
   "source": [
    "# Plot of accuracy vs epoch for train and test dataset\n",
    "plt.plot(modelhistory.history['acc'])\n",
    "plt.plot(modelhistory.history['val_acc'])\n",
    "plt.title(\"Plot of accuracy vs epoch for train and test dataset\")\n",
    "plt.ylabel('accuracy')\n",
    "plt.xlabel('epoch')\n",
    "plt.show()\n",
    "\n",
    "# Plot of loss vs epoch for train and test dataset\n",
    "plt.plot(modelhistory.history['loss'])\n",
    "plt.plot(modelhistory.history['val_loss'])\n",
    "plt.title(\"Plot of loss vs epoch for train and test dataset\")\n",
    "plt.ylabel('loss')\n",
    "plt.xlabel('epoch')\n",
    "plt.legend(['train', 'test'], loc='upper right')\n",
    "plt.show()"
   ]
  },
  {
   "cell_type": "code",
   "execution_count": 52,
   "metadata": {},
   "outputs": [
    {
     "name": "stdout",
     "output_type": "stream",
     "text": [
      "6247/6247 [==============================] - 49s 8ms/step\n",
      "6247/6247 [==============================] - 49s 8ms/step\n"
     ]
    }
   ],
   "source": [
    "cnnpredictions = model_en.predict(X_test, verbose=1)\n",
    "cnn_predict=np.argmax(cnnpredictions,axis=1)\n",
    "\n",
    "y_pred = model_en.predict(X_test, verbose=1)\n",
    "y_pred = np.argmax(y_pred,axis=1)\n",
    "\n",
    "#y_prob = cnnmodel.predict_proba(X_test)[:, 1]\n",
    "\n",
    "ense_acc = accuracy_score(y_pred, y_test)\n",
    "ense_prec = precision_score(y_pred, y_test,average='weighted')\n",
    "ense_rec = recall_score(y_pred, y_test,average='weighted')\n",
    "ense_f1 = f1_score(y_pred, y_test,average='weighted')\n",
    "\n",
    "#storeResults('CNNLSTM',ense_acc,ense_prec,ense_rec,ense_f1)"
   ]
  },
  {
   "cell_type": "code",
   "execution_count": 81,
   "metadata": {},
   "outputs": [],
   "source": [
    "storeResults('CNN LSTM',ense_acc,ense_prec,ense_rec,ense_f1)"
   ]
  },
  {
   "cell_type": "code",
   "execution_count": 53,
   "metadata": {},
   "outputs": [
    {
     "name": "stdout",
     "output_type": "stream",
     "text": [
      "Model: \"sequential\"\n",
      "_________________________________________________________________\n",
      "Layer (type)                 Output Shape              Param #   \n",
      "=================================================================\n",
      "conv1d (Conv1D)              (None, 7, 128)            768       \n",
      "_________________________________________________________________\n",
      "max_pooling1d (MaxPooling1D) (None, 6, 128)            0         \n",
      "_________________________________________________________________\n",
      "conv1d_1 (Conv1D)            (None, 6, 64)             24640     \n",
      "_________________________________________________________________\n",
      "max_pooling1d_1 (MaxPooling1 (None, 5, 64)             0         \n",
      "_________________________________________________________________\n",
      "conv1d_2 (Conv1D)            (None, 5, 32)             6176      \n",
      "_________________________________________________________________\n",
      "max_pooling1d_2 (MaxPooling1 (None, 4, 32)             0         \n",
      "_________________________________________________________________\n",
      "bidirectional (Bidirectional (None, 4, 256)            164864    \n",
      "_________________________________________________________________\n",
      "flatten (Flatten)            (None, 1024)              0         \n",
      "_________________________________________________________________\n",
      "dense (Dense)                (None, 128)               131200    \n",
      "_________________________________________________________________\n",
      "dropout (Dropout)            (None, 128)               0         \n",
      "_________________________________________________________________\n",
      "dense_1 (Dense)              (None, 32)                4128      \n",
      "_________________________________________________________________\n",
      "dropout_1 (Dropout)          (None, 32)                0         \n",
      "_________________________________________________________________\n",
      "dense_2 (Dense)              (None, 2)                 66        \n",
      "=================================================================\n",
      "Total params: 331,842\n",
      "Trainable params: 331,842\n",
      "Non-trainable params: 0\n",
      "_________________________________________________________________\n"
     ]
    }
   ],
   "source": [
    "import tensorflow as tf\n",
    "tf.keras.backend.clear_session()\n",
    "\n",
    "model1 = tf.keras.models.Sequential([tf.keras.layers.Conv1D(filters=128,kernel_size=5,strides=1,padding=\"causal\",activation=\"relu\",input_shape=(X_train.shape[1],X_train.shape[2])),\n",
    "    tf.keras.layers.MaxPooling1D(pool_size=2, strides=1, padding=\"valid\"),\n",
    "    tf.keras.layers.Conv1D(filters=64, kernel_size=3, strides=1, padding=\"causal\", activation=\"relu\"),\n",
    "    tf.keras.layers.MaxPooling1D(pool_size=2, strides=1, padding=\"valid\"),\n",
    "    tf.keras.layers.Conv1D(filters=32, kernel_size=3, strides=1, padding=\"causal\", activation=\"relu\"),\n",
    "    tf.keras.layers.MaxPooling1D(pool_size=2, strides=1, padding=\"valid\"),\n",
    "    tf.keras.layers.Bidirectional(tf.keras.layers.LSTM(128, return_sequences=True)),\n",
    "    tf.keras.layers.Flatten(),\n",
    "    tf.keras.layers.Dense(128, activation=\"relu\"),\n",
    "    tf.keras.layers.Dropout(0.2),\n",
    "    tf.keras.layers.Dense(32, activation=\"relu\"),\n",
    "    tf.keras.layers.Dropout(0.1),\n",
    "    tf.keras.layers.Dense(2)\n",
    "])\n",
    "\n",
    "lr_schedule = tf.keras.optimizers.schedules.ExponentialDecay(5e-4,\n",
    "                                                             decay_steps=1000000,\n",
    "                                                             decay_rate=0.98,\n",
    "                                                             staircase=False)\n",
    "\n",
    "model1.compile(loss=tf.keras.losses.MeanSquaredError(),\n",
    "              optimizer=tf.keras.optimizers.SGD(learning_rate=lr_schedule, momentum=0.8),\n",
    "              metrics=['acc'])\n",
    "model1.summary()"
   ]
  },
  {
   "cell_type": "code",
   "execution_count": 54,
   "metadata": {},
   "outputs": [
    {
     "name": "stdout",
     "output_type": "stream",
     "text": [
      "Epoch 1/10\n",
      "159922/159922 [==============================] - 5763s 36ms/step - loss: 0.0023 - acc: 0.9982 - val_loss: 0.0015 - val_acc: 0.9985\n",
      "Epoch 2/10\n",
      "159922/159922 [==============================] - 5767s 36ms/step - loss: 0.0016 - acc: 0.9983 - val_loss: 0.0014 - val_acc: 0.9985\n",
      "Epoch 3/10\n",
      "159922/159922 [==============================] - 5089s 32ms/step - loss: 0.0016 - acc: 0.9983 - val_loss: 0.0014 - val_acc: 0.9985\n",
      "Epoch 4/10\n",
      "159922/159922 [==============================] - 2152s 13ms/step - loss: 0.0015 - acc: 0.9983 - val_loss: 0.0012 - val_acc: 0.9985\n",
      "Epoch 5/10\n",
      "159922/159922 [==============================] - 1352s 8ms/step - loss: 0.0013 - acc: 0.9984 - val_loss: 0.0011 - val_acc: 0.9985\n",
      "Epoch 6/10\n",
      "159922/159922 [==============================] - 1337s 8ms/step - loss: 0.0012 - acc: 0.9988 - val_loss: 0.0010 - val_acc: 0.9992\n",
      "Epoch 7/10\n",
      "159922/159922 [==============================] - 1354s 8ms/step - loss: 0.0011 - acc: 0.9989 - val_loss: 9.6603e-04 - val_acc: 0.9992\n",
      "Epoch 8/10\n",
      "159922/159922 [==============================] - 1359s 8ms/step - loss: 0.0011 - acc: 0.9990 - val_loss: 9.1804e-04 - val_acc: 0.9992\n",
      "Epoch 9/10\n",
      "159922/159922 [==============================] - 1339s 8ms/step - loss: 0.0010 - acc: 0.9990 - val_loss: 8.5486e-04 - val_acc: 0.9992\n",
      "Epoch 10/10\n",
      "159922/159922 [==============================] - 1349s 8ms/step - loss: 9.7611e-04 - acc: 0.9990 - val_loss: 8.0554e-04 - val_acc: 0.9992\n"
     ]
    }
   ],
   "source": [
    "modelhistory = model1.fit(X_train, Y_train, epochs=10, verbose=verbose, validation_split=0.2, batch_size = batch_size)"
   ]
  },
  {
   "cell_type": "code",
   "execution_count": 55,
   "metadata": {},
   "outputs": [
    {
     "data": {
      "image/png": "[encoded data removed]",
      "text/plain": [
       "<Figure size 432x288 with 1 Axes>"
      ]
     },
     "metadata": {
      "needs_background": "light"
     },
     "output_type": "display_data"
    },
    {
     "data": {
      "image/png": "[encoded data removed]",
      "text/plain": [
       "<Figure size 432x288 with 1 Axes>"
      ]
     },
     "metadata": {
      "needs_background": "light"
     },
     "output_type": "display_data"
    }
   ],
   "source": [
    "# Plot of accuracy vs epoch for train and test dataset\n",
    "plt.plot(modelhistory.history['acc'])\n",
    "plt.plot(modelhistory.history['val_acc'])\n",
    "plt.title(\"Plot of accuracy vs epoch for train and test dataset\")\n",
    "plt.ylabel('accuracy')\n",
    "plt.xlabel('epoch')\n",
    "plt.show()\n",
    "\n",
    "# Plot of loss vs epoch for train and test dataset\n",
    "plt.plot(modelhistory.history['loss'])\n",
    "plt.plot(modelhistory.history['val_loss'])\n",
    "plt.title(\"Plot of loss vs epoch for train and test dataset\")\n",
    "plt.ylabel('loss')\n",
    "plt.xlabel('epoch')\n",
    "plt.legend(['train', 'test'], loc='upper right')\n",
    "plt.show()"
   ]
  },
  {
   "cell_type": "code",
   "execution_count": 56,
   "metadata": {},
   "outputs": [
    {
     "name": "stdout",
     "output_type": "stream",
     "text": [
      "6247/6247 [==============================] - 17s 3ms/step\n"
     ]
    }
   ],
   "source": [
    "y_pred = model1.predict(X_test, verbose=1)\n",
    "y_pred = np.argmax(y_pred,axis=1)\n",
    "\n",
    "#y_prob = cnnmodel.predict_proba(X_test)[:, 1]\n",
    "\n",
    "ext_acc = accuracy_score(y_pred, y_test)\n",
    "ext_prec = precision_score(y_pred, y_test,average='weighted')\n",
    "ext_rec = recall_score(y_pred, y_test,average='weighted')\n",
    "ext_f1 = f1_score(y_pred, y_test,average='weighted')"
   ]
  },
  {
   "cell_type": "code",
   "execution_count": 72,
   "metadata": {},
   "outputs": [],
   "source": [
    "storeResults('RBM',ext_acc,ext_prec,ext_rec,ext_f1)"
   ]
  },
  {
   "cell_type": "markdown",
   "metadata": {},
   "source": [
    "# DNN with MLP"
   ]
  },
  {
   "cell_type": "code",
   "execution_count": 57,
   "metadata": {},
   "outputs": [],
   "source": [
    "from keras.layers import Activation, Dense, Dropout, BatchNormalization, Input\n",
    "from keras.models import Model\n",
    "from keras.callbacks import ReduceLROnPlateau, EarlyStopping"
   ]
  },
  {
   "cell_type": "code",
   "execution_count": 58,
   "metadata": {},
   "outputs": [],
   "source": [
    "X_train, X_test, y_train, y_test = train_test_split(X_reduced, y, test_size=0.33, random_state=1)"
   ]
  },
  {
   "cell_type": "code",
   "execution_count": 59,
   "metadata": {},
   "outputs": [],
   "source": [
    "n_inputs = X_train.shape[1]"
   ]
  },
  {
   "cell_type": "code",
   "execution_count": 60,
   "metadata": {},
   "outputs": [],
   "source": [
    "from sklearn.preprocessing import MinMaxScaler\n",
    "t = MinMaxScaler()\n",
    "t.fit(X_train)\n",
    "X_train = t.transform(X_train)\n",
    "X_test = t.transform(X_test)"
   ]
  },
  {
   "cell_type": "code",
   "execution_count": 61,
   "metadata": {},
   "outputs": [],
   "source": [
    "from tensorflow.keras.models import Model\n",
    "from tensorflow.keras.layers import Input\n",
    "from tensorflow.keras.layers import Dense\n",
    "from tensorflow.keras.layers import LeakyReLU\n",
    "from tensorflow.keras.layers import BatchNormalization\n",
    "\n",
    "# define encoder\n",
    "visible = Input(shape=(n_inputs,))\n",
    "\n",
    "# encoder level 1\n",
    "e = Dense(n_inputs * 2)(visible)\n",
    "e = BatchNormalization()(e)\n",
    "e = LeakyReLU()(e)\n",
    "\n",
    "# encoder level 2\n",
    "e = Dense(n_inputs)(e)\n",
    "e = BatchNormalization()(e)\n",
    "e = LeakyReLU()(e)\n",
    "\n",
    "# bottleneck\n",
    "n_bottleneck = n_inputs\n",
    "bottleneck = Dense(n_bottleneck)(e)"
   ]
  },
  {
   "cell_type": "code",
   "execution_count": 62,
   "metadata": {},
   "outputs": [],
   "source": [
    "# define decoder, level 1\n",
    "d = Dense(n_inputs)(bottleneck)\n",
    "d = BatchNormalization()(d)\n",
    "d = LeakyReLU()(d)\n",
    "\n",
    "# decoder level 2\n",
    "d = Dense(n_inputs*2)(d)\n",
    "d = BatchNormalization()(d)\n",
    "d = LeakyReLU()(d)\n",
    "\n",
    "# output layer\n",
    "output = Dense(n_inputs, activation='linear')(d)"
   ]
  },
  {
   "cell_type": "code",
   "execution_count": 63,
   "metadata": {},
   "outputs": [],
   "source": [
    "# define autoencoder model\n",
    "model = Model(inputs=visible, outputs=output)"
   ]
  },
  {
   "cell_type": "code",
   "execution_count": 64,
   "metadata": {},
   "outputs": [],
   "source": [
    "# compile autoencoder model\n",
    "model.compile(optimizer='adam', loss='mse')"
   ]
  },
  {
   "cell_type": "code",
   "execution_count": 65,
   "metadata": {},
   "outputs": [],
   "source": [
    "history = model.fit(X_train, X_train, epochs=10, batch_size=2, verbose=0, validation_data=(X_test,X_test))"
   ]
  },
  {
   "cell_type": "code",
   "execution_count": 66,
   "metadata": {},
   "outputs": [
    {
     "data": {
      "image/png": "[encoded data removed]",
      "text/plain": [
       "<Figure size 432x288 with 1 Axes>"
      ]
     },
     "metadata": {
      "needs_background": "light"
     },
     "output_type": "display_data"
    }
   ],
   "source": [
    "from tensorflow.keras.utils import plot_model\n",
    "from matplotlib import pyplot\n",
    "\n",
    "# plot loss\n",
    "pyplot.plot(history.history['loss'], label='train')\n",
    "pyplot.plot(history.history['val_loss'], label='test')\n",
    "pyplot.legend()\n",
    "pyplot.show()"
   ]
  },
  {
   "cell_type": "code",
   "execution_count": 67,
   "metadata": {},
   "outputs": [
    {
     "name": "stdout",
     "output_type": "stream",
     "text": [
      "('You must install pydot (`pip install pydot`) and install graphviz (see instructions at https://graphviz.gitlab.io/download/) ', 'for plot_model/model_to_dot to work.')\n",
      "WARNING:tensorflow:Compiled the loaded model, but the compiled metrics have yet to be built. `model.compile_metrics` will be empty until you train or evaluate the model.\n"
     ]
    }
   ],
   "source": [
    "# define an encoder model (without the decoder)\n",
    "encoder = Model(inputs=visible, outputs=bottleneck)\n",
    "plot_model(encoder, 'encoder_compress.png', show_shapes=True)\n",
    "\n",
    "# save the encoder to file\n",
    "encoder.save('encoder1.h5')"
   ]
  },
  {
   "cell_type": "code",
   "execution_count": 68,
   "metadata": {},
   "outputs": [],
   "source": [
    "# encode the train data\n",
    "X_train_encode = encoder.predict(X_train)\n",
    "# encode the test data\n",
    "X_test_encode = encoder.predict(X_test)\n",
    "## So effectively , its like dimensinality reduction or feature extraction\n",
    "\n",
    "# define the model\n",
    "from sklearn.neural_network import MLPClassifier\n",
    "model = MLPClassifier(random_state=1, max_iter=300)  \n",
    "## specifying max_iter = 200 , to avoid the CONVERGENCE WARNING\n",
    "## Why do we get CONVERGENCE WARNING ?\n",
    "## because the model has converged already , but our loop is still training ovwr many epochs.\n",
    "## Reduce the epochs\n",
    "\n",
    "# fit the model on the training set\n",
    "model.fit(X_train_encode, y_train)\n",
    "\n",
    "# make predictions on the test set\n",
    "yhat = model.predict(X_test_encode)\n",
    "\n",
    "# calculate classification accuracy\n",
    "acc = accuracy_score(y_test, yhat)"
   ]
  },
  {
   "cell_type": "code",
   "execution_count": 69,
   "metadata": {},
   "outputs": [],
   "source": [
    "dnn_acc = accuracy_score(y_test, yhat)\n",
    "dnn_prec = precision_score(y_test, yhat,average='weighted')\n",
    "dnn_rec = recall_score(y_test, yhat,average='weighted')\n",
    "dnn_f1 = f1_score(y_test, yhat,average='weighted')"
   ]
  },
  {
   "cell_type": "code",
   "execution_count": 73,
   "metadata": {},
   "outputs": [],
   "source": [
    "storeResults('DNN',dnn_acc,dnn_prec,dnn_rec,dnn_f1)"
   ]
  },
  {
   "cell_type": "markdown",
   "metadata": {},
   "source": [
    "# Comparison"
   ]
  },
  {
   "cell_type": "code",
   "execution_count": 82,
   "metadata": {},
   "outputs": [],
   "source": [
    "#creating dataframe\n",
    "result = pd.DataFrame({ 'ML Model' : ML_Model,\n",
    "                        'Accuracy' : accuracy,\n",
    "                        'Precision': precision,\n",
    "                        'Recall'   : recall,\n",
    "                        'F1-Score': f1score\n",
    "                      })"
   ]
  },
  {
   "cell_type": "code",
   "execution_count": 83,
   "metadata": {},
   "outputs": [
    {
     "data": {
      "text/html": [
       "<div>\n",
       "<style scoped>\n",
       "    .dataframe tbody tr th:only-of-type {\n",
       "        vertical-align: middle;\n",
       "    }\n",
       "\n",
       "    .dataframe tbody tr th {\n",
       "        vertical-align: top;\n",
       "    }\n",
       "\n",
       "    .dataframe thead th {\n",
       "        text-align: right;\n",
       "    }\n",
       "</style>\n",
       "<table border=\"1\" class=\"dataframe\">\n",
       "  <thead>\n",
       "    <tr style=\"text-align: right;\">\n",
       "      <th></th>\n",
       "      <th>ML Model</th>\n",
       "      <th>Accuracy</th>\n",
       "      <th>Precision</th>\n",
       "      <th>Recall</th>\n",
       "      <th>F1-Score</th>\n",
       "    </tr>\n",
       "  </thead>\n",
       "  <tbody>\n",
       "    <tr>\n",
       "      <th>0</th>\n",
       "      <td>CNN</td>\n",
       "      <td>0.998</td>\n",
       "      <td>1.000</td>\n",
       "      <td>0.998</td>\n",
       "      <td>0.999</td>\n",
       "    </tr>\n",
       "    <tr>\n",
       "      <th>1</th>\n",
       "      <td>RNN</td>\n",
       "      <td>0.002</td>\n",
       "      <td>1.000</td>\n",
       "      <td>0.002</td>\n",
       "      <td>0.003</td>\n",
       "    </tr>\n",
       "    <tr>\n",
       "      <th>2</th>\n",
       "      <td>RBM</td>\n",
       "      <td>0.999</td>\n",
       "      <td>1.000</td>\n",
       "      <td>0.999</td>\n",
       "      <td>0.999</td>\n",
       "    </tr>\n",
       "    <tr>\n",
       "      <th>3</th>\n",
       "      <td>DNN</td>\n",
       "      <td>0.999</td>\n",
       "      <td>0.999</td>\n",
       "      <td>0.999</td>\n",
       "      <td>0.999</td>\n",
       "    </tr>\n",
       "    <tr>\n",
       "      <th>4</th>\n",
       "      <td>CNN LSTM</td>\n",
       "      <td>0.999</td>\n",
       "      <td>1.000</td>\n",
       "      <td>0.999</td>\n",
       "      <td>0.999</td>\n",
       "    </tr>\n",
       "  </tbody>\n",
       "</table>\n",
       "</div>"
      ],
      "text/plain": [
       "   ML Model  Accuracy  Precision  Recall  F1-Score\n",
       "0       CNN     0.998      1.000   0.998     0.999\n",
       "1       RNN     0.002      1.000   0.002     0.003\n",
       "2       RBM     0.999      1.000   0.999     0.999\n",
       "3       DNN     0.999      0.999   0.999     0.999\n",
       "4  CNN LSTM     0.999      1.000   0.999     0.999"
      ]
     },
     "execution_count": 83,
     "metadata": {},
     "output_type": "execute_result"
    }
   ],
   "source": [
    "result"
   ]
  },
  {
   "cell_type": "code",
   "execution_count": 84,
   "metadata": {},
   "outputs": [],
   "source": [
    "classifier = ML_Model\n",
    "y_pos = np.arange(len(classifier))"
   ]
  },
  {
   "cell_type": "code",
   "execution_count": 85,
   "metadata": {},
   "outputs": [
    {
     "data": {
      "image/png": "[encoded data removed]",
      "text/plain": [
       "<Figure size 432x288 with 1 Axes>"
      ]
     },
     "metadata": {
      "needs_background": "light"
     },
     "output_type": "display_data"
    }
   ],
   "source": [
    "import matplotlib.pyplot as plt2\n",
    "plt2.barh(y_pos, accuracy, align='center', alpha=0.5,color='blue')\n",
    "plt2.yticks(y_pos, classifier)\n",
    "plt2.xlabel('Accuracy Score')\n",
    "plt2.title('Classification Performance')\n",
    "plt2.show()"
   ]
  },
  {
   "cell_type": "code",
   "execution_count": 86,
   "metadata": {},
   "outputs": [
    {
     "data": {
      "image/png": "[encoded data removed]",
      "text/plain": [
       "<Figure size 432x288 with 1 Axes>"
      ]
     },
     "metadata": {
      "needs_background": "light"
     },
     "output_type": "display_data"
    }
   ],
   "source": [
    "plt2.barh(y_pos, precision, align='center', alpha=0.5,color='red')\n",
    "plt2.yticks(y_pos, classifier)\n",
    "plt2.xlabel('Precision Score')\n",
    "plt2.title('Classification Performance')\n",
    "plt2.show()"
   ]
  },
  {
   "cell_type": "code",
   "execution_count": 87,
   "metadata": {},
   "outputs": [
    {
     "data": {
      "image/png": "[encoded data removed]",
      "text/plain": [
       "<Figure size 432x288 with 1 Axes>"
      ]
     },
     "metadata": {
      "needs_background": "light"
     },
     "output_type": "display_data"
    }
   ],
   "source": [
    "plt2.barh(y_pos, recall, align='center', alpha=0.5,color='cyan')\n",
    "plt2.yticks(y_pos, classifier)\n",
    "plt2.xlabel('Recall Score')\n",
    "plt2.title('Classification Performance')\n",
    "plt2.show()"
   ]
  },
  {
   "cell_type": "code",
   "execution_count": 88,
   "metadata": {},
   "outputs": [
    {
     "data": {
      "image/png": "[encoded data removed]",
      "text/plain": [
       "<Figure size 432x288 with 1 Axes>"
      ]
     },
     "metadata": {
      "needs_background": "light"
     },
     "output_type": "display_data"
    }
   ],
   "source": [
    "plt2.barh(y_pos, f1score, align='center', alpha=0.5,color='magenta')\n",
    "plt2.yticks(y_pos, classifier)\n",
    "plt2.xlabel('F1 Score')\n",
    "plt2.title('Classification Performance')\n",
    "plt2.show()"
   ]
  },
  {
   "cell_type": "code",
   "execution_count": null,
   "metadata": {},
   "outputs": [],
   "source": []
  },
  {
   "cell_type": "code",
   "execution_count": 89,
   "metadata": {},
   "outputs": [],
   "source": [
    "model_en.save('botiot.h5')"
   ]
  },
  {
   "cell_type": "code",
   "execution_count": null,
   "metadata": {},
   "outputs": [],
   "source": []
  }
 ],
 "metadata": {
  "kernelspec": {
   "display_name": "Python 3",
   "language": "python",
   "name": "python3"
  },
  "language_info": {
   "codemirror_mode": {
    "name": "ipython",
    "version": 3
   },
   "file_extension": ".py",
   "mimetype": "text/x-python",
   "name": "python",
   "nbconvert_exporter": "python",
   "pygments_lexer": "ipython3",
   "version": "3.7.4"
  }
 },
 "nbformat": 4,
 "nbformat_minor": 2
}
